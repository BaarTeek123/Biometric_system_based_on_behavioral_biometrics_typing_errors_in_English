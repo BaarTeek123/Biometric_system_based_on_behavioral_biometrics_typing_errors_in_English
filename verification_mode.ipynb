{
 "cells": [
  {
   "cell_type": "markdown",
   "source": [
    "# Identifiation system basing on behavioral biometrics: typing errors"
   ],
   "metadata": {
    "collapsed": false
   },
   "id": "75be4e784c2f006c"
  },
  {
   "cell_type": "markdown",
   "source": [
    "## Configuration\n",
    "### Load dependencies"
   ],
   "metadata": {
    "collapsed": false
   },
   "id": "6d87fe5a78cbc622"
  },
  {
   "cell_type": "code",
   "execution_count": 1,
   "outputs": [
    {
     "name": "stderr",
     "output_type": "stream",
     "text": [
      "2023-08-22 06:55:52.189958: I tensorflow/tsl/cuda/cudart_stub.cc:28] Could not find cuda drivers on your machine, GPU will not be used.\n",
      "2023-08-22 06:55:52.230315: I tensorflow/tsl/cuda/cudart_stub.cc:28] Could not find cuda drivers on your machine, GPU will not be used.\n",
      "2023-08-22 06:55:52.230947: I tensorflow/core/platform/cpu_feature_guard.cc:182] This TensorFlow binary is optimized to use available CPU instructions in performance-critical operations.\n",
      "To enable the following instructions: AVX2 FMA, in other operations, rebuild TensorFlow with the appropriate compiler flags.\n",
      "2023-08-22 06:55:53.007838: W tensorflow/compiler/tf2tensorrt/utils/py_utils.cc:38] TF-TRT Warning: Could not find TensorRT\n"
     ]
    },
    {
     "name": "stdout",
     "output_type": "stream",
     "text": [
      "Num GPUs Available:  0\n",
      "[]\n",
      "2023-08-22 06:55:53,738 — matplotlib — DEBUG — matplotlib data path: /home/bartek/PycharmProjects/Biometric_system_based_on_behavioral_biometrics_typing_errors_in_English/venv/lib/python3.11/site-packages/matplotlib/mpl-data\n",
      "2023-08-22 06:55:53,743 — matplotlib — DEBUG — CONFIGDIR=/home/bartek/.config/matplotlib\n",
      "2023-08-22 06:55:53,745 — matplotlib — DEBUG — interactive is False\n",
      "2023-08-22 06:55:53,745 — matplotlib — DEBUG — platform is linux\n",
      "2023-08-22 06:55:53,797 — matplotlib — DEBUG — CACHEDIR=/home/bartek/.cache/matplotlib\n",
      "2023-08-22 06:55:53,800 — matplotlib.font_manager — DEBUG — Using fontManager instance from /home/bartek/.cache/matplotlib/fontlist-v330.json\n"
     ]
    }
   ],
   "source": [
    "import pandas as pd\n",
    "from sklearn.ensemble import RandomForestClassifier, GradientBoostingClassifier\n",
    "from sklearn.neighbors import KNeighborsClassifier\n",
    "from classifiers import build_tuned_nn, build_tuned_rfc, param_grid\n",
    "from sklearn.neural_network import MLPClassifier\n",
    "from sklearn.svm import SVC\n",
    "from sklearn.utils import shuffle\n",
    "import numpy as np\n",
    "from sklearn.base import ClassifierMixin\n",
    "from sklearn.metrics import  confusion_matrix\n",
    "from sklearn.utils import resample\n",
    "from tensorflow import config\n",
    "from cv import run_cv, run_cv_neural_network\n",
    "from create_model import create_dataset, NUMBER_OF_FEATURES, N_GRAM_SIZE\n",
    "from sklearn.preprocessing import Normalizer, StandardScaler"
   ],
   "metadata": {
    "collapsed": false,
    "ExecuteTime": {
     "end_time": "2023-08-22T04:55:54.091536162Z",
     "start_time": "2023-08-22T04:55:50.981621134Z"
    }
   },
   "id": "29decfd3fa8c69c1"
  },
  {
   "cell_type": "markdown",
   "source": [
    "#### Configure GPUs"
   ],
   "metadata": {
    "collapsed": false
   },
   "id": "ab9cb2048f9e359c"
  },
  {
   "cell_type": "code",
   "execution_count": 2,
   "outputs": [],
   "source": [
    "gpus = config.experimental.list_physical_devices('GPU')\n",
    "for gpu in gpus:\n",
    "    config.experimental.set_memory_growth(gpu, True)\n",
    "    print(gpu)"
   ],
   "metadata": {
    "collapsed": false,
    "ExecuteTime": {
     "end_time": "2023-08-22T04:55:54.099383289Z",
     "start_time": "2023-08-22T04:55:54.095843556Z"
    }
   },
   "id": "b3116a78f19356ff"
  },
  {
   "cell_type": "markdown",
   "source": [
    "## Define classifiers"
   ],
   "metadata": {
    "collapsed": false
   },
   "id": "bcc7e3e8d25ee1c0"
  },
  {
   "cell_type": "code",
   "execution_count": 3,
   "outputs": [],
   "source": [
    "CLASSIFIERS = [\n",
    "               (RandomForestClassifier(max_depth=None,              # Allow trees to grow as deep as they can\n",
    "                                    min_impurity_decrease=0.001),  # Avoid splits that don't provide at least 0.001 impurity decrease\n",
    "     \n",
    "     param_grid['Random Forest'], 'Random Forest'),\n",
    "\n",
    "    (KNeighborsClassifier(), param_grid['K-Nearest Neighbors'], 'K-Nearest Neighbors'),\n",
    "    (SVC(probability=True), param_grid['SVC'], 'SVC'),\n",
    "\n",
    "        (GradientBoostingClassifier(),\n",
    "         param_grid['Gradient Boosting'],\n",
    "         'Gradient Boosting'),\n",
    "\n",
    "        (MLPClassifier(), param_grid['MLP Classifier'], 'MLP Classifier'),\n",
    "]"
   ],
   "metadata": {
    "collapsed": false,
    "ExecuteTime": {
     "end_time": "2023-08-22T04:55:54.109325568Z",
     "start_time": "2023-08-22T04:55:54.098661579Z"
    }
   },
   "id": "19591ec1f0b7d464"
  },
  {
   "cell_type": "markdown",
   "source": [
    "## Load dataset"
   ],
   "metadata": {
    "collapsed": false
   },
   "id": "488801405899c8a8"
  },
  {
   "cell_type": "code",
   "execution_count": 4,
   "outputs": [
    {
     "name": "stdout",
     "output_type": "stream",
     "text": [
      "2023-08-22 06:55:54,105 — logger — DEBUG — ----- load_data: start -----\n",
      "2023-08-22 06:55:54,107 — logger — DEBUG — ----- get_misspelled_words_df_from_json: start -----\n",
      "2023-08-22 06:55:54,202 — logger — DEBUG — ----- get_misspelled_words_df_from_json: finished in 0.10 seconds)-----\n",
      "2023-08-22 06:55:54,203 — logger — DEBUG — ----- get_misspelled_words_df_from_json: start -----\n",
      "2023-08-22 06:55:54,377 — logger — DEBUG — ----- get_misspelled_words_df_from_json: finished in 0.17 seconds)-----\n",
      "2023-08-22 06:55:54,378 — logger — DEBUG — ----- get_misspelled_words_df_from_json: start -----\n",
      "2023-08-22 06:55:54,467 — logger — DEBUG — ----- get_misspelled_words_df_from_json: finished in 0.09 seconds)-----\n",
      "2023-08-22 06:55:54,467 — logger — DEBUG — ----- get_misspelled_words_df_from_json: start -----\n",
      "2023-08-22 06:55:54,543 — logger — DEBUG — ----- get_misspelled_words_df_from_json: finished in 0.07 seconds)-----\n",
      "2023-08-22 06:55:54,543 — logger — DEBUG — ----- get_misspelled_words_df_from_json: start -----\n",
      "2023-08-22 06:55:54,590 — logger — DEBUG — ----- get_misspelled_words_df_from_json: finished in 0.05 seconds)-----\n",
      "2023-08-22 06:55:54,591 — logger — DEBUG — ----- get_misspelled_words_df_from_json: start -----\n",
      "2023-08-22 06:55:54,644 — logger — DEBUG — ----- get_misspelled_words_df_from_json: finished in 0.05 seconds)-----\n",
      "2023-08-22 06:55:54,645 — logger — DEBUG — ----- get_misspelled_words_df_from_json: start -----\n",
      "2023-08-22 06:55:54,693 — logger — DEBUG — ----- get_misspelled_words_df_from_json: finished in 0.05 seconds)-----\n",
      "2023-08-22 06:55:54,694 — logger — DEBUG — ----- get_misspelled_words_df_from_json: start -----\n",
      "2023-08-22 06:55:54,760 — logger — DEBUG — ----- get_misspelled_words_df_from_json: finished in 0.07 seconds)-----\n",
      "2023-08-22 06:55:54,762 — logger — DEBUG — ----- load_data: finished in 0.66 seconds)-----\n",
      "2023-08-22 06:55:54,762 — logger — DEBUG — ----- create_labeled_test_and_train_buckets: start -----\n",
      "2023-08-22 06:55:54,764 — logger — DEBUG — ----- create_labeled_test_and_train_buckets: finished in 0.00 seconds)-----\n",
      "2023-08-22 06:55:54,764 — logger — DEBUG — ----- scale_data: start -----\n",
      "2023-08-22 06:55:54,768 — logger — DEBUG — ----- scale_data: finished in 0.00 seconds)-----\n",
      "2023-08-22 06:55:54,768 — logger — DEBUG — ----- choose_features: start -----\n",
      "2023-08-22 06:55:54,770 — logger — DEBUG — ----- choose_features: finished in 0.00 seconds)-----\n",
      "2023-08-22 06:55:54,771 — logger — DEBUG — ----- create_users_ngrams: start -----\n",
      "2 {'Jakub': 0, 'Jula': 1, 'Babol': 2, 'Nata': 3, 'Bartek': 4, 'Mieszko': 5, 'Miki': 6, 'Zuz': 7}\n",
      "2023-08-22 06:55:54,773 — logger — DEBUG — ----- _create_an_user_ngram: start -----\n",
      "2023-08-22 06:55:54,773 — logger — ERROR — Requested 35000 combinations, but only 1485 are possible.\n",
      "NoneType: None\n",
      "2023-08-22 06:55:54,774 — logger — INFO — Dropped 0 duplcates.\n",
      "2023-08-22 06:55:54,890 — logger — DEBUG — ----- _create_an_user_ngram: finished in 0.12 seconds)-----\n",
      "6 {'Jakub': 0, 'Jula': 1, 'Babol': 2, 'Nata': 3, 'Bartek': 4, 'Mieszko': 5, 'Miki': 6, 'Zuz': 7}\n",
      "2023-08-22 06:55:54,891 — logger — DEBUG — ----- _create_an_user_ngram: start -----\n",
      "2023-08-22 06:55:54,891 — logger — ERROR — Requested 35000 combinations, but only 351 are possible.\n",
      "NoneType: None\n",
      "2023-08-22 06:55:54,892 — logger — INFO — Dropped 0 duplcates.\n",
      "2023-08-22 06:55:54,924 — logger — DEBUG — ----- _create_an_user_ngram: finished in 0.03 seconds)-----\n",
      "1 {'Jakub': 0, 'Jula': 1, 'Babol': 2, 'Nata': 3, 'Bartek': 4, 'Mieszko': 5, 'Miki': 6, 'Zuz': 7}\n",
      "2023-08-22 06:55:54,925 — logger — DEBUG — ----- _create_an_user_ngram: start -----\n",
      "2023-08-22 06:55:54,926 — logger — ERROR — Requested 35000 combinations, but only 11476 are possible.\n",
      "NoneType: None\n",
      "2023-08-22 06:55:54,930 — logger — INFO — Dropped 0 duplcates.\n",
      "2023-08-22 06:55:55,766 — logger — DEBUG — ----- _create_an_user_ngram: finished in 0.84 seconds)-----\n",
      "4 {'Jakub': 0, 'Jula': 1, 'Babol': 2, 'Nata': 3, 'Bartek': 4, 'Mieszko': 5, 'Miki': 6, 'Zuz': 7}\n",
      "2023-08-22 06:55:55,769 — logger — DEBUG — ----- _create_an_user_ngram: start -----\n",
      "2023-08-22 06:55:55,769 — logger — ERROR — Requested 35000 combinations, but only 780 are possible.\n",
      "NoneType: None\n",
      "2023-08-22 06:55:55,770 — logger — INFO — Dropped 0 duplcates.\n",
      "2023-08-22 06:55:55,823 — logger — DEBUG — ----- _create_an_user_ngram: finished in 0.05 seconds)-----\n",
      "3 {'Jakub': 0, 'Jula': 1, 'Babol': 2, 'Nata': 3, 'Bartek': 4, 'Mieszko': 5, 'Miki': 6, 'Zuz': 7}\n",
      "2023-08-22 06:55:55,826 — logger — DEBUG — ----- _create_an_user_ngram: start -----\n",
      "2023-08-22 06:55:55,826 — logger — ERROR — Requested 35000 combinations, but only 946 are possible.\n",
      "NoneType: None\n",
      "2023-08-22 06:55:55,827 — logger — INFO — Dropped 0 duplcates.\n",
      "2023-08-22 06:55:55,892 — logger — DEBUG — ----- _create_an_user_ngram: finished in 0.07 seconds)-----\n",
      "5 {'Jakub': 0, 'Jula': 1, 'Babol': 2, 'Nata': 3, 'Bartek': 4, 'Mieszko': 5, 'Miki': 6, 'Zuz': 7}\n",
      "2023-08-22 06:55:55,894 — logger — DEBUG — ----- _create_an_user_ngram: start -----\n",
      "2023-08-22 06:55:55,894 — logger — ERROR — Requested 35000 combinations, but only 903 are possible.\n",
      "NoneType: None\n",
      "2023-08-22 06:55:55,895 — logger — INFO — Dropped 0 duplcates.\n",
      "2023-08-22 06:55:55,949 — logger — DEBUG — ----- _create_an_user_ngram: finished in 0.05 seconds)-----\n",
      "0 {'Jakub': 0, 'Jula': 1, 'Babol': 2, 'Nata': 3, 'Bartek': 4, 'Mieszko': 5, 'Miki': 6, 'Zuz': 7}\n",
      "2023-08-22 06:55:55,950 — logger — DEBUG — ----- _create_an_user_ngram: start -----\n",
      "2023-08-22 06:55:55,951 — logger — ERROR — Requested 35000 combinations, but only 990 are possible.\n",
      "NoneType: None\n",
      "2023-08-22 06:55:55,952 — logger — INFO — Dropped 0 duplcates.\n",
      "2023-08-22 06:55:56,032 — logger — DEBUG — ----- _create_an_user_ngram: finished in 0.08 seconds)-----\n",
      "7 {'Jakub': 0, 'Jula': 1, 'Babol': 2, 'Nata': 3, 'Bartek': 4, 'Mieszko': 5, 'Miki': 6, 'Zuz': 7}\n",
      "2023-08-22 06:55:56,033 — logger — DEBUG — ----- _create_an_user_ngram: start -----\n",
      "2023-08-22 06:55:56,034 — logger — ERROR — Requested 35000 combinations, but only 496 are possible.\n",
      "NoneType: None\n",
      "2023-08-22 06:55:56,034 — logger — INFO — Dropped 0 duplcates.\n",
      "2023-08-22 06:55:56,085 — logger — DEBUG — ----- _create_an_user_ngram: finished in 0.05 seconds)-----\n",
      "2023-08-22 06:55:56,086 — logger — INFO — Created 17427 n-grams (2178 per user)\n",
      "2023-08-22 06:55:56,088 — logger — DEBUG — ----- create_users_ngrams: finished in 1.32 seconds)-----\n",
      "2023-08-22 06:55:56,089 — logger — DEBUG — ----- create_users_ngrams: start -----\n",
      "1 {'Jakub': 0, 'Jula': 1, 'Babol': 2, 'Nata': 3, 'Bartek': 4, 'Mieszko': 5, 'Miki': 6, 'Zuz': 7}\n",
      "2023-08-22 06:55:56,090 — logger — DEBUG — ----- _create_an_user_ngram: start -----\n",
      "2023-08-22 06:55:56,091 — logger — ERROR — Requested 35000 combinations, but only 11175 are possible.\n",
      "NoneType: None\n",
      "2023-08-22 06:55:56,096 — logger — INFO — Dropped 0 duplcates.\n",
      "2023-08-22 06:55:56,827 — logger — DEBUG — ----- _create_an_user_ngram: finished in 0.74 seconds)-----\n",
      "4 {'Jakub': 0, 'Jula': 1, 'Babol': 2, 'Nata': 3, 'Bartek': 4, 'Mieszko': 5, 'Miki': 6, 'Zuz': 7}\n",
      "2023-08-22 06:55:56,828 — logger — DEBUG — ----- _create_an_user_ngram: start -----\n",
      "2023-08-22 06:55:56,829 — logger — ERROR — Requested 35000 combinations, but only 210 are possible.\n",
      "NoneType: None\n",
      "2023-08-22 06:55:56,829 — logger — INFO — Dropped 0 duplcates.\n",
      "2023-08-22 06:55:56,850 — logger — DEBUG — ----- _create_an_user_ngram: finished in 0.02 seconds)-----\n",
      "7 {'Jakub': 0, 'Jula': 1, 'Babol': 2, 'Nata': 3, 'Bartek': 4, 'Mieszko': 5, 'Miki': 6, 'Zuz': 7}\n",
      "2023-08-22 06:55:56,852 — logger — DEBUG — ----- _create_an_user_ngram: start -----\n",
      "2023-08-22 06:55:56,852 — logger — ERROR — Requested 35000 combinations, but only 378 are possible.\n",
      "NoneType: None\n",
      "2023-08-22 06:55:56,853 — logger — INFO — Dropped 0 duplcates.\n",
      "2023-08-22 06:55:56,880 — logger — DEBUG — ----- _create_an_user_ngram: finished in 0.03 seconds)-----\n",
      "5 {'Jakub': 0, 'Jula': 1, 'Babol': 2, 'Nata': 3, 'Bartek': 4, 'Mieszko': 5, 'Miki': 6, 'Zuz': 7}\n",
      "2023-08-22 06:55:56,882 — logger — DEBUG — ----- _create_an_user_ngram: start -----\n",
      "2023-08-22 06:55:56,883 — logger — ERROR — Requested 35000 combinations, but only 595 are possible.\n",
      "NoneType: None\n",
      "2023-08-22 06:55:56,884 — logger — INFO — Dropped 0 duplcates.\n",
      "2023-08-22 06:55:56,922 — logger — DEBUG — ----- _create_an_user_ngram: finished in 0.04 seconds)-----\n",
      "0 {'Jakub': 0, 'Jula': 1, 'Babol': 2, 'Nata': 3, 'Bartek': 4, 'Mieszko': 5, 'Miki': 6, 'Zuz': 7}\n",
      "2023-08-22 06:55:56,924 — logger — DEBUG — ----- _create_an_user_ngram: start -----\n",
      "2023-08-22 06:55:56,924 — logger — ERROR — Requested 35000 combinations, but only 2145 are possible.\n",
      "NoneType: None\n",
      "2023-08-22 06:55:56,926 — logger — INFO — Dropped 0 duplcates.\n",
      "2023-08-22 06:55:57,089 — logger — DEBUG — ----- _create_an_user_ngram: finished in 0.17 seconds)-----\n",
      "2 {'Jakub': 0, 'Jula': 1, 'Babol': 2, 'Nata': 3, 'Bartek': 4, 'Mieszko': 5, 'Miki': 6, 'Zuz': 7}\n",
      "2023-08-22 06:55:57,091 — logger — DEBUG — ----- _create_an_user_ngram: start -----\n",
      "2023-08-22 06:55:57,091 — logger — ERROR — Requested 35000 combinations, but only 2346 are possible.\n",
      "NoneType: None\n",
      "2023-08-22 06:55:57,092 — logger — INFO — Dropped 0 duplcates.\n",
      "2023-08-22 06:55:57,244 — logger — DEBUG — ----- _create_an_user_ngram: finished in 0.15 seconds)-----\n",
      "6 {'Jakub': 0, 'Jula': 1, 'Babol': 2, 'Nata': 3, 'Bartek': 4, 'Mieszko': 5, 'Miki': 6, 'Zuz': 7}\n",
      "2023-08-22 06:55:57,246 — logger — DEBUG — ----- _create_an_user_ngram: start -----\n",
      "2023-08-22 06:55:57,246 — logger — ERROR — Requested 35000 combinations, but only 378 are possible.\n",
      "NoneType: None\n",
      "2023-08-22 06:55:57,247 — logger — INFO — Dropped 0 duplcates.\n",
      "2023-08-22 06:55:57,283 — logger — DEBUG — ----- _create_an_user_ngram: finished in 0.04 seconds)-----\n",
      "3 {'Jakub': 0, 'Jula': 1, 'Babol': 2, 'Nata': 3, 'Bartek': 4, 'Mieszko': 5, 'Miki': 6, 'Zuz': 7}\n",
      "2023-08-22 06:55:57,285 — logger — DEBUG — ----- _create_an_user_ngram: start -----\n",
      "2023-08-22 06:55:57,285 — logger — ERROR — Requested 35000 combinations, but only 820 are possible.\n",
      "NoneType: None\n",
      "2023-08-22 06:55:57,287 — logger — INFO — Dropped 0 duplcates.\n",
      "2023-08-22 06:55:57,344 — logger — DEBUG — ----- _create_an_user_ngram: finished in 0.06 seconds)-----\n",
      "2023-08-22 06:55:57,345 — logger — INFO — Created 18047 n-grams (2255 per user)\n",
      "2023-08-22 06:55:57,346 — logger — DEBUG — ----- create_users_ngrams: finished in 1.26 seconds)-----\n"
     ]
    }
   ],
   "source": [
    "X, y, X_test, y_test, cols = create_dataset(if_separate_words=True, test_ratio=0.5, verbose_mode=True, scaler=Normalizer())     "
   ],
   "metadata": {
    "collapsed": false,
    "ExecuteTime": {
     "end_time": "2023-08-22T04:55:57.356238123Z",
     "start_time": "2023-08-22T04:55:54.106293496Z"
    }
   },
   "id": "6825b2a91ce2d374"
  },
  {
   "cell_type": "markdown",
   "source": [
    "## Define train loop"
   ],
   "metadata": {
    "collapsed": false
   },
   "id": "fa4c0528cf7334ee"
  },
  {
   "cell_type": "code",
   "execution_count": 5,
   "outputs": [],
   "source": [
    "def train_loop(model, params, X_train, y_train, X_test, y_test, name):\n",
    "    results = pd.DataFrame(columns=['clf', 'accuracy', 'f1', 'precision', 'recall', 'user'])\n",
    "    for user in np.unique(y_train):\n",
    "        # Create balanced datasets for user and non-user\n",
    "        user_mask_train = (y_train == user)\n",
    "        non_user_mask_train = (y_train != user)\n",
    "\n",
    "        user_mask_test = (y_test == user)\n",
    "        non_user_mask_test = (y_test != user)\n",
    "\n",
    "        # Concatenate user and non-user samples (equal numbers)\n",
    "        X_balanced_train = np.concatenate([X_train[user_mask_train],\n",
    "                                           resample(X_train[non_user_mask_train],\n",
    "                                                    n_samples=user_mask_train.sum(),\n",
    "                                                    random_state=42)])\n",
    "\n",
    "        y_balanced_train = np.concatenate([np.ones(user_mask_train.sum()),\n",
    "                                           np.zeros(user_mask_train.sum())])  # 1 for user, 0 for non-user\n",
    "\n",
    "        X_balanced_test = np.concatenate([X_test[user_mask_test],\n",
    "                                          resample(X_test[non_user_mask_test],\n",
    "                                                   n_samples=user_mask_test.sum(),\n",
    "                                                   random_state=42)])\n",
    "\n",
    "        y_balanced_test = np.concatenate([np.ones(user_mask_test.sum()),\n",
    "                                          np.zeros(user_mask_test.sum())])  # 1 for user, 0 for non-user\n",
    "\n",
    "        # Shuffling the balanced train and test sets\n",
    "        X_balanced_train, y_balanced_train = shuffle(X_balanced_train, y_balanced_train, random_state=42)\n",
    "        X_balanced_test, y_balanced_test = shuffle(X_balanced_test, y_balanced_test, random_state=42)\n",
    "        if 'neural network' in name.lower():\n",
    "            res = run_cv_neural_network(model, params,  X_balanced_train, y_balanced_train,  X_balanced_test, y_balanced_test, is_multiclass=False)\n",
    "            \n",
    "        else: \n",
    "            res = run_cv(model, params, X_balanced_train, y_balanced_train,  X_balanced_test, y_balanced_test,   is_multiclass=False, predef_model=False)\n",
    "        res['user'] = user\n",
    "        results = pd.merge(results, res, how='outer')\n",
    "    return results    \n",
    "    \n",
    "        "
   ],
   "metadata": {
    "collapsed": false,
    "ExecuteTime": {
     "end_time": "2023-08-22T04:55:57.402042649Z",
     "start_time": "2023-08-22T04:55:57.349941154Z"
    }
   },
   "id": "2a282db9efc2b546"
  },
  {
   "cell_type": "code",
   "execution_count": 6,
   "outputs": [
    {
     "name": "stdout",
     "output_type": "stream",
     "text": [
      "RandomForestClassifier(min_impurity_decrease=0.001) {'n_estimators': [10, 50, 100], 'min_samples_split': [2, 5, 10], 'min_samples_leaf': [1, 2, 4], 'max_features': ['log2', 'sqrt', None]} Random Forest\n"
     ]
    },
    {
     "ename": "AttributeError",
     "evalue": "'RandomForestClassifier' object has no attribute 'estimators_'",
     "output_type": "error",
     "traceback": [
      "\u001B[0;31m---------------------------------------------------------------------------\u001B[0m",
      "\u001B[0;31mAttributeError\u001B[0m                            Traceback (most recent call last)",
      "Cell \u001B[0;32mIn[6], line 4\u001B[0m\n\u001B[1;32m      1\u001B[0m \u001B[38;5;28;01mfor\u001B[39;00m clf \u001B[38;5;129;01min\u001B[39;00m CLASSIFIERS:\n\u001B[1;32m      2\u001B[0m     \u001B[38;5;66;03m# (X_train, y_train, X_test, y_test, model, params, name):\u001B[39;00m\n\u001B[1;32m      3\u001B[0m     \u001B[38;5;28mprint\u001B[39m(clf[\u001B[38;5;241m0\u001B[39m], clf[\u001B[38;5;241m1\u001B[39m],clf[\u001B[38;5;241m2\u001B[39m])\n\u001B[0;32m----> 4\u001B[0m     res \u001B[38;5;241m=\u001B[39m \u001B[43mtrain_loop\u001B[49m\u001B[43m(\u001B[49m\u001B[43mclf\u001B[49m\u001B[43m[\u001B[49m\u001B[38;5;241;43m0\u001B[39;49m\u001B[43m]\u001B[49m\u001B[43m,\u001B[49m\u001B[43m \u001B[49m\u001B[43mclf\u001B[49m\u001B[43m[\u001B[49m\u001B[38;5;241;43m1\u001B[39;49m\u001B[43m]\u001B[49m\u001B[43m,\u001B[49m\u001B[43m \u001B[49m\u001B[43mX\u001B[49m\u001B[43m,\u001B[49m\u001B[43m \u001B[49m\u001B[43my\u001B[49m\u001B[43m,\u001B[49m\u001B[43m \u001B[49m\u001B[43mX_test\u001B[49m\u001B[43m,\u001B[49m\u001B[43m \u001B[49m\u001B[43my_test\u001B[49m\u001B[43m,\u001B[49m\u001B[43m \u001B[49m\u001B[43mname\u001B[49m\u001B[38;5;241;43m=\u001B[39;49m\u001B[43mclf\u001B[49m\u001B[43m[\u001B[49m\u001B[38;5;241;43m2\u001B[39;49m\u001B[43m]\u001B[49m\u001B[43m)\u001B[49m\n\u001B[1;32m      5\u001B[0m     res[\u001B[38;5;124m'\u001B[39m\u001B[38;5;124mnumber of features\u001B[39m\u001B[38;5;124m'\u001B[39m] \u001B[38;5;241m=\u001B[39m NUMBER_OF_FEATURES\n\u001B[1;32m      6\u001B[0m     res[\u001B[38;5;124m'\u001B[39m\u001B[38;5;124mngram size\u001B[39m\u001B[38;5;124m'\u001B[39m] \u001B[38;5;241m=\u001B[39m N_GRAM_SIZE\n",
      "Cell \u001B[0;32mIn[5], line 35\u001B[0m, in \u001B[0;36mtrain_loop\u001B[0;34m(model, params, X_train, y_train, X_test, y_test, name)\u001B[0m\n\u001B[1;32m     32\u001B[0m     res \u001B[38;5;241m=\u001B[39m run_cv_neural_network(model, params,  X_balanced_train, y_balanced_train,  X_balanced_test, y_balanced_test, is_multiclass\u001B[38;5;241m=\u001B[39m\u001B[38;5;28;01mFalse\u001B[39;00m)\n\u001B[1;32m     34\u001B[0m \u001B[38;5;28;01melse\u001B[39;00m: \n\u001B[0;32m---> 35\u001B[0m     res \u001B[38;5;241m=\u001B[39m \u001B[43mrun_cv\u001B[49m\u001B[43m(\u001B[49m\u001B[43mmodel\u001B[49m\u001B[43m,\u001B[49m\u001B[43m \u001B[49m\u001B[43mparams\u001B[49m\u001B[43m,\u001B[49m\u001B[43m \u001B[49m\u001B[43mX_balanced_train\u001B[49m\u001B[43m,\u001B[49m\u001B[43m \u001B[49m\u001B[43my_balanced_train\u001B[49m\u001B[43m,\u001B[49m\u001B[43m  \u001B[49m\u001B[43mX_balanced_test\u001B[49m\u001B[43m,\u001B[49m\u001B[43m \u001B[49m\u001B[43my_balanced_test\u001B[49m\u001B[43m,\u001B[49m\u001B[43m   \u001B[49m\u001B[43mis_multiclass\u001B[49m\u001B[38;5;241;43m=\u001B[39;49m\u001B[38;5;28;43;01mFalse\u001B[39;49;00m\u001B[43m,\u001B[49m\u001B[43m \u001B[49m\u001B[43mpredef_model\u001B[49m\u001B[38;5;241;43m=\u001B[39;49m\u001B[38;5;28;43;01mFalse\u001B[39;49;00m\u001B[43m)\u001B[49m\n\u001B[1;32m     36\u001B[0m res[\u001B[38;5;124m'\u001B[39m\u001B[38;5;124muser\u001B[39m\u001B[38;5;124m'\u001B[39m] \u001B[38;5;241m=\u001B[39m user\n\u001B[1;32m     37\u001B[0m results \u001B[38;5;241m=\u001B[39m pd\u001B[38;5;241m.\u001B[39mmerge(results, res, how\u001B[38;5;241m=\u001B[39m\u001B[38;5;124m'\u001B[39m\u001B[38;5;124mouter\u001B[39m\u001B[38;5;124m'\u001B[39m)\n",
      "File \u001B[0;32m~/PycharmProjects/Biometric_system_based_on_behavioral_biometrics_typing_errors_in_English/cv.py:80\u001B[0m, in \u001B[0;36mrun_cv\u001B[0;34m(X, y, X_valid, y_valid, clf, params, n_splits, n_repeats, predef_model, name, plot_path, is_multiclass, use_neural_network, epochs)\u001B[0m\n\u001B[1;32m     76\u001B[0m \u001B[38;5;28;01mdef\u001B[39;00m \u001B[38;5;21mrun_cv\u001B[39m(X, y, X_valid\u001B[38;5;241m=\u001B[39m\u001B[38;5;28;01mNone\u001B[39;00m, y_valid\u001B[38;5;241m=\u001B[39m\u001B[38;5;28;01mNone\u001B[39;00m, clf\u001B[38;5;241m=\u001B[39m\u001B[38;5;28;01mNone\u001B[39;00m, params\u001B[38;5;241m=\u001B[39m\u001B[38;5;28;01mNone\u001B[39;00m, n_splits\u001B[38;5;241m=\u001B[39m\u001B[38;5;241m5\u001B[39m, n_repeats\u001B[38;5;241m=\u001B[39m\u001B[38;5;241m2\u001B[39m,\n\u001B[1;32m     77\u001B[0m                    predef_model\u001B[38;5;241m=\u001B[39m\u001B[38;5;28;01mFalse\u001B[39;00m, name\u001B[38;5;241m=\u001B[39m\u001B[38;5;124m'\u001B[39m\u001B[38;5;124m'\u001B[39m, plot_path\u001B[38;5;241m=\u001B[39m\u001B[38;5;124m'\u001B[39m\u001B[38;5;124mresults_identification/\u001B[39m\u001B[38;5;124m'\u001B[39m, is_multiclass\u001B[38;5;241m=\u001B[39m\u001B[38;5;28;01mTrue\u001B[39;00m,\n\u001B[1;32m     78\u001B[0m                    use_neural_network\u001B[38;5;241m=\u001B[39m\u001B[38;5;28;01mFalse\u001B[39;00m, epochs\u001B[38;5;241m=\u001B[39m\u001B[38;5;241m50\u001B[39m):\n\u001B[1;32m     79\u001B[0m     results \u001B[38;5;241m=\u001B[39m []\n\u001B[0;32m---> 80\u001B[0m     splits \u001B[38;5;241m=\u001B[39m \u001B[43msplit_data\u001B[49m\u001B[43m(\u001B[49m\u001B[43mX\u001B[49m\u001B[43m,\u001B[49m\u001B[43m \u001B[49m\u001B[43my\u001B[49m\u001B[43m,\u001B[49m\u001B[43m \u001B[49m\u001B[43mX_valid\u001B[49m\u001B[43m,\u001B[49m\u001B[43m \u001B[49m\u001B[43my_valid\u001B[49m\u001B[43m,\u001B[49m\u001B[43m \u001B[49m\u001B[43mn_splits\u001B[49m\u001B[43m,\u001B[49m\u001B[43m \u001B[49m\u001B[43mn_repeats\u001B[49m\u001B[43m)\u001B[49m\n\u001B[1;32m     82\u001B[0m     \u001B[38;5;28;01mif\u001B[39;00m use_neural_network:\n\u001B[1;32m     83\u001B[0m         lb \u001B[38;5;241m=\u001B[39m LabelBinarizer()\n",
      "File \u001B[0;32m~/PycharmProjects/Biometric_system_based_on_behavioral_biometrics_typing_errors_in_English/cv.py:42\u001B[0m, in \u001B[0;36msplit_data\u001B[0;34m(X, y, X_test, y_test, n_splits, n_repeats)\u001B[0m\n\u001B[1;32m     40\u001B[0m     \u001B[38;5;28;01mreturn\u001B[39;00m \u001B[38;5;28mlist\u001B[39m(rskf\u001B[38;5;241m.\u001B[39msplit(X, y))\n\u001B[1;32m     41\u001B[0m \u001B[38;5;28;01melse\u001B[39;00m:\n\u001B[0;32m---> 42\u001B[0m     \u001B[38;5;28;01mreturn\u001B[39;00m \u001B[43m[\u001B[49m\n\u001B[1;32m     43\u001B[0m \u001B[43m        \u001B[49m\u001B[43m[\u001B[49m\n\u001B[1;32m     44\u001B[0m \u001B[43m            \u001B[49m\u001B[43msample\u001B[49m\u001B[43m(\u001B[49m\u001B[38;5;28;43mrange\u001B[39;49m\u001B[43m(\u001B[49m\u001B[38;5;28;43mlen\u001B[39;49m\u001B[43m(\u001B[49m\u001B[43mX\u001B[49m\u001B[43m)\u001B[49m\u001B[43m)\u001B[49m\u001B[43m,\u001B[49m\u001B[43m \u001B[49m\u001B[38;5;28;43mint\u001B[39;49m\u001B[43m(\u001B[49m\u001B[38;5;241;43m0.9\u001B[39;49m\u001B[43m \u001B[49m\u001B[38;5;241;43m*\u001B[39;49m\u001B[43m \u001B[49m\u001B[38;5;28;43mlen\u001B[39;49m\u001B[43m(\u001B[49m\u001B[43mX\u001B[49m\u001B[43m)\u001B[49m\u001B[43m)\u001B[49m\u001B[43m)\u001B[49m\u001B[43m,\u001B[49m\n\u001B[1;32m     45\u001B[0m \u001B[43m            \u001B[49m\u001B[43msample\u001B[49m\u001B[43m(\u001B[49m\u001B[38;5;28;43mrange\u001B[39;49m\u001B[43m(\u001B[49m\u001B[38;5;28;43mlen\u001B[39;49m\u001B[43m(\u001B[49m\u001B[43mX_test\u001B[49m\u001B[43m)\u001B[49m\u001B[43m)\u001B[49m\u001B[43m,\u001B[49m\u001B[43m \u001B[49m\u001B[38;5;28;43mint\u001B[39;49m\u001B[43m(\u001B[49m\u001B[38;5;241;43m0.9\u001B[39;49m\u001B[43m \u001B[49m\u001B[38;5;241;43m*\u001B[39;49m\u001B[43m \u001B[49m\u001B[38;5;28;43mlen\u001B[39;49m\u001B[43m(\u001B[49m\u001B[43mX_test\u001B[49m\u001B[43m)\u001B[49m\u001B[43m)\u001B[49m\u001B[43m)\u001B[49m\n\u001B[1;32m     46\u001B[0m \u001B[43m        \u001B[49m\u001B[43m]\u001B[49m\n\u001B[1;32m     47\u001B[0m \u001B[43m        \u001B[49m\u001B[38;5;28;43;01mfor\u001B[39;49;00m\u001B[43m \u001B[49m\u001B[43m_\u001B[49m\u001B[43m \u001B[49m\u001B[38;5;129;43;01min\u001B[39;49;00m\u001B[43m \u001B[49m\u001B[38;5;28;43mrange\u001B[39;49m\u001B[43m(\u001B[49m\u001B[38;5;28;43mint\u001B[39;49m\u001B[43m(\u001B[49m\u001B[43mn_splits\u001B[49m\u001B[43m \u001B[49m\u001B[38;5;241;43m*\u001B[39;49m\u001B[43m \u001B[49m\u001B[43mn_repeats\u001B[49m\u001B[43m)\u001B[49m\u001B[43m)\u001B[49m\n\u001B[1;32m     48\u001B[0m \u001B[43m    \u001B[49m\u001B[43m]\u001B[49m\n",
      "File \u001B[0;32m~/PycharmProjects/Biometric_system_based_on_behavioral_biometrics_typing_errors_in_English/cv.py:44\u001B[0m, in \u001B[0;36m<listcomp>\u001B[0;34m(.0)\u001B[0m\n\u001B[1;32m     40\u001B[0m     \u001B[38;5;28;01mreturn\u001B[39;00m \u001B[38;5;28mlist\u001B[39m(rskf\u001B[38;5;241m.\u001B[39msplit(X, y))\n\u001B[1;32m     41\u001B[0m \u001B[38;5;28;01melse\u001B[39;00m:\n\u001B[1;32m     42\u001B[0m     \u001B[38;5;28;01mreturn\u001B[39;00m [\n\u001B[1;32m     43\u001B[0m         [\n\u001B[0;32m---> 44\u001B[0m             sample(\u001B[38;5;28mrange\u001B[39m(\u001B[38;5;28;43mlen\u001B[39;49m\u001B[43m(\u001B[49m\u001B[43mX\u001B[49m\u001B[43m)\u001B[49m), \u001B[38;5;28mint\u001B[39m(\u001B[38;5;241m0.9\u001B[39m \u001B[38;5;241m*\u001B[39m \u001B[38;5;28mlen\u001B[39m(X))),\n\u001B[1;32m     45\u001B[0m             sample(\u001B[38;5;28mrange\u001B[39m(\u001B[38;5;28mlen\u001B[39m(X_test)), \u001B[38;5;28mint\u001B[39m(\u001B[38;5;241m0.9\u001B[39m \u001B[38;5;241m*\u001B[39m \u001B[38;5;28mlen\u001B[39m(X_test)))\n\u001B[1;32m     46\u001B[0m         ]\n\u001B[1;32m     47\u001B[0m         \u001B[38;5;28;01mfor\u001B[39;00m _ \u001B[38;5;129;01min\u001B[39;00m \u001B[38;5;28mrange\u001B[39m(\u001B[38;5;28mint\u001B[39m(n_splits \u001B[38;5;241m*\u001B[39m n_repeats))\n\u001B[1;32m     48\u001B[0m     ]\n",
      "File \u001B[0;32m~/PycharmProjects/Biometric_system_based_on_behavioral_biometrics_typing_errors_in_English/venv/lib/python3.11/site-packages/sklearn/ensemble/_base.py:200\u001B[0m, in \u001B[0;36mBaseEnsemble.__len__\u001B[0;34m(self)\u001B[0m\n\u001B[1;32m    198\u001B[0m \u001B[38;5;28;01mdef\u001B[39;00m \u001B[38;5;21m__len__\u001B[39m(\u001B[38;5;28mself\u001B[39m):\n\u001B[1;32m    199\u001B[0m \u001B[38;5;250m    \u001B[39m\u001B[38;5;124;03m\"\"\"Return the number of estimators in the ensemble.\"\"\"\u001B[39;00m\n\u001B[0;32m--> 200\u001B[0m     \u001B[38;5;28;01mreturn\u001B[39;00m \u001B[38;5;28mlen\u001B[39m(\u001B[38;5;28;43mself\u001B[39;49m\u001B[38;5;241;43m.\u001B[39;49m\u001B[43mestimators_\u001B[49m)\n",
      "\u001B[0;31mAttributeError\u001B[0m: 'RandomForestClassifier' object has no attribute 'estimators_'"
     ]
    }
   ],
   "source": [
    "for clf in CLASSIFIERS:\n",
    "    # (X_train, y_train, X_test, y_test, model, params, name):\n",
    "    print(clf[0], clf[1],clf[2])\n",
    "    res = train_loop(clf[0], clf[1], X, y, X_test, y_test, name=clf[2])\n",
    "    res['number of features'] = NUMBER_OF_FEATURES\n",
    "    res['ngram size'] = N_GRAM_SIZE\n",
    "    res['columns'] = str(cols)\n",
    "    res.to_csv(f'results_verification/{clf[2]}.csv', mode='a+')"
   ],
   "metadata": {
    "collapsed": false,
    "ExecuteTime": {
     "end_time": "2023-08-22T04:55:57.834489923Z",
     "start_time": "2023-08-22T04:55:57.401290289Z"
    }
   },
   "id": "abe129646cb85374"
  },
  {
   "cell_type": "markdown",
   "source": [
    "### tmp"
   ],
   "metadata": {
    "collapsed": false
   },
   "id": "5cfbb51e207fd49f"
  },
  {
   "cell_type": "code",
   "execution_count": null,
   "outputs": [],
   "source": [
    "def train_loop_test(X_train, y_train, X_test, y_test, model, params):\n",
    "    results = pd.DataFrame(columns=['clf', 'accuracy', 'f1', 'precision', 'recall', 'user'])\n",
    "    for user in np.unique(y_train):\n",
    "        # Create balanced datasets for user and non-user\n",
    "        user_mask_train = (y_train == user)\n",
    "        non_user_mask_train = (y_train != user)\n",
    "\n",
    "        user_mask_test = (y_test == user)\n",
    "        non_user_mask_test = (y_test != user)\n",
    "\n",
    "        # Concatenate user and non-user samples (equal numbers)\n",
    "        X_balanced_train = np.concatenate([X_train[user_mask_train],\n",
    "                                           resample(X_train[non_user_mask_train],\n",
    "                                                    n_samples=user_mask_train.sum(),\n",
    "                                                    random_state=42)])\n",
    "\n",
    "        y_balanced_train = np.concatenate([np.ones(user_mask_train.sum()),\n",
    "                                           np.zeros(user_mask_train.sum())])  # 1 for user, 0 for non-user\n",
    "\n",
    "        X_balanced_test = np.concatenate([X_test[user_mask_test],\n",
    "                                          resample(X_test[non_user_mask_test],\n",
    "                                                   n_samples=user_mask_test.sum(),\n",
    "                                                   random_state=42)])\n",
    "\n",
    "        y_balanced_test = np.concatenate([np.ones(user_mask_test.sum()),\n",
    "                                          np.zeros(user_mask_test.sum())])  # 1 for user, 0 for non-user\n",
    "\n",
    "        # Shuffling the balanced train and test sets\n",
    "        X_balanced_train, y_balanced_train = shuffle(X_balanced_train, y_balanced_train, random_state=42)\n",
    "        X_balanced_test, y_balanced_test = shuffle(X_balanced_test, y_balanced_test, random_state=42)\n",
    "        res = run_cv(model, params, X_balanced_train, y_balanced_train,  X_balanced_test, y_balanced_test, predef_model=False, plot_path='verification_results/')\n",
    "        res['user'] = user\n",
    "        results = pd.merge(results, res, how='outer')\n",
    "    return results"
   ],
   "metadata": {
    "collapsed": false,
    "ExecuteTime": {
     "start_time": "2023-08-22T04:55:57.835690663Z"
    }
   },
   "id": "ca4722844a347645"
  },
  {
   "cell_type": "code",
   "execution_count": null,
   "outputs": [],
   "source": [],
   "metadata": {
    "collapsed": false,
    "ExecuteTime": {
     "start_time": "2023-08-22T04:55:57.837475562Z"
    }
   },
   "id": "ffb3aebc19747938"
  }
 ],
 "metadata": {
  "kernelspec": {
   "display_name": "Python 3",
   "language": "python",
   "name": "python3"
  },
  "language_info": {
   "codemirror_mode": {
    "name": "ipython",
    "version": 2
   },
   "file_extension": ".py",
   "mimetype": "text/x-python",
   "name": "python",
   "nbconvert_exporter": "python",
   "pygments_lexer": "ipython2",
   "version": "2.7.6"
  }
 },
 "nbformat": 4,
 "nbformat_minor": 5
}
