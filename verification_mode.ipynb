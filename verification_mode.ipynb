{
 "cells": [
  {
   "cell_type": "markdown",
   "source": [
    "# Identifiation system basing on behavioral biometrics: typing errors"
   ],
   "metadata": {
    "collapsed": false
   },
   "id": "75be4e784c2f006c"
  },
  {
   "cell_type": "markdown",
   "source": [
    "## Configuration\n",
    "### Load dependencies"
   ],
   "metadata": {
    "collapsed": false
   },
   "id": "6d87fe5a78cbc622"
  },
  {
   "cell_type": "code",
   "execution_count": 3,
   "outputs": [
    {
     "name": "stdout",
     "output_type": "stream",
     "text": [
      "[]\n"
     ]
    }
   ],
   "source": [
    "import pandas as pd\n",
    "from sklearn.ensemble import RandomForestClassifier, GradientBoostingClassifier\n",
    "from sklearn.neighbors import KNeighborsClassifier\n",
    "from classifiers import build_tuned_nn, build_tuned_rfc, param_grid\n",
    "from sklearn.neural_network import MLPClassifier\n",
    "# from create_model import create_dataset, user_names\n",
    "from sklearn.svm import SVC\n",
    "from sklearn.utils import shuffle\n",
    "import numpy as np\n",
    "from sklearn.model_selection import train_test_split\n",
    "from sklearn.base import ClassifierMixin\n",
    "from sklearn.metrics import precision_score, recall_score, f1_score, roc_auc_score, confusion_matrix\n",
    "from sklearn.preprocessing import LabelBinarizer\n",
    "from sklearn.utils import resample\n",
    "from tensorflow import config\n",
    "from cv import run_cv"
   ],
   "metadata": {
    "collapsed": false,
    "ExecuteTime": {
     "end_time": "2023-07-29T17:17:54.893897637Z",
     "start_time": "2023-07-29T17:17:54.820240813Z"
    }
   },
   "id": "29decfd3fa8c69c1"
  },
  {
   "cell_type": "markdown",
   "source": [
    "#### Configure GPUs"
   ],
   "metadata": {
    "collapsed": false
   },
   "id": "ab9cb2048f9e359c"
  },
  {
   "cell_type": "code",
   "execution_count": 4,
   "outputs": [],
   "source": [
    "gpus = config.experimental.list_physical_devices('GPU')\n",
    "for gpu in gpus:\n",
    "    config.experimental.set_memory_growth(gpu, True)\n",
    "    print(gpu)"
   ],
   "metadata": {
    "collapsed": false,
    "ExecuteTime": {
     "end_time": "2023-07-29T15:49:06.001283869Z",
     "start_time": "2023-07-29T15:49:05.981019686Z"
    }
   },
   "id": "b3116a78f19356ff"
  },
  {
   "cell_type": "markdown",
   "source": [
    "## Define classifiers"
   ],
   "metadata": {
    "collapsed": false
   },
   "id": "bcc7e3e8d25ee1c0"
  },
  {
   "cell_type": "code",
   "execution_count": 5,
   "outputs": [],
   "source": [
    "CLASSIFIERS = [\n",
    "    (RandomForestClassifier(), param_grid['Random Forest'], 'Random Forest'),\n",
    "\n",
    "    (KNeighborsClassifier(), param_grid['K-Nearest Neighbors'], 'K-Nearest Neighbors'),\n",
    "    (SVC(probability=True), param_grid['SVC'], 'SVC'),\n",
    "\n",
    "        (GradientBoostingClassifier(),\n",
    "         param_grid['Gradient Boosting'],\n",
    "         'Gradient Boosting'),\n",
    "\n",
    "        (MLPClassifier(), param_grid['MLP Classifier'], 'MLP Classifier'),\n",
    "]"
   ],
   "metadata": {
    "collapsed": false,
    "ExecuteTime": {
     "end_time": "2023-07-29T15:49:06.001495240Z",
     "start_time": "2023-07-29T15:49:05.984940051Z"
    }
   },
   "id": "19591ec1f0b7d464"
  },
  {
   "cell_type": "markdown",
   "source": [
    "## Load dataset"
   ],
   "metadata": {
    "collapsed": false
   },
   "id": "488801405899c8a8"
  },
  {
   "cell_type": "code",
   "execution_count": 6,
   "outputs": [
    {
     "name": "stdout",
     "output_type": "stream",
     "text": [
      "2023-07-29 17:49:05,990 — logger — DEBUG — ----- load_data: start -----\n",
      "2023-07-29 17:49:06,763 — logger — DEBUG — ----- load_data: finished in 0.77 seconds)-----\n",
      "2023-07-29 17:49:06,763 — logger — DEBUG — ----- create_labeled_test_and_train_buckets: start -----\n",
      "2023-07-29 17:49:06,765 — logger — DEBUG — ----- create_labeled_test_and_train_buckets: finished in 0.00 seconds)-----\n",
      "2023-07-29 17:49:06,766 — logger — DEBUG — ----- scale_data: start -----\n",
      "2023-07-29 17:49:06,770 — logger — DEBUG — ----- scale_data: finished in 0.00 seconds)-----\n",
      "2023-07-29 17:49:06,770 — logger — DEBUG — ----- choose_features: start -----\n",
      "2023-07-29 17:49:06,773 — logger — DEBUG — ----- choose_features: finished in 0.00 seconds)-----\n",
      "2023-07-29 17:49:06,773 — logger — DEBUG — ----- create_users_ngrams: start -----\n",
      "2023-07-29 17:49:06,775 — logger — DEBUG — ----- _create_an_user_ngram: start -----\n",
      "2023-07-29 17:49:13,056 — logger — DEBUG — ----- _create_an_user_ngram: finished in 6.28 seconds)-----\n",
      "2023-07-29 17:49:13,059 — logger — DEBUG — ----- _create_an_user_ngram: start -----\n",
      "2023-07-29 17:49:19,123 — logger — DEBUG — ----- _create_an_user_ngram: finished in 6.06 seconds)-----\n",
      "2023-07-29 17:49:19,162 — logger — DEBUG — ----- _create_an_user_ngram: start -----\n",
      "2023-07-29 17:49:25,456 — logger — DEBUG — ----- _create_an_user_ngram: finished in 6.29 seconds)-----\n",
      "2023-07-29 17:49:25,514 — logger — DEBUG — ----- _create_an_user_ngram: start -----\n",
      "2023-07-29 17:49:31,434 — logger — DEBUG — ----- _create_an_user_ngram: finished in 5.92 seconds)-----\n",
      "2023-07-29 17:49:31,508 — logger — DEBUG — ----- _create_an_user_ngram: start -----\n",
      "2023-07-29 17:49:37,590 — logger — DEBUG — ----- _create_an_user_ngram: finished in 6.08 seconds)-----\n",
      "2023-07-29 17:49:37,679 — logger — DEBUG — ----- _create_an_user_ngram: start -----\n",
      "2023-07-29 17:49:43,963 — logger — DEBUG — ----- _create_an_user_ngram: finished in 6.28 seconds)-----\n",
      "2023-07-29 17:49:44,065 — logger — DEBUG — ----- _create_an_user_ngram: start -----\n",
      "2023-07-29 17:49:50,115 — logger — DEBUG — ----- _create_an_user_ngram: finished in 6.05 seconds)-----\n",
      "2023-07-29 17:49:50,234 — logger — DEBUG — ----- _create_an_user_ngram: start -----\n",
      "2023-07-29 17:49:56,162 — logger — DEBUG — ----- _create_an_user_ngram: finished in 5.93 seconds)-----\n",
      "2023-07-29 17:49:56,296 — logger — INFO — Created 800000 n-grams (100000 per user)\n",
      "2023-07-29 17:49:56,340 — logger — DEBUG — ----- create_users_ngrams: finished in 49.57 seconds)-----\n",
      "2023-07-29 17:49:56,341 — logger — DEBUG — ----- create_users_ngrams: start -----\n",
      "2023-07-29 17:49:56,342 — logger — DEBUG — ----- _create_an_user_ngram: start -----\n",
      "2023-07-29 17:50:02,330 — logger — DEBUG — ----- _create_an_user_ngram: finished in 5.99 seconds)-----\n",
      "2023-07-29 17:50:02,333 — logger — DEBUG — ----- _create_an_user_ngram: start -----\n",
      "2023-07-29 17:50:08,344 — logger — DEBUG — ----- _create_an_user_ngram: finished in 6.01 seconds)-----\n",
      "2023-07-29 17:50:08,384 — logger — DEBUG — ----- _create_an_user_ngram: start -----\n",
      "2023-07-29 17:50:14,299 — logger — DEBUG — ----- _create_an_user_ngram: finished in 5.91 seconds)-----\n",
      "2023-07-29 17:50:14,358 — logger — DEBUG — ----- _create_an_user_ngram: start -----\n",
      "2023-07-29 17:50:20,809 — logger — DEBUG — ----- _create_an_user_ngram: finished in 6.45 seconds)-----\n",
      "2023-07-29 17:50:20,881 — logger — DEBUG — ----- _create_an_user_ngram: start -----\n",
      "2023-07-29 17:50:27,058 — logger — DEBUG — ----- _create_an_user_ngram: finished in 6.18 seconds)-----\n",
      "2023-07-29 17:50:27,149 — logger — DEBUG — ----- _create_an_user_ngram: start -----\n",
      "2023-07-29 17:50:33,220 — logger — DEBUG — ----- _create_an_user_ngram: finished in 6.07 seconds)-----\n",
      "2023-07-29 17:50:33,325 — logger — DEBUG — ----- _create_an_user_ngram: start -----\n",
      "2023-07-29 17:50:39,313 — logger — DEBUG — ----- _create_an_user_ngram: finished in 5.99 seconds)-----\n",
      "2023-07-29 17:50:39,433 — logger — DEBUG — ----- _create_an_user_ngram: start -----\n",
      "2023-07-29 17:50:45,513 — logger — DEBUG — ----- _create_an_user_ngram: finished in 6.08 seconds)-----\n",
      "2023-07-29 17:50:45,655 — logger — INFO — Created 800000 n-grams (100000 per user)\n",
      "2023-07-29 17:50:45,684 — logger — DEBUG — ----- create_users_ngrams: finished in 49.34 seconds)-----\n"
     ]
    }
   ],
   "source": [
    "X_train, y_train, X_test, y_test = create_dataset(test_ratio=0.5)\n",
    "# X_test, X_valid, y_test, y_valid = train_test_split(X_test, y_test, test_size=0.5, random_state=365)"
   ],
   "metadata": {
    "collapsed": false,
    "ExecuteTime": {
     "end_time": "2023-07-29T15:50:45.700150751Z",
     "start_time": "2023-07-29T15:49:05.992179811Z"
    }
   },
   "id": "6825b2a91ce2d374"
  },
  {
   "cell_type": "markdown",
   "source": [
    "## Define train loop"
   ],
   "metadata": {
    "collapsed": false
   },
   "id": "fa4c0528cf7334ee"
  },
  {
   "cell_type": "code",
   "execution_count": 7,
   "outputs": [],
   "source": [
    "def train_loop(X_train, y_train, X_test, y_test, model, params, name):\n",
    "    results = pd.DataFrame(columns=['clf', 'accuracy', 'f1', 'precision', 'recall', 'user'])\n",
    "    for user in np.unique(y_train):\n",
    "        # Create balanced datasets for user and non-user\n",
    "        user_mask_train = (y_train == user)\n",
    "        non_user_mask_train = (y_train != user)\n",
    "\n",
    "        user_mask_test = (y_test == user)\n",
    "        non_user_mask_test = (y_test != user)\n",
    "\n",
    "        # Concatenate user and non-user samples (equal numbers)\n",
    "        X_balanced_train = np.concatenate([X_train[user_mask_train],\n",
    "                                           resample(X_train[non_user_mask_train],\n",
    "                                                    n_samples=user_mask_train.sum(),\n",
    "                                                    random_state=42)])\n",
    "\n",
    "        y_balanced_train = np.concatenate([np.ones(user_mask_train.sum()),\n",
    "                                           np.zeros(user_mask_train.sum())])  # 1 for user, 0 for non-user\n",
    "\n",
    "        X_balanced_test = np.concatenate([X_test[user_mask_test],\n",
    "                                          resample(X_test[non_user_mask_test],\n",
    "                                                   n_samples=user_mask_test.sum(),\n",
    "                                                   random_state=42)])\n",
    "\n",
    "        y_balanced_test = np.concatenate([np.ones(user_mask_test.sum()),\n",
    "                                          np.zeros(user_mask_test.sum())])  # 1 for user, 0 for non-user\n",
    "\n",
    "        # Shuffling the balanced train and test sets\n",
    "        X_balanced_train, y_balanced_train = shuffle(X_balanced_train, y_balanced_train, random_state=42)\n",
    "        X_balanced_test, y_balanced_test = shuffle(X_balanced_test, y_balanced_test, random_state=42)\n",
    "        if 'neural network' in name.lower():\n",
    "            res = run_cv(model, params,  X_balanced_train, y_balanced_train,  X_balanced_test, y_balanced_test, predef_model=True)\n",
    "            \n",
    "        else: \n",
    "            res = run_cv(model, params, X_balanced_train, y_balanced_train,  X_balanced_test, y_balanced_test,  predef_model=False)\n",
    "        res['user'] = user\n",
    "        results = pd.merge(results, res, how='outer')\n",
    "    \n",
    "        "
   ],
   "metadata": {
    "collapsed": false,
    "ExecuteTime": {
     "end_time": "2023-07-29T15:50:45.700481339Z",
     "start_time": "2023-07-29T15:50:45.692652710Z"
    }
   },
   "id": "2a282db9efc2b546"
  },
  {
   "cell_type": "markdown",
   "source": [
    "### tmp"
   ],
   "metadata": {
    "collapsed": false
   },
   "id": "5cfbb51e207fd49f"
  },
  {
   "cell_type": "code",
   "execution_count": 8,
   "outputs": [],
   "source": [
    "nn = KerasNNClf(X_train.shape[1], len(user_names.keys()), True).create_neural_network()\n",
    "      "
   ],
   "metadata": {
    "collapsed": false,
    "ExecuteTime": {
     "end_time": "2023-07-29T15:50:45.908427990Z",
     "start_time": "2023-07-29T15:50:45.696622727Z"
    }
   },
   "id": "f5a0df088c78ffeb"
  },
  {
   "cell_type": "code",
   "execution_count": 9,
   "outputs": [],
   "source": [
    "def train_loop_test(X_train, y_train, X_test, y_test, model, params):\n",
    "    results = pd.DataFrame(columns=['clf', 'accuracy', 'f1', 'precision', 'recall', 'user'])\n",
    "    for user in np.unique(y_train):\n",
    "        # Create balanced datasets for user and non-user\n",
    "        user_mask_train = (y_train == user)\n",
    "        non_user_mask_train = (y_train != user)\n",
    "\n",
    "        user_mask_test = (y_test == user)\n",
    "        non_user_mask_test = (y_test != user)\n",
    "\n",
    "        # Concatenate user and non-user samples (equal numbers)\n",
    "        X_balanced_train = np.concatenate([X_train[user_mask_train],\n",
    "                                           resample(X_train[non_user_mask_train],\n",
    "                                                    n_samples=user_mask_train.sum(),\n",
    "                                                    random_state=42)])\n",
    "\n",
    "        y_balanced_train = np.concatenate([np.ones(user_mask_train.sum()),\n",
    "                                           np.zeros(user_mask_train.sum())])  # 1 for user, 0 for non-user\n",
    "\n",
    "        X_balanced_test = np.concatenate([X_test[user_mask_test],\n",
    "                                          resample(X_test[non_user_mask_test],\n",
    "                                                   n_samples=user_mask_test.sum(),\n",
    "                                                   random_state=42)])\n",
    "\n",
    "        y_balanced_test = np.concatenate([np.ones(user_mask_test.sum()),\n",
    "                                          np.zeros(user_mask_test.sum())])  # 1 for user, 0 for non-user\n",
    "\n",
    "        # Shuffling the balanced train and test sets\n",
    "        X_balanced_train, y_balanced_train = shuffle(X_balanced_train, y_balanced_train, random_state=42)\n",
    "        X_balanced_test, y_balanced_test = shuffle(X_balanced_test, y_balanced_test, random_state=42)\n",
    "        if  isinstance(model, ClassifierMixin):\n",
    "            res = run_cv(model, None,  X_balanced_train, y_balanced_train,  X_balanced_test, y_balanced_test, predef_model=True)\n",
    "            \n",
    "        else: \n",
    "            res = run_cv(model, params, X_balanced_train, y_balanced_train,  X_balanced_test, y_balanced_test, predef_model=False)\n",
    "        res['user'] = user\n",
    "        results = pd.merge(results, res, how='outer')\n",
    "    return results"
   ],
   "metadata": {
    "collapsed": false,
    "ExecuteTime": {
     "end_time": "2023-07-29T15:50:45.916413359Z",
     "start_time": "2023-07-29T15:50:45.913635524Z"
    }
   },
   "id": "ca4722844a347645"
  },
  {
   "cell_type": "code",
   "execution_count": 5,
   "outputs": [
    {
     "ename": "NameError",
     "evalue": "name 'train_loop_test' is not defined",
     "output_type": "error",
     "traceback": [
      "\u001B[0;31m---------------------------------------------------------------------------\u001B[0m",
      "\u001B[0;31mNameError\u001B[0m                                 Traceback (most recent call last)",
      "Cell \u001B[0;32mIn[5], line 1\u001B[0m\n\u001B[0;32m----> 1\u001B[0m \u001B[43mtrain_loop_test\u001B[49m(X_train, y_train, X_test, y_test, nn, \u001B[38;5;28;01mNone\u001B[39;00m)\n",
      "\u001B[0;31mNameError\u001B[0m: name 'train_loop_test' is not defined"
     ]
    }
   ],
   "source": [
    "train_loop_test(X_train, y_train, X_test, y_test, nn, None)"
   ],
   "metadata": {
    "collapsed": false,
    "ExecuteTime": {
     "end_time": "2023-07-29T17:15:47.684276012Z",
     "start_time": "2023-07-29T17:15:47.648759994Z"
    }
   },
   "id": "cf2adaa750ac951c"
  },
  {
   "cell_type": "markdown",
   "source": [
    "tmp #2 "
   ],
   "metadata": {
    "collapsed": false
   },
   "id": "6691b2fe12411929"
  },
  {
   "cell_type": "code",
   "execution_count": 1,
   "outputs": [
    {
     "name": "stderr",
     "output_type": "stream",
     "text": [
      "2023-07-29 19:16:30.260320: I tensorflow/tsl/cuda/cudart_stub.cc:28] Could not find cuda drivers on your machine, GPU will not be used.\n",
      "2023-07-29 19:16:30.310043: I tensorflow/tsl/cuda/cudart_stub.cc:28] Could not find cuda drivers on your machine, GPU will not be used.\n",
      "2023-07-29 19:16:30.310885: I tensorflow/core/platform/cpu_feature_guard.cc:182] This TensorFlow binary is optimized to use available CPU instructions in performance-critical operations.\n",
      "To enable the following instructions: AVX2 FMA, in other operations, rebuild TensorFlow with the appropriate compiler flags.\n",
      "2023-07-29 19:16:31.002662: W tensorflow/compiler/tf2tensorrt/utils/py_utils.cc:38] TF-TRT Warning: Could not find TensorRT\n"
     ]
    },
    {
     "name": "stdout",
     "output_type": "stream",
     "text": [
      "Num GPUs Available:  0\n",
      "2023-07-29 19:16:31,617 — logger — DEBUG — ----- load_data: start -----\n",
      "2023-07-29 19:16:32,252 — logger — DEBUG — ----- load_data: finished in 0.63 seconds)-----\n",
      "2023-07-29 19:16:32,252 — logger — DEBUG — ----- create_labeled_test_and_train_buckets: start -----\n",
      "2023-07-29 19:16:32,253 — logger — DEBUG — ----- create_labeled_test_and_train_buckets: finished in 0.00 seconds)-----\n",
      "2023-07-29 19:16:32,253 — logger — DEBUG — ----- scale_data: start -----\n",
      "2023-07-29 19:16:32,256 — logger — DEBUG — ----- scale_data: finished in 0.00 seconds)-----\n",
      "2023-07-29 19:16:32,257 — logger — DEBUG — ----- choose_features: start -----\n",
      "2023-07-29 19:16:32,259 — logger — DEBUG — ----- choose_features: finished in 0.00 seconds)-----\n",
      "2023-07-29 19:16:32,259 — logger — DEBUG — ----- create_users_ngrams: start -----\n",
      "2023-07-29 19:16:32,261 — logger — DEBUG — ----- _create_an_user_ngram: start -----\n",
      "2023-07-29 19:16:38,431 — logger — DEBUG — ----- _create_an_user_ngram: finished in 6.17 seconds)-----\n",
      "2023-07-29 19:16:38,434 — logger — DEBUG — ----- _create_an_user_ngram: start -----\n",
      "2023-07-29 19:16:44,305 — logger — DEBUG — ----- _create_an_user_ngram: finished in 5.87 seconds)-----\n",
      "2023-07-29 19:16:44,367 — logger — DEBUG — ----- _create_an_user_ngram: start -----\n",
      "2023-07-29 19:16:51,210 — logger — DEBUG — ----- _create_an_user_ngram: finished in 6.84 seconds)-----\n",
      "2023-07-29 19:16:51,302 — logger — DEBUG — ----- _create_an_user_ngram: start -----\n",
      "2023-07-29 19:16:57,081 — logger — DEBUG — ----- _create_an_user_ngram: finished in 5.78 seconds)-----\n",
      "2023-07-29 19:16:57,199 — logger — DEBUG — ----- _create_an_user_ngram: start -----\n",
      "2023-07-29 19:17:03,041 — logger — DEBUG — ----- _create_an_user_ngram: finished in 5.84 seconds)-----\n",
      "2023-07-29 19:17:03,185 — logger — DEBUG — ----- _create_an_user_ngram: start -----\n",
      "2023-07-29 19:17:09,226 — logger — DEBUG — ----- _create_an_user_ngram: finished in 6.04 seconds)-----\n",
      "2023-07-29 19:17:09,382 — logger — DEBUG — ----- _create_an_user_ngram: start -----\n",
      "2023-07-29 19:17:15,223 — logger — DEBUG — ----- _create_an_user_ngram: finished in 5.84 seconds)-----\n",
      "2023-07-29 19:17:15,402 — logger — DEBUG — ----- _create_an_user_ngram: start -----\n",
      "2023-07-29 19:17:21,278 — logger — DEBUG — ----- _create_an_user_ngram: finished in 5.87 seconds)-----\n",
      "2023-07-29 19:17:21,504 — logger — INFO — Created 800000 n-grams (100000 per user)\n",
      "2023-07-29 19:17:21,536 — logger — DEBUG — ----- create_users_ngrams: finished in 49.28 seconds)-----\n"
     ]
    }
   ],
   "source": [
    "from create_model import create_dataset, user_names\n",
    "X_train, y_train, X_test, y_test = create_dataset(test_ratio=0.5, if_separate_words=False)"
   ],
   "metadata": {
    "collapsed": false,
    "ExecuteTime": {
     "end_time": "2023-07-29T17:17:21.783504815Z",
     "start_time": "2023-07-29T17:16:29.266451774Z"
    }
   },
   "id": "c22b78f3025bddd0"
  },
  {
   "cell_type": "code",
   "execution_count": 4,
   "outputs": [
    {
     "ename": "InvalidParameterError",
     "evalue": "The 'n_samples' parameter of resample must be an int in the range [1, inf) or None. Got 0 instead.",
     "output_type": "error",
     "traceback": [
      "\u001B[0;31m---------------------------------------------------------------------------\u001B[0m",
      "\u001B[0;31mInvalidParameterError\u001B[0m                     Traceback (most recent call last)",
      "Cell \u001B[0;32mIn[4], line 20\u001B[0m\n\u001B[1;32m     11\u001B[0m X_balanced_train \u001B[38;5;241m=\u001B[39m np\u001B[38;5;241m.\u001B[39mconcatenate([X_train[user_mask_train],\n\u001B[1;32m     12\u001B[0m                                    resample(X_train[non_user_mask_train],\n\u001B[1;32m     13\u001B[0m                                             n_samples\u001B[38;5;241m=\u001B[39muser_mask_train\u001B[38;5;241m.\u001B[39msum(),\n\u001B[1;32m     14\u001B[0m                                             random_state\u001B[38;5;241m=\u001B[39m\u001B[38;5;241m42\u001B[39m)])\n\u001B[1;32m     16\u001B[0m y_balanced_train \u001B[38;5;241m=\u001B[39m np\u001B[38;5;241m.\u001B[39mconcatenate([np\u001B[38;5;241m.\u001B[39mones(user_mask_train\u001B[38;5;241m.\u001B[39msum()),\n\u001B[1;32m     17\u001B[0m                                    np\u001B[38;5;241m.\u001B[39mzeros(user_mask_train\u001B[38;5;241m.\u001B[39msum())])  \u001B[38;5;66;03m# 1 for user, 0 for non-user\u001B[39;00m\n\u001B[1;32m     19\u001B[0m X_balanced_test \u001B[38;5;241m=\u001B[39m np\u001B[38;5;241m.\u001B[39mconcatenate([X_test[user_mask_test],\n\u001B[0;32m---> 20\u001B[0m                                   \u001B[43mresample\u001B[49m\u001B[43m(\u001B[49m\u001B[43mX_test\u001B[49m\u001B[43m[\u001B[49m\u001B[43mnon_user_mask_test\u001B[49m\u001B[43m]\u001B[49m\u001B[43m,\u001B[49m\n\u001B[1;32m     21\u001B[0m \u001B[43m                                           \u001B[49m\u001B[43mn_samples\u001B[49m\u001B[38;5;241;43m=\u001B[39;49m\u001B[43muser_mask_test\u001B[49m\u001B[38;5;241;43m.\u001B[39;49m\u001B[43msum\u001B[49m\u001B[43m(\u001B[49m\u001B[43m)\u001B[49m\u001B[43m,\u001B[49m\n\u001B[1;32m     22\u001B[0m \u001B[43m                                           \u001B[49m\u001B[43mrandom_state\u001B[49m\u001B[38;5;241;43m=\u001B[39;49m\u001B[38;5;241;43m42\u001B[39;49m\u001B[43m)\u001B[49m])\n\u001B[1;32m     24\u001B[0m y_balanced_test \u001B[38;5;241m=\u001B[39m np\u001B[38;5;241m.\u001B[39mconcatenate([np\u001B[38;5;241m.\u001B[39mones(user_mask_test\u001B[38;5;241m.\u001B[39msum()),\n\u001B[1;32m     25\u001B[0m                                   np\u001B[38;5;241m.\u001B[39mzeros(user_mask_test\u001B[38;5;241m.\u001B[39msum())])  \u001B[38;5;66;03m# 1 for user, 0 for non-user\u001B[39;00m\n\u001B[1;32m     27\u001B[0m \u001B[38;5;66;03m# Shuffling the balanced train and test sets\u001B[39;00m\n",
      "File \u001B[0;32m~/PycharmProjects/Biometric_system_based_on_behavioral_biometrics_typing_errors_in_English/venv/lib/python3.11/site-packages/sklearn/utils/_param_validation.py:201\u001B[0m, in \u001B[0;36mvalidate_params.<locals>.decorator.<locals>.wrapper\u001B[0;34m(*args, **kwargs)\u001B[0m\n\u001B[1;32m    198\u001B[0m to_ignore \u001B[38;5;241m+\u001B[39m\u001B[38;5;241m=\u001B[39m [\u001B[38;5;124m\"\u001B[39m\u001B[38;5;124mself\u001B[39m\u001B[38;5;124m\"\u001B[39m, \u001B[38;5;124m\"\u001B[39m\u001B[38;5;124mcls\u001B[39m\u001B[38;5;124m\"\u001B[39m]\n\u001B[1;32m    199\u001B[0m params \u001B[38;5;241m=\u001B[39m {k: v \u001B[38;5;28;01mfor\u001B[39;00m k, v \u001B[38;5;129;01min\u001B[39;00m params\u001B[38;5;241m.\u001B[39marguments\u001B[38;5;241m.\u001B[39mitems() \u001B[38;5;28;01mif\u001B[39;00m k \u001B[38;5;129;01mnot\u001B[39;00m \u001B[38;5;129;01min\u001B[39;00m to_ignore}\n\u001B[0;32m--> 201\u001B[0m \u001B[43mvalidate_parameter_constraints\u001B[49m\u001B[43m(\u001B[49m\n\u001B[1;32m    202\u001B[0m \u001B[43m    \u001B[49m\u001B[43mparameter_constraints\u001B[49m\u001B[43m,\u001B[49m\u001B[43m \u001B[49m\u001B[43mparams\u001B[49m\u001B[43m,\u001B[49m\u001B[43m \u001B[49m\u001B[43mcaller_name\u001B[49m\u001B[38;5;241;43m=\u001B[39;49m\u001B[43mfunc\u001B[49m\u001B[38;5;241;43m.\u001B[39;49m\u001B[38;5;18;43m__qualname__\u001B[39;49m\n\u001B[1;32m    203\u001B[0m \u001B[43m\u001B[49m\u001B[43m)\u001B[49m\n\u001B[1;32m    205\u001B[0m \u001B[38;5;28;01mtry\u001B[39;00m:\n\u001B[1;32m    206\u001B[0m     \u001B[38;5;28;01mwith\u001B[39;00m config_context(\n\u001B[1;32m    207\u001B[0m         skip_parameter_validation\u001B[38;5;241m=\u001B[39m(\n\u001B[1;32m    208\u001B[0m             prefer_skip_nested_validation \u001B[38;5;129;01mor\u001B[39;00m global_skip_validation\n\u001B[1;32m    209\u001B[0m         )\n\u001B[1;32m    210\u001B[0m     ):\n",
      "File \u001B[0;32m~/PycharmProjects/Biometric_system_based_on_behavioral_biometrics_typing_errors_in_English/venv/lib/python3.11/site-packages/sklearn/utils/_param_validation.py:95\u001B[0m, in \u001B[0;36mvalidate_parameter_constraints\u001B[0;34m(parameter_constraints, params, caller_name)\u001B[0m\n\u001B[1;32m     89\u001B[0m \u001B[38;5;28;01melse\u001B[39;00m:\n\u001B[1;32m     90\u001B[0m     constraints_str \u001B[38;5;241m=\u001B[39m (\n\u001B[1;32m     91\u001B[0m         \u001B[38;5;124mf\u001B[39m\u001B[38;5;124m\"\u001B[39m\u001B[38;5;132;01m{\u001B[39;00m\u001B[38;5;124m'\u001B[39m\u001B[38;5;124m, \u001B[39m\u001B[38;5;124m'\u001B[39m\u001B[38;5;241m.\u001B[39mjoin([\u001B[38;5;28mstr\u001B[39m(c)\u001B[38;5;250m \u001B[39m\u001B[38;5;28;01mfor\u001B[39;00m\u001B[38;5;250m \u001B[39mc\u001B[38;5;250m \u001B[39m\u001B[38;5;129;01min\u001B[39;00m\u001B[38;5;250m \u001B[39mconstraints[:\u001B[38;5;241m-\u001B[39m\u001B[38;5;241m1\u001B[39m]])\u001B[38;5;132;01m}\u001B[39;00m\u001B[38;5;124m or\u001B[39m\u001B[38;5;124m\"\u001B[39m\n\u001B[1;32m     92\u001B[0m         \u001B[38;5;124mf\u001B[39m\u001B[38;5;124m\"\u001B[39m\u001B[38;5;124m \u001B[39m\u001B[38;5;132;01m{\u001B[39;00mconstraints[\u001B[38;5;241m-\u001B[39m\u001B[38;5;241m1\u001B[39m]\u001B[38;5;132;01m}\u001B[39;00m\u001B[38;5;124m\"\u001B[39m\n\u001B[1;32m     93\u001B[0m     )\n\u001B[0;32m---> 95\u001B[0m \u001B[38;5;28;01mraise\u001B[39;00m InvalidParameterError(\n\u001B[1;32m     96\u001B[0m     \u001B[38;5;124mf\u001B[39m\u001B[38;5;124m\"\u001B[39m\u001B[38;5;124mThe \u001B[39m\u001B[38;5;132;01m{\u001B[39;00mparam_name\u001B[38;5;132;01m!r}\u001B[39;00m\u001B[38;5;124m parameter of \u001B[39m\u001B[38;5;132;01m{\u001B[39;00mcaller_name\u001B[38;5;132;01m}\u001B[39;00m\u001B[38;5;124m must be\u001B[39m\u001B[38;5;124m\"\u001B[39m\n\u001B[1;32m     97\u001B[0m     \u001B[38;5;124mf\u001B[39m\u001B[38;5;124m\"\u001B[39m\u001B[38;5;124m \u001B[39m\u001B[38;5;132;01m{\u001B[39;00mconstraints_str\u001B[38;5;132;01m}\u001B[39;00m\u001B[38;5;124m. Got \u001B[39m\u001B[38;5;132;01m{\u001B[39;00mparam_val\u001B[38;5;132;01m!r}\u001B[39;00m\u001B[38;5;124m instead.\u001B[39m\u001B[38;5;124m\"\u001B[39m\n\u001B[1;32m     98\u001B[0m )\n",
      "\u001B[0;31mInvalidParameterError\u001B[0m: The 'n_samples' parameter of resample must be an int in the range [1, inf) or None. Got 0 instead."
     ]
    }
   ],
   "source": [
    "history_dict = {}\n",
    "for user in np.unique(y_train):\n",
    "        # Create balanced datasets for user and non-user\n",
    "        user_mask_train = (y_train == user)\n",
    "        non_user_mask_train = (y_train != user)\n",
    "\n",
    "        user_mask_test = (y_test == user)\n",
    "        non_user_mask_test = (y_test != user)\n",
    "\n",
    "        # Concatenate user and non-user samples (equal numbers)\n",
    "        X_balanced_train = np.concatenate([X_train[user_mask_train],\n",
    "                                           resample(X_train[non_user_mask_train],\n",
    "                                                    n_samples=user_mask_train.sum(),\n",
    "                                                    random_state=42)])\n",
    "\n",
    "        y_balanced_train = np.concatenate([np.ones(user_mask_train.sum()),\n",
    "                                           np.zeros(user_mask_train.sum())])  # 1 for user, 0 for non-user\n",
    "\n",
    "        X_balanced_test = np.concatenate([X_test[user_mask_test],\n",
    "                                          resample(X_test[non_user_mask_test],\n",
    "                                                   n_samples=user_mask_test.sum(),\n",
    "                                                   random_state=42)])\n",
    "\n",
    "        y_balanced_test = np.concatenate([np.ones(user_mask_test.sum()),\n",
    "                                          np.zeros(user_mask_test.sum())])  # 1 for user, 0 for non-user\n",
    "\n",
    "        # Shuffling the balanced train and test sets\n",
    "        X_balanced_train, y_balanced_train = shuffle(X_balanced_train, y_balanced_train, random_state=42)\n",
    "        X_balanced_test, y_balanced_test = shuffle(X_balanced_test, y_balanced_test, random_state=42)\n",
    "\n",
    "        # Create and compile the model\n",
    "        model = KerasNNClf(X_train.shape[1], len(user_names.keys()), True).create_neural_network()\n",
    "\n",
    "        # Train the model with fewer epochs and a larger batch size\n",
    "        history = model.fit(X_balanced_train, y_balanced_train, epochs=100, batch_size=64, callbacks=[model.earlystopping, model.logger])\n",
    "        history_dict[user] = history\n",
    "        # Evaluate the model\n",
    "        loss, accuracy = model.evaluate(X_balanced_test, y_balanced_test)\n",
    "\n",
    "        print('Test loss:', loss)\n",
    "        print('Test accuracy:', accuracy)\n",
    "\n",
    "        # Generate and print the confusion matrix\n",
    "        y_pred = model.predict(X_balanced_test).ravel()\n",
    "\n",
    "        y_pred_class = [1 if prob >= 0.5 else 0 for prob in y_pred]\n",
    "        print(confusion_matrix(y_balanced_test, y_pred_class))"
   ],
   "metadata": {
    "collapsed": false,
    "ExecuteTime": {
     "end_time": "2023-07-29T17:18:15.662414615Z",
     "start_time": "2023-07-29T17:18:12.132921941Z"
    }
   },
   "id": "53aeaf172abffed5"
  }
 ],
 "metadata": {
  "kernelspec": {
   "display_name": "Python 3",
   "language": "python",
   "name": "python3"
  },
  "language_info": {
   "codemirror_mode": {
    "name": "ipython",
    "version": 2
   },
   "file_extension": ".py",
   "mimetype": "text/x-python",
   "name": "python",
   "nbconvert_exporter": "python",
   "pygments_lexer": "ipython2",
   "version": "2.7.6"
  }
 },
 "nbformat": 4,
 "nbformat_minor": 5
}
