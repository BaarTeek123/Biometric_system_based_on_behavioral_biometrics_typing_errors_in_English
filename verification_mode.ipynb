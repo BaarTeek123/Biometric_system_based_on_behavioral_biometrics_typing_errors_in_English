{
 "cells": [
  {
   "cell_type": "markdown",
   "source": [
    "# Verification system basing on behavioral biometrics: typing errors"
   ],
   "metadata": {
    "collapsed": false
   },
   "id": "75be4e784c2f006c"
  },
  {
   "cell_type": "markdown",
   "source": [
    "## Configuration\n",
    "### Load dependencies"
   ],
   "metadata": {
    "collapsed": false
   },
   "id": "6d87fe5a78cbc622"
  },
  {
   "cell_type": "code",
   "execution_count": 12,
   "outputs": [],
   "source": [
    "import matplotlib.pyplot as plt\n",
    "import numpy as np\n",
    "import pandas as pd\n",
    "import seaborn as sns\n",
    "import tensorflow as tf\n",
    "import tensorflow_decision_forests as tfdf\n",
    "from keras.metrics import AUC\n",
    "from sklearn.metrics import confusion_matrix\n",
    "from sklearn.metrics import roc_curve\n",
    "from sklearn.model_selection import KFold\n",
    "from sklearn.model_selection import train_test_split\n",
    "from sklearn.preprocessing import Normalizer\n",
    "from os.path import isdir, join\n",
    "\n",
    "\n",
    "from create_model import create_dataset\n",
    "from logger import logger\n",
    "from verification_mode import balance_dataset"
   ],
   "metadata": {
    "collapsed": false,
    "ExecuteTime": {
     "end_time": "2023-09-11T20:55:08.499472488Z",
     "start_time": "2023-09-11T20:55:08.454246943Z"
    }
   },
   "id": "ef239044e925db57"
  },
  {
   "cell_type": "code",
   "execution_count": 10,
   "outputs": [],
   "source": [
    "def run_cv_tf(model, X, y, X_valid, y_valid, n_splits=5, name='',\n",
    "                           plot_path='results_identification/', title = None, use_weigted_dataset=False):\n",
    "    kf = KFold(n_splits=n_splits)\n",
    "    results = []\n",
    "    # Initialization\n",
    "    all_far = []\n",
    "    all_frr = []\n",
    "    all_tpr = []\n",
    "    all_eer = []\n",
    "    cumulative_cm = np.zeros((2, 2)) \n",
    "    \n",
    "    \n",
    "    for train_index, test_index in kf.split(X):\n",
    "        # Create train and test datasets using the indices from KFold\n",
    "        X_train, X_test = X[train_index], X[test_index]\n",
    "        y_train, y_test = y[train_index], y[test_index]\n",
    "        logger.info(f\"X_train: {X_train.shape}, y_train: {y_train.shape}\")\n",
    "        if use_weigted_dataset:\n",
    "            unique_classes, class_counts = np.unique(y, return_counts=True)\n",
    "            class_weight_dict = dict(zip(unique_classes,  len(y_train) / (len(unique_classes) * class_counts)))\n",
    "            sample_weights = np.array([class_weight_dict[class_val] for class_val in y_train])\n",
    "            train_dataset = tf.data.Dataset.from_tensor_slices((X_train, y_train, sample_weights)).batch(1000)\n",
    "        else: \n",
    "           train_dataset = tf.data.Dataset.from_tensor_slices((X_train, y_train)).batch(1000) \n",
    "\n",
    "        \n",
    "        X_valid, no_use_x, y_valid, no_use_y = train_test_split(X_valid, y_valid, test_size=0.1)\n",
    "\n",
    "        model.fit(train_dataset)\n",
    "        model.compile(metrics=[AUC(name='auc')])\n",
    "        predictions = model.predict(X_valid, verbose=2)\n",
    "        predictions = np.hstack((1 - predictions, predictions))\n",
    "\n",
    "        # predictions = model.predict(X_valid).reshape(-1, 1)\n",
    "        predictions = model.predict(X_valid)\n",
    "\n",
    "        predictions = np.hstack((1 - predictions, predictions))  \n",
    "        y_score = predictions[:, 1]\n",
    "        # Compute ROC curve metrics\n",
    "        far, tpr, _ = roc_curve(y_valid, y_score)\n",
    "        frr = 1 - tpr\n",
    "        all_frr.append(frr)\n",
    "        all_far.append(far)\n",
    "        all_tpr.append(tpr)\n",
    "        # Compute EER\n",
    "        eer_index = np.nanargmin(np.absolute(far - frr))\n",
    "        eer = (far[eer_index] + frr[eer_index]) / 2\n",
    "        all_eer.append(eer)\n",
    "        \n",
    "        cm = confusion_matrix(y_valid, np.argmax(predictions, axis=1))\n",
    "        cumulative_cm += cm\n",
    "    fig, ax = plt.subplots(1, 3, figsize=(15, 5))\n",
    "    \n",
    "    for i, (far, tpr) in enumerate(zip(all_far, all_tpr)):\n",
    "        ax[0].plot(far, tpr, lw=1, alpha=0.3, label=f'Fold {i+1} (EER = {all_eer[i]:.2f})')\n",
    "    ax[0].set_xlabel('False Positive Rate')\n",
    "    ax[0].set_ylabel('True Positive Rate')\n",
    "    ax[0].set_title('ROC Curves')\n",
    "    ax[0].legend(loc='lower right')\n",
    "        \n",
    "    for i, (far, frr) in enumerate(zip(all_far, all_frr)):        \n",
    "        ax[1].plot(frr, far, color='green', linewidth=2)\n",
    "        \n",
    "        ax[1].set_title('T-ROC Curve')\n",
    "        ax[1].set_xlabel('FRR (False Rejection Rate)')\n",
    "        ax[1].set_ylabel('FAR (False Acceptance Rate)')\n",
    "                \n",
    "    sns.heatmap(cumulative_cm, annot=True, fmt='g', cmap='Blues', xticklabels=['Other user', 'User'], yticklabels=['Other user', 'User'], ax=ax[2])        \n",
    "    ax[2].set_title('Confusion Matrix')\n",
    "    ax[2].set_xlabel('Predicted')\n",
    "    ax[2].set_ylabel('Actual')\n",
    "    plt.tight_layout()\n",
    "    if isdir(plot_path) and title is not None:\n",
    "        plt.savefig(join(plot_path, title+'.png'))\n",
    "    plt.show()    \n",
    "        \n",
    "\n",
    "    return pd.DataFrame(results), all_far, all_frr, all_tpr, all_eer, cumulative_cm \n"
   ],
   "metadata": {
    "collapsed": false,
    "ExecuteTime": {
     "end_time": "2023-09-09T14:30:59.587098624Z",
     "start_time": "2023-09-09T14:30:59.538538790Z"
    }
   },
   "id": "c055fe91677315d"
  },
  {
   "cell_type": "code",
   "execution_count": 4,
   "outputs": [],
   "source": [],
   "metadata": {
    "collapsed": false,
    "ExecuteTime": {
     "end_time": "2023-09-09T14:27:25.535236858Z",
     "start_time": "2023-09-09T14:27:24.576093264Z"
    }
   },
   "id": "597d95256549071a"
  },
  {
   "cell_type": "code",
   "execution_count": 5,
   "outputs": [],
   "source": [
    "def custom_asymmetric_train(y_true, y_pred):\n",
    "    residual = (y_true - y_pred).astype(\"float\")\n",
    "    grad = np.where(residual<0, -2*10.0*residual, -2*residual)\n",
    "    hess = np.where(residual<0, 2*10.0, 2.0)\n",
    "    return grad, hess\n",
    "\n",
    "def custom_asymmetric_valid(y_true, y_pred):\n",
    "    residual = (y_true - y_pred).astype(\"float\")\n",
    "    loss = np.where(residual < 0, (residual**2)*10.0, residual**2) \n",
    "    return \"custom_asymmetric_eval\", np.mean(loss), False"
   ],
   "metadata": {
    "collapsed": false,
    "ExecuteTime": {
     "end_time": "2023-09-09T14:27:25.554736266Z",
     "start_time": "2023-09-09T14:27:24.576491070Z"
    }
   },
   "id": "34d07f10a4898aad"
  },
  {
   "cell_type": "code",
   "execution_count": 6,
   "outputs": [],
   "source": [
    "import lightgbm\n",
    "\n",
    "def run_cv_lbm_verification(model, X, y, X_valid, y_valid, n_splits=5, name='',\n",
    "                           plot_path='results_identification/', title = None, is_multiclass=True):\n",
    "    model = lightgbm.LGBMClassifier() \n",
    "    kf = KFold(n_splits=n_splits)\n",
    "    results = []\n",
    "    # Initialization\n",
    "    all_far = []\n",
    "    all_frr = []\n",
    "    all_tpr = []\n",
    "    all_eer = []\n",
    "    cumulative_cm = np.zeros((2, 2)) \n",
    "    for train_index, test_index in kf.split(X):\n",
    "        # Create train and test datasets using the indices from KFold\n",
    "        X_train, X_test = X[train_index], X[test_index]\n",
    "        y_train, y_test = y[train_index], y[test_index]\n",
    "        logger.info(f\"X_train: {X_train.shape}, y_train: {y_train.shape}\")\n",
    "        train_dataset = tf.data.Dataset.from_tensor_slices((X_train, y_train)).batch(1000)\n",
    "        test_dataset = tf.data.Dataset.from_tensor_slices((X_test, y_test)).batch(1000)\n",
    "        X_valid, no_use_x, y_valid, no_use_y = train_test_split(X_valid, y_valid, test_size=0.1)\n",
    "        model.set_params(**{'objective': custom_asymmetric_train}, metrics = [\"precision\"])\n",
    "\n",
    "        model.fit(X_train, y_train, eval_set=[(X_test, y_test)], eval_metric=custom_asymmetric_valid)\n",
    "\n",
    "        # predictions = model.predict(X_valid).reshape(-1, 1)\n",
    "        predictions = model.predict(X_valid)\n",
    "        print(predictions)\n",
    "        \"\"\"\n",
    "\n",
    "        model.fit(train_dataset)\n",
    "        model.compile(metrics=[AUC()])\n",
    "        predictions = model.predict(X_valid, verbose=2)\n",
    "        \"\"\"\n",
    "\n",
    "        predictions = np.hstack((1 - predictions, predictions))  \n",
    "        y_score = predictions[:, 1]\n",
    "        # Compute ROC curve metrics\n",
    "        far, tpr, _ = roc_curve(y_valid, y_score)\n",
    "        frr = 1 - tpr\n",
    "        all_frr.append(frr)\n",
    "        all_far.append(far)\n",
    "        all_tpr.append(tpr)\n",
    "        # Compute EER\n",
    "        eer_index = np.nanargmin(np.absolute(far - frr))\n",
    "        eer = (far[eer_index] + frr[eer_index]) / 2\n",
    "        all_eer.append(eer)\n",
    "        \n",
    "        cm = confusion_matrix(y_valid, np.argmax(predictions, axis=1))\n",
    "        cumulative_cm += cm\n",
    "    fig, ax = plt.subplots(1, 3, figsize=(24, 8))\n",
    "\n",
    "    for i, (far, tpr) in enumerate(zip(all_far, all_tpr)):\n",
    "        ax[0].plot(far, tpr, lw=1, alpha=0.3, label=f'Fold {i+1} (EER = {all_eer[i]:.2f})')\n",
    "    ax[0].set_xlabel('False Positive Rate')\n",
    "    ax[0].set_ylabel('True Positive Rate')\n",
    "    ax[0].set_title('ROC Curves')\n",
    "    ax[0].legend(loc='lower right')\n",
    "        \n",
    "    for i, (far, frr) in enumerate(zip(all_far, all_frr)):        \n",
    "        ax[1].plot(frr, far, color='green', linewidth=2)\n",
    "        \n",
    "        ax[1].set_title('T-ROC Curve')\n",
    "        ax[1].set_xlabel('FRR (False Rejection Rate)')\n",
    "        ax[1].set_ylabel('FAR (False Acceptance Rate)')\n",
    "                \n",
    "    sns.heatmap(cumulative_cm, annot=True, fmt='g', cmap='Blues', xticklabels=['Other user', 'User'], yticklabels=['Other user', 'User'], ax=ax[2])        \n",
    "    ax[2].set_title('Confusion Matrix')\n",
    "    ax[2].set_xlabel('Predicted')\n",
    "    ax[2].set_ylabel('Actual')\n",
    "    plt.tight_layout()\n",
    "    plt.show()    \n",
    "        \n",
    "\n",
    "    return pd.DataFrame(results), all_far, all_frr, all_tpr, all_eer, cumulative_cm \n"
   ],
   "metadata": {
    "collapsed": false,
    "ExecuteTime": {
     "end_time": "2023-09-09T14:27:25.557528407Z",
     "start_time": "2023-09-09T14:27:24.576749631Z"
    }
   },
   "id": "99c0237aa4e68532"
  },
  {
   "cell_type": "code",
   "execution_count": 7,
   "outputs": [],
   "source": [
    "def train_and_evaluate_for_user(model, params, X_train, y_train, X_test, y_test, user):\n",
    "    X_balanced_train, y_balanced_train = balance_dataset(X_train, y_train, user, ratio=0.2)\n",
    "    X_balanced_test, y_balanced_test = balance_dataset(X_test, y_test, user)\n",
    "\n",
    "\n",
    "    return run_cv_tf(model, X_balanced_train, y_balanced_train, X_balanced_test, y_balanced_test, plot_path='results_verification/', name='GBDT')"
   ],
   "metadata": {
    "collapsed": false,
    "ExecuteTime": {
     "end_time": "2023-09-09T14:27:25.569165299Z",
     "start_time": "2023-09-09T14:27:24.604401249Z"
    }
   },
   "id": "800125c2e39b8429"
  },
  {
   "cell_type": "code",
   "execution_count": 8,
   "outputs": [
    {
     "name": "stdout",
     "output_type": "stream",
     "text": [
      "Alkinoos.json\n",
      "Alkinoos.json\n",
      "u_5.json\n",
      "u_5.json\n",
      "Zuzia Babol.json\n",
      "Zuzia Babol.json\n",
      "u_4.json\n",
      "u_4.json\n",
      "Kacper ZF.json\n",
      "Kacper ZF.json\n",
      "Mateusz.json\n",
      "Mateusz.json\n",
      "ZF Andrzej.json\n",
      "ZF Andrzej.json\n",
      "Agata.json\n",
      "Agata.json\n",
      "u_1.json\n",
      "u_1.json\n",
      "u_7.json\n",
      "u_7.json\n",
      "u_2.json\n",
      "u_2.json\n",
      "Cezary Babol.json\n",
      "Cezary Babol.json\n",
      "u_3.json\n",
      "u_3.json\n",
      "u_6.json\n",
      "u_6.json\n",
      "u_8.json\n",
      "u_8.json\n",
      "Lilou.json\n",
      "Lilou.json\n",
      "Bartek ZF.json\n",
      "Bartek ZF.json\n",
      "ZF Kamil.json\n",
      "ZF Kamil.json\n",
      "Babol {'Alkinoos': 0, 'Jakub': 1, 'Zuzia Babol': 2, 'Jula': 3, 'Kacper ZF': 4, 'Mateusz': 5, 'ZF Andrzej': 6, 'Agata': 7, 'Babol': 8, 'Nata': 9, 'Bartek': 10, 'Cezary Babol': 11, 'Mieszko': 12, 'Miki': 13, 'Zuz': 14, 'Lilou': 15, 'Bartek ZF': 16, 'Kamil ZF': 17}\n",
      "2023-09-09 16:27:27,079 — logger — ERROR — Requested 70000 combinations, but only 2080 are possible.\n",
      "NoneType: None\n",
      "2023-09-09 16:27:27,080 — logger — INFO — Dropped 0 duplcates.\n",
      "Kacper ZF {'Alkinoos': 0, 'Jakub': 1, 'Zuzia Babol': 2, 'Jula': 3, 'Kacper ZF': 4, 'Mateusz': 5, 'ZF Andrzej': 6, 'Agata': 7, 'Babol': 8, 'Nata': 9, 'Bartek': 10, 'Cezary Babol': 11, 'Mieszko': 12, 'Miki': 13, 'Zuz': 14, 'Lilou': 15, 'Bartek ZF': 16, 'Kamil ZF': 17}\n",
      "2023-09-09 16:27:27,320 — logger — ERROR — Requested 70000 combinations, but only 5886 are possible.\n",
      "NoneType: None\n",
      "2023-09-09 16:27:27,323 — logger — INFO — Dropped 0 duplcates.\n",
      "Mateusz {'Alkinoos': 0, 'Jakub': 1, 'Zuzia Babol': 2, 'Jula': 3, 'Kacper ZF': 4, 'Mateusz': 5, 'ZF Andrzej': 6, 'Agata': 7, 'Babol': 8, 'Nata': 9, 'Bartek': 10, 'Cezary Babol': 11, 'Mieszko': 12, 'Miki': 13, 'Zuz': 14, 'Lilou': 15, 'Bartek ZF': 16, 'Kamil ZF': 17}\n",
      "2023-09-09 16:27:28,160 — logger — ERROR — Requested 70000 combinations, but only 3081 are possible.\n",
      "NoneType: None\n",
      "2023-09-09 16:27:28,166 — logger — INFO — Dropped 0 duplcates.\n",
      "Kamil ZF {'Alkinoos': 0, 'Jakub': 1, 'Zuzia Babol': 2, 'Jula': 3, 'Kacper ZF': 4, 'Mateusz': 5, 'ZF Andrzej': 6, 'Agata': 7, 'Babol': 8, 'Nata': 9, 'Bartek': 10, 'Cezary Babol': 11, 'Mieszko': 12, 'Miki': 13, 'Zuz': 14, 'Lilou': 15, 'Bartek ZF': 16, 'Kamil ZF': 17}\n",
      "2023-09-09 16:27:28,524 — logger — ERROR — Requested 70000 combinations, but only 300 are possible.\n",
      "NoneType: None\n",
      "2023-09-09 16:27:28,525 — logger — INFO — Dropped 0 duplcates.\n",
      "ZF Andrzej {'Alkinoos': 0, 'Jakub': 1, 'Zuzia Babol': 2, 'Jula': 3, 'Kacper ZF': 4, 'Mateusz': 5, 'ZF Andrzej': 6, 'Agata': 7, 'Babol': 8, 'Nata': 9, 'Bartek': 10, 'Cezary Babol': 11, 'Mieszko': 12, 'Miki': 13, 'Zuz': 14, 'Lilou': 15, 'Bartek ZF': 16, 'Kamil ZF': 17}\n",
      "2023-09-09 16:27:28,564 — logger — ERROR — Requested 70000 combinations, but only 9316 are possible.\n",
      "NoneType: None\n",
      "2023-09-09 16:27:28,568 — logger — INFO — Dropped 0 duplcates.\n",
      "Nata {'Alkinoos': 0, 'Jakub': 1, 'Zuzia Babol': 2, 'Jula': 3, 'Kacper ZF': 4, 'Mateusz': 5, 'ZF Andrzej': 6, 'Agata': 7, 'Babol': 8, 'Nata': 9, 'Bartek': 10, 'Cezary Babol': 11, 'Mieszko': 12, 'Miki': 13, 'Zuz': 14, 'Lilou': 15, 'Bartek ZF': 16, 'Kamil ZF': 17}\n",
      "2023-09-09 16:27:29,874 — logger — ERROR — Requested 70000 combinations, but only 903 are possible.\n",
      "NoneType: None\n",
      "2023-09-09 16:27:29,876 — logger — INFO — Dropped 0 duplcates.\n",
      "Agata {'Alkinoos': 0, 'Jakub': 1, 'Zuzia Babol': 2, 'Jula': 3, 'Kacper ZF': 4, 'Mateusz': 5, 'ZF Andrzej': 6, 'Agata': 7, 'Babol': 8, 'Nata': 9, 'Bartek': 10, 'Cezary Babol': 11, 'Mieszko': 12, 'Miki': 13, 'Zuz': 14, 'Lilou': 15, 'Bartek ZF': 16, 'Kamil ZF': 17}\n",
      "2023-09-09 16:27:30,010 — logger — ERROR — Requested 70000 combinations, but only 3916 are possible.\n",
      "NoneType: None\n",
      "2023-09-09 16:27:30,012 — logger — INFO — Dropped 0 duplcates.\n",
      "Alkinoos {'Alkinoos': 0, 'Jakub': 1, 'Zuzia Babol': 2, 'Jula': 3, 'Kacper ZF': 4, 'Mateusz': 5, 'ZF Andrzej': 6, 'Agata': 7, 'Babol': 8, 'Nata': 9, 'Bartek': 10, 'Cezary Babol': 11, 'Mieszko': 12, 'Miki': 13, 'Zuz': 14, 'Lilou': 15, 'Bartek ZF': 16, 'Kamil ZF': 17}\n",
      "2023-09-09 16:27:30,520 — logger — ERROR — Requested 70000 combinations, but only 11325 are possible.\n",
      "NoneType: None\n",
      "2023-09-09 16:27:30,526 — logger — INFO — Dropped 0 duplcates.\n",
      "Jakub {'Alkinoos': 0, 'Jakub': 1, 'Zuzia Babol': 2, 'Jula': 3, 'Kacper ZF': 4, 'Mateusz': 5, 'ZF Andrzej': 6, 'Agata': 7, 'Babol': 8, 'Nata': 9, 'Bartek': 10, 'Cezary Babol': 11, 'Mieszko': 12, 'Miki': 13, 'Zuz': 14, 'Lilou': 15, 'Bartek ZF': 16, 'Kamil ZF': 17}\n",
      "2023-09-09 16:27:31,947 — logger — ERROR — Requested 70000 combinations, but only 990 are possible.\n",
      "NoneType: None\n",
      "2023-09-09 16:27:31,948 — logger — INFO — Dropped 0 duplcates.\n",
      "Lilou {'Alkinoos': 0, 'Jakub': 1, 'Zuzia Babol': 2, 'Jula': 3, 'Kacper ZF': 4, 'Mateusz': 5, 'ZF Andrzej': 6, 'Agata': 7, 'Babol': 8, 'Nata': 9, 'Bartek': 10, 'Cezary Babol': 11, 'Mieszko': 12, 'Miki': 13, 'Zuz': 14, 'Lilou': 15, 'Bartek ZF': 16, 'Kamil ZF': 17}\n",
      "2023-09-09 16:27:32,078 — logger — ERROR — Requested 70000 combinations, but only 406 are possible.\n",
      "NoneType: None\n",
      "2023-09-09 16:27:32,079 — logger — INFO — Dropped 0 duplcates.\n",
      "Jula {'Alkinoos': 0, 'Jakub': 1, 'Zuzia Babol': 2, 'Jula': 3, 'Kacper ZF': 4, 'Mateusz': 5, 'ZF Andrzej': 6, 'Agata': 7, 'Babol': 8, 'Nata': 9, 'Bartek': 10, 'Cezary Babol': 11, 'Mieszko': 12, 'Miki': 13, 'Zuz': 14, 'Lilou': 15, 'Bartek ZF': 16, 'Kamil ZF': 17}\n",
      "2023-09-09 16:27:32,125 — logger — ERROR — Requested 70000 combinations, but only 11628 are possible.\n",
      "NoneType: None\n",
      "2023-09-09 16:27:32,130 — logger — INFO — Dropped 0 duplcates.\n",
      "Mieszko {'Alkinoos': 0, 'Jakub': 1, 'Zuzia Babol': 2, 'Jula': 3, 'Kacper ZF': 4, 'Mateusz': 5, 'ZF Andrzej': 6, 'Agata': 7, 'Babol': 8, 'Nata': 9, 'Bartek': 10, 'Cezary Babol': 11, 'Mieszko': 12, 'Miki': 13, 'Zuz': 14, 'Lilou': 15, 'Bartek ZF': 16, 'Kamil ZF': 17}\n",
      "2023-09-09 16:27:33,349 — logger — ERROR — Requested 70000 combinations, but only 666 are possible.\n",
      "NoneType: None\n",
      "2023-09-09 16:27:33,350 — logger — INFO — Dropped 0 duplcates.\n",
      "Bartek ZF {'Alkinoos': 0, 'Jakub': 1, 'Zuzia Babol': 2, 'Jula': 3, 'Kacper ZF': 4, 'Mateusz': 5, 'ZF Andrzej': 6, 'Agata': 7, 'Babol': 8, 'Nata': 9, 'Bartek': 10, 'Cezary Babol': 11, 'Mieszko': 12, 'Miki': 13, 'Zuz': 14, 'Lilou': 15, 'Bartek ZF': 16, 'Kamil ZF': 17}\n",
      "2023-09-09 16:27:33,434 — logger — ERROR — Requested 70000 combinations, but only 1326 are possible.\n",
      "NoneType: None\n",
      "2023-09-09 16:27:33,435 — logger — INFO — Dropped 0 duplcates.\n",
      "Bartek {'Alkinoos': 0, 'Jakub': 1, 'Zuzia Babol': 2, 'Jula': 3, 'Kacper ZF': 4, 'Mateusz': 5, 'ZF Andrzej': 6, 'Agata': 7, 'Babol': 8, 'Nata': 9, 'Bartek': 10, 'Cezary Babol': 11, 'Mieszko': 12, 'Miki': 13, 'Zuz': 14, 'Lilou': 15, 'Bartek ZF': 16, 'Kamil ZF': 17}\n",
      "2023-09-09 16:27:33,608 — logger — ERROR — Requested 70000 combinations, but only 435 are possible.\n",
      "NoneType: None\n",
      "2023-09-09 16:27:33,609 — logger — INFO — Dropped 0 duplcates.\n",
      "Miki {'Alkinoos': 0, 'Jakub': 1, 'Zuzia Babol': 2, 'Jula': 3, 'Kacper ZF': 4, 'Mateusz': 5, 'ZF Andrzej': 6, 'Agata': 7, 'Babol': 8, 'Nata': 9, 'Bartek': 10, 'Cezary Babol': 11, 'Mieszko': 12, 'Miki': 13, 'Zuz': 14, 'Lilou': 15, 'Bartek ZF': 16, 'Kamil ZF': 17}\n",
      "2023-09-09 16:27:33,659 — logger — ERROR — Requested 70000 combinations, but only 276 are possible.\n",
      "NoneType: None\n",
      "2023-09-09 16:27:33,660 — logger — INFO — Dropped 0 duplcates.\n",
      "Zuzia Babol {'Alkinoos': 0, 'Jakub': 1, 'Zuzia Babol': 2, 'Jula': 3, 'Kacper ZF': 4, 'Mateusz': 5, 'ZF Andrzej': 6, 'Agata': 7, 'Babol': 8, 'Nata': 9, 'Bartek': 10, 'Cezary Babol': 11, 'Mieszko': 12, 'Miki': 13, 'Zuz': 14, 'Lilou': 15, 'Bartek ZF': 16, 'Kamil ZF': 17}\n",
      "2023-09-09 16:27:33,700 — logger — ERROR — Requested 70000 combinations, but only 253 are possible.\n",
      "NoneType: None\n",
      "2023-09-09 16:27:33,701 — logger — INFO — Dropped 0 duplcates.\n",
      "Zuz {'Alkinoos': 0, 'Jakub': 1, 'Zuzia Babol': 2, 'Jula': 3, 'Kacper ZF': 4, 'Mateusz': 5, 'ZF Andrzej': 6, 'Agata': 7, 'Babol': 8, 'Nata': 9, 'Bartek': 10, 'Cezary Babol': 11, 'Mieszko': 12, 'Miki': 13, 'Zuz': 14, 'Lilou': 15, 'Bartek ZF': 16, 'Kamil ZF': 17}\n",
      "2023-09-09 16:27:33,736 — logger — ERROR — Requested 70000 combinations, but only 435 are possible.\n",
      "NoneType: None\n",
      "2023-09-09 16:27:33,737 — logger — INFO — Dropped 0 duplcates.\n",
      "Cezary Babol {'Alkinoos': 0, 'Jakub': 1, 'Zuzia Babol': 2, 'Jula': 3, 'Kacper ZF': 4, 'Mateusz': 5, 'ZF Andrzej': 6, 'Agata': 7, 'Babol': 8, 'Nata': 9, 'Bartek': 10, 'Cezary Babol': 11, 'Mieszko': 12, 'Miki': 13, 'Zuz': 14, 'Lilou': 15, 'Bartek ZF': 16, 'Kamil ZF': 17}\n",
      "2023-09-09 16:27:33,795 — logger — ERROR — Requested 70000 combinations, but only 105 are possible.\n",
      "NoneType: None\n",
      "2023-09-09 16:27:33,795 — logger — INFO — Dropped 0 duplcates.\n",
      "2023-09-09 16:27:33,813 — logger — INFO — Created 53327 n-grams (2962 per user)\n",
      "Bartek ZF {'Alkinoos': 0, 'Jakub': 1, 'Zuzia Babol': 2, 'Jula': 3, 'Kacper ZF': 4, 'Mateusz': 5, 'ZF Andrzej': 6, 'Agata': 7, 'Babol': 8, 'Nata': 9, 'Bartek': 10, 'Cezary Babol': 11, 'Mieszko': 12, 'Miki': 13, 'Zuz': 14, 'Lilou': 15, 'Bartek ZF': 16, 'Kamil ZF': 17}\n",
      "2023-09-09 16:27:33,827 — logger — ERROR — Requested 70000 combinations, but only 990 are possible.\n",
      "NoneType: None\n",
      "2023-09-09 16:27:33,828 — logger — INFO — Dropped 0 duplcates.\n",
      "ZF Andrzej {'Alkinoos': 0, 'Jakub': 1, 'Zuzia Babol': 2, 'Jula': 3, 'Kacper ZF': 4, 'Mateusz': 5, 'ZF Andrzej': 6, 'Agata': 7, 'Babol': 8, 'Nata': 9, 'Bartek': 10, 'Cezary Babol': 11, 'Mieszko': 12, 'Miki': 13, 'Zuz': 14, 'Lilou': 15, 'Bartek ZF': 16, 'Kamil ZF': 17}\n",
      "2023-09-09 16:27:33,973 — logger — ERROR — Requested 70000 combinations, but only 10296 are possible.\n",
      "NoneType: None\n",
      "2023-09-09 16:27:33,977 — logger — INFO — Dropped 0 duplcates.\n",
      "Kacper ZF {'Alkinoos': 0, 'Jakub': 1, 'Zuzia Babol': 2, 'Jula': 3, 'Kacper ZF': 4, 'Mateusz': 5, 'ZF Andrzej': 6, 'Agata': 7, 'Babol': 8, 'Nata': 9, 'Bartek': 10, 'Cezary Babol': 11, 'Mieszko': 12, 'Miki': 13, 'Zuz': 14, 'Lilou': 15, 'Bartek ZF': 16, 'Kamil ZF': 17}\n",
      "2023-09-09 16:27:35,174 — logger — ERROR — Requested 70000 combinations, but only 4560 are possible.\n",
      "NoneType: None\n",
      "2023-09-09 16:27:35,190 — logger — INFO — Dropped 0 duplcates.\n",
      "Zuzia Babol {'Alkinoos': 0, 'Jakub': 1, 'Zuzia Babol': 2, 'Jula': 3, 'Kacper ZF': 4, 'Mateusz': 5, 'ZF Andrzej': 6, 'Agata': 7, 'Babol': 8, 'Nata': 9, 'Bartek': 10, 'Cezary Babol': 11, 'Mieszko': 12, 'Miki': 13, 'Zuz': 14, 'Lilou': 15, 'Bartek ZF': 16, 'Kamil ZF': 17}\n",
      "2023-09-09 16:27:35,738 — logger — ERROR — Requested 70000 combinations, but only 528 are possible.\n",
      "NoneType: None\n",
      "2023-09-09 16:27:35,739 — logger — INFO — Dropped 0 duplcates.\n",
      "Jula {'Alkinoos': 0, 'Jakub': 1, 'Zuzia Babol': 2, 'Jula': 3, 'Kacper ZF': 4, 'Mateusz': 5, 'ZF Andrzej': 6, 'Agata': 7, 'Babol': 8, 'Nata': 9, 'Bartek': 10, 'Cezary Babol': 11, 'Mieszko': 12, 'Miki': 13, 'Zuz': 14, 'Lilou': 15, 'Bartek ZF': 16, 'Kamil ZF': 17}\n",
      "2023-09-09 16:27:35,799 — logger — ERROR — Requested 70000 combinations, but only 11026 are possible.\n",
      "NoneType: None\n",
      "2023-09-09 16:27:35,804 — logger — INFO — Dropped 0 duplcates.\n",
      "Alkinoos {'Alkinoos': 0, 'Jakub': 1, 'Zuzia Babol': 2, 'Jula': 3, 'Kacper ZF': 4, 'Mateusz': 5, 'ZF Andrzej': 6, 'Agata': 7, 'Babol': 8, 'Nata': 9, 'Bartek': 10, 'Cezary Babol': 11, 'Mieszko': 12, 'Miki': 13, 'Zuz': 14, 'Lilou': 15, 'Bartek ZF': 16, 'Kamil ZF': 17}\n",
      "2023-09-09 16:27:37,036 — logger — ERROR — Requested 70000 combinations, but only 9045 are possible.\n",
      "NoneType: None\n",
      "2023-09-09 16:27:37,039 — logger — INFO — Dropped 0 duplcates.\n",
      "Agata {'Alkinoos': 0, 'Jakub': 1, 'Zuzia Babol': 2, 'Jula': 3, 'Kacper ZF': 4, 'Mateusz': 5, 'ZF Andrzej': 6, 'Agata': 7, 'Babol': 8, 'Nata': 9, 'Bartek': 10, 'Cezary Babol': 11, 'Mieszko': 12, 'Miki': 13, 'Zuz': 14, 'Lilou': 15, 'Bartek ZF': 16, 'Kamil ZF': 17}\n",
      "2023-09-09 16:27:38,046 — logger — ERROR — Requested 70000 combinations, but only 2850 are possible.\n",
      "NoneType: None\n",
      "2023-09-09 16:27:38,048 — logger — INFO — Dropped 0 duplcates.\n",
      "Babol {'Alkinoos': 0, 'Jakub': 1, 'Zuzia Babol': 2, 'Jula': 3, 'Kacper ZF': 4, 'Mateusz': 5, 'ZF Andrzej': 6, 'Agata': 7, 'Babol': 8, 'Nata': 9, 'Bartek': 10, 'Cezary Babol': 11, 'Mieszko': 12, 'Miki': 13, 'Zuz': 14, 'Lilou': 15, 'Bartek ZF': 16, 'Kamil ZF': 17}\n",
      "2023-09-09 16:27:38,375 — logger — ERROR — Requested 70000 combinations, but only 1711 are possible.\n",
      "NoneType: None\n",
      "2023-09-09 16:27:38,378 — logger — INFO — Dropped 0 duplcates.\n",
      "Mieszko {'Alkinoos': 0, 'Jakub': 1, 'Zuzia Babol': 2, 'Jula': 3, 'Kacper ZF': 4, 'Mateusz': 5, 'ZF Andrzej': 6, 'Agata': 7, 'Babol': 8, 'Nata': 9, 'Bartek': 10, 'Cezary Babol': 11, 'Mieszko': 12, 'Miki': 13, 'Zuz': 14, 'Lilou': 15, 'Bartek ZF': 16, 'Kamil ZF': 17}\n",
      "2023-09-09 16:27:38,562 — logger — ERROR — Requested 70000 combinations, but only 820 are possible.\n",
      "NoneType: None\n",
      "2023-09-09 16:27:38,563 — logger — INFO — Dropped 0 duplcates.\n",
      "Jakub {'Alkinoos': 0, 'Jakub': 1, 'Zuzia Babol': 2, 'Jula': 3, 'Kacper ZF': 4, 'Mateusz': 5, 'ZF Andrzej': 6, 'Agata': 7, 'Babol': 8, 'Nata': 9, 'Bartek': 10, 'Cezary Babol': 11, 'Mieszko': 12, 'Miki': 13, 'Zuz': 14, 'Lilou': 15, 'Bartek ZF': 16, 'Kamil ZF': 17}\n",
      "2023-09-09 16:27:38,665 — logger — ERROR — Requested 70000 combinations, but only 2145 are possible.\n",
      "NoneType: None\n",
      "2023-09-09 16:27:38,667 — logger — INFO — Dropped 0 duplcates.\n",
      "Lilou {'Alkinoos': 0, 'Jakub': 1, 'Zuzia Babol': 2, 'Jula': 3, 'Kacper ZF': 4, 'Mateusz': 5, 'ZF Andrzej': 6, 'Agata': 7, 'Babol': 8, 'Nata': 9, 'Bartek': 10, 'Cezary Babol': 11, 'Mieszko': 12, 'Miki': 13, 'Zuz': 14, 'Lilou': 15, 'Bartek ZF': 16, 'Kamil ZF': 17}\n",
      "2023-09-09 16:27:38,920 — logger — ERROR — Requested 70000 combinations, but only 465 are possible.\n",
      "NoneType: None\n",
      "2023-09-09 16:27:38,921 — logger — INFO — Dropped 0 duplcates.\n",
      "Zuz {'Alkinoos': 0, 'Jakub': 1, 'Zuzia Babol': 2, 'Jula': 3, 'Kacper ZF': 4, 'Mateusz': 5, 'ZF Andrzej': 6, 'Agata': 7, 'Babol': 8, 'Nata': 9, 'Bartek': 10, 'Cezary Babol': 11, 'Mieszko': 12, 'Miki': 13, 'Zuz': 14, 'Lilou': 15, 'Bartek ZF': 16, 'Kamil ZF': 17}\n",
      "2023-09-09 16:27:38,976 — logger — ERROR — Requested 70000 combinations, but only 435 are possible.\n",
      "NoneType: None\n",
      "2023-09-09 16:27:38,977 — logger — INFO — Dropped 0 duplcates.\n",
      "Mateusz {'Alkinoos': 0, 'Jakub': 1, 'Zuzia Babol': 2, 'Jula': 3, 'Kacper ZF': 4, 'Mateusz': 5, 'ZF Andrzej': 6, 'Agata': 7, 'Babol': 8, 'Nata': 9, 'Bartek': 10, 'Cezary Babol': 11, 'Mieszko': 12, 'Miki': 13, 'Zuz': 14, 'Lilou': 15, 'Bartek ZF': 16, 'Kamil ZF': 17}\n",
      "2023-09-09 16:27:39,033 — logger — ERROR — Requested 70000 combinations, but only 3741 are possible.\n",
      "NoneType: None\n",
      "2023-09-09 16:27:39,036 — logger — INFO — Dropped 0 duplcates.\n",
      "Kamil ZF {'Alkinoos': 0, 'Jakub': 1, 'Zuzia Babol': 2, 'Jula': 3, 'Kacper ZF': 4, 'Mateusz': 5, 'ZF Andrzej': 6, 'Agata': 7, 'Babol': 8, 'Nata': 9, 'Bartek': 10, 'Cezary Babol': 11, 'Mieszko': 12, 'Miki': 13, 'Zuz': 14, 'Lilou': 15, 'Bartek ZF': 16, 'Kamil ZF': 17}\n",
      "2023-09-09 16:27:39,444 — logger — ERROR — Requested 70000 combinations, but only 325 are possible.\n",
      "NoneType: None\n",
      "2023-09-09 16:27:39,445 — logger — INFO — Dropped 0 duplcates.\n",
      "Bartek {'Alkinoos': 0, 'Jakub': 1, 'Zuzia Babol': 2, 'Jula': 3, 'Kacper ZF': 4, 'Mateusz': 5, 'ZF Andrzej': 6, 'Agata': 7, 'Babol': 8, 'Nata': 9, 'Bartek': 10, 'Cezary Babol': 11, 'Mieszko': 12, 'Miki': 13, 'Zuz': 14, 'Lilou': 15, 'Bartek ZF': 16, 'Kamil ZF': 17}\n",
      "2023-09-09 16:27:39,489 — logger — ERROR — Requested 70000 combinations, but only 465 are possible.\n",
      "NoneType: None\n",
      "2023-09-09 16:27:39,490 — logger — INFO — Dropped 0 duplcates.\n",
      "Miki {'Alkinoos': 0, 'Jakub': 1, 'Zuzia Babol': 2, 'Jula': 3, 'Kacper ZF': 4, 'Mateusz': 5, 'ZF Andrzej': 6, 'Agata': 7, 'Babol': 8, 'Nata': 9, 'Bartek': 10, 'Cezary Babol': 11, 'Mieszko': 12, 'Miki': 13, 'Zuz': 14, 'Lilou': 15, 'Bartek ZF': 16, 'Kamil ZF': 17}\n",
      "2023-09-09 16:27:39,558 — logger — ERROR — Requested 70000 combinations, but only 465 are possible.\n",
      "NoneType: None\n",
      "2023-09-09 16:27:39,559 — logger — INFO — Dropped 0 duplcates.\n",
      "Nata {'Alkinoos': 0, 'Jakub': 1, 'Zuzia Babol': 2, 'Jula': 3, 'Kacper ZF': 4, 'Mateusz': 5, 'ZF Andrzej': 6, 'Agata': 7, 'Babol': 8, 'Nata': 9, 'Bartek': 10, 'Cezary Babol': 11, 'Mieszko': 12, 'Miki': 13, 'Zuz': 14, 'Lilou': 15, 'Bartek ZF': 16, 'Kamil ZF': 17}\n",
      "2023-09-09 16:27:39,619 — logger — ERROR — Requested 70000 combinations, but only 861 are possible.\n",
      "NoneType: None\n",
      "2023-09-09 16:27:39,620 — logger — INFO — Dropped 0 duplcates.\n",
      "Cezary Babol {'Alkinoos': 0, 'Jakub': 1, 'Zuzia Babol': 2, 'Jula': 3, 'Kacper ZF': 4, 'Mateusz': 5, 'ZF Andrzej': 6, 'Agata': 7, 'Babol': 8, 'Nata': 9, 'Bartek': 10, 'Cezary Babol': 11, 'Mieszko': 12, 'Miki': 13, 'Zuz': 14, 'Lilou': 15, 'Bartek ZF': 16, 'Kamil ZF': 17}\n",
      "2023-09-09 16:27:39,733 — logger — ERROR — Requested 70000 combinations, but only 105 are possible.\n",
      "NoneType: None\n",
      "2023-09-09 16:27:39,734 — logger — INFO — Dropped 0 duplcates.\n",
      "2023-09-09 16:27:39,753 — logger — INFO — Created 50833 n-grams (2824 per user)\n"
     ]
    }
   ],
   "source": [
    "X, y, X_test, y_test, cols = create_dataset(if_separate_words=True, test_ratio=0.5, verbose_mode=True, n_gram_size=2, number_of_features=7, amount_of_n_grams_pers_user=70000,scaler=Normalizer())\n"
   ],
   "metadata": {
    "collapsed": false,
    "ExecuteTime": {
     "end_time": "2023-09-09T14:27:39.793669098Z",
     "start_time": "2023-09-09T14:27:24.648333912Z"
    }
   },
   "id": "cc56bb5ff944c0f4"
  },
  {
   "cell_type": "code",
   "execution_count": 11,
   "outputs": [
    {
     "name": "stdout",
     "output_type": "stream",
     "text": [
      "Resolve hyper-parameter template \"benchmark_rank1\" to \"benchmark_rank1@v1\" -> {'growing_strategy': 'BEST_FIRST_GLOBAL', 'categorical_algorithm': 'RANDOM', 'split_axis': 'SPARSE_OBLIQUE', 'sparse_oblique_normalization': 'MIN_MAX', 'sparse_oblique_num_projections_exponent': 1.0}.\n",
      "2023-09-09 16:31:09,332 — absl — INFO — Resolve hyper-parameter template \"benchmark_rank1\" to \"benchmark_rank1@v1\" -> {'growing_strategy': 'BEST_FIRST_GLOBAL', 'categorical_algorithm': 'RANDOM', 'split_axis': 'SPARSE_OBLIQUE', 'sparse_oblique_normalization': 'MIN_MAX', 'sparse_oblique_num_projections_exponent': 1.0}.\n",
      "Use /tmp/tmph03q38bs as temporary training directory\n",
      "2023-09-09 16:31:09,340 — absl — INFO — Use /tmp/tmph03q38bs as temporary training directory\n",
      "2023-09-09 16:31:09,370 — logger — INFO — X_train: (18796, 14), y_train: (18796,)\n",
      "Reading training dataset...\n",
      "2023-09-09 16:31:09,387 — absl — INFO — Reading training dataset...\n"
     ]
    },
    {
     "name": "stderr",
     "output_type": "stream",
     "text": [
      "[WARNING 23-09-09 16:31:09.3426 CEST gradient_boosted_trees.cc:1818] \"goss_alpha\" set but \"sampling_method\" not equal to \"GOSS\".\n",
      "[WARNING 23-09-09 16:31:09.3427 CEST gradient_boosted_trees.cc:1829] \"goss_beta\" set but \"sampling_method\" not equal to \"GOSS\".\n",
      "[WARNING 23-09-09 16:31:09.3427 CEST gradient_boosted_trees.cc:1843] \"selective_gradient_boosting_ratio\" set but \"sampling_method\" not equal to \"SELGB\".\n"
     ]
    },
    {
     "name": "stdout",
     "output_type": "stream",
     "text": [
      "Training dataset read in 0:00:00.361289. Found 18796 examples.\n",
      "2023-09-09 16:31:09,748 — absl — INFO — Training dataset read in 0:00:00.361289. Found 18796 examples.\n",
      "Training model...\n",
      "2023-09-09 16:31:09,750 — absl — INFO — Training model...\n",
      "Model trained in 0:00:27.331697\n",
      "2023-09-09 16:31:37,081 — absl — INFO — Model trained in 0:00:27.331697\n",
      "Compiling model...\n",
      "2023-09-09 16:31:37,087 — absl — INFO — Compiling model...\n"
     ]
    },
    {
     "name": "stderr",
     "output_type": "stream",
     "text": [
      "[INFO 23-09-09 16:31:37.0020 CEST kernel.cc:1243] Loading model from path /tmp/tmph03q38bs/model/ with prefix 630360feb7ed499e\n",
      "[INFO 23-09-09 16:31:37.0767 CEST decision_forest.cc:660] Model loaded with 300 root(s), 18188 node(s), and 14 input feature(s).\n",
      "[INFO 23-09-09 16:31:37.0767 CEST abstract_model.cc:1311] Engine \"GradientBoostedTreesGeneric\" built\n",
      "[INFO 23-09-09 16:31:37.0768 CEST kernel.cc:1075] Use fast generic engine\n"
     ]
    },
    {
     "name": "stdout",
     "output_type": "stream",
     "text": [
      "Model compiled.\n",
      "2023-09-09 16:31:37,326 — absl — INFO — Model compiled.\n",
      "161/161 - 0s - 464ms/epoch - 3ms/step\n",
      "161/161 [==============================] - 1s 3ms/step\n",
      "2023-09-09 16:31:38,597 — logger — INFO — X_train: (18796, 14), y_train: (18796,)\n",
      "Reading training dataset...\n",
      "2023-09-09 16:31:38,605 — absl — INFO — Reading training dataset...\n",
      "Training dataset read in 0:00:00.048526. Found 18796 examples.\n",
      "2023-09-09 16:31:38,654 — absl — INFO — Training dataset read in 0:00:00.048526. Found 18796 examples.\n",
      "Training model...\n",
      "2023-09-09 16:31:38,655 — absl — INFO — Training model...\n"
     ]
    },
    {
     "name": "stderr",
     "output_type": "stream",
     "text": [
      "[INFO 23-09-09 16:31:38.7740 CEST decision_forest.cc:660] Model loaded with 300 root(s), 18188 node(s), and 14 input feature(s).\n"
     ]
    },
    {
     "name": "stdout",
     "output_type": "stream",
     "text": [
      "Model trained in 0:00:01.005606\n",
      "2023-09-09 16:31:39,661 — absl — INFO — Model trained in 0:00:01.005606\n",
      "Compiling model...\n",
      "2023-09-09 16:31:39,666 — absl — INFO — Compiling model...\n"
     ]
    },
    {
     "name": "stderr",
     "output_type": "stream",
     "text": [
      "[INFO 23-09-09 16:31:39.5843 CEST kernel.cc:1243] Loading model from path /tmp/tmph03q38bs/model/ with prefix 630360feb7ed499e\n",
      "[INFO 23-09-09 16:31:39.6559 CEST decision_forest.cc:660] Model loaded with 300 root(s), 18188 node(s), and 14 input feature(s).\n",
      "[INFO 23-09-09 16:31:39.6559 CEST kernel.cc:1075] Use fast generic engine\n"
     ]
    },
    {
     "name": "stdout",
     "output_type": "stream",
     "text": [
      "Model compiled.\n",
      "2023-09-09 16:31:39,991 — absl — INFO — Model compiled.\n",
      "145/145 - 0s - 426ms/epoch - 3ms/step\n",
      "145/145 [==============================] - 1s 3ms/step\n",
      "2023-09-09 16:31:41,167 — logger — INFO — X_train: (18796, 14), y_train: (18796,)\n",
      "Reading training dataset...\n",
      "2023-09-09 16:31:41,172 — absl — INFO — Reading training dataset...\n",
      "Training dataset read in 0:00:00.056736. Found 18796 examples.\n",
      "2023-09-09 16:31:41,228 — absl — INFO — Training dataset read in 0:00:00.056736. Found 18796 examples.\n",
      "Training model...\n",
      "2023-09-09 16:31:41,229 — absl — INFO — Training model...\n"
     ]
    },
    {
     "name": "stderr",
     "output_type": "stream",
     "text": [
      "[INFO 23-09-09 16:31:41.3347 CEST decision_forest.cc:660] Model loaded with 300 root(s), 18188 node(s), and 14 input feature(s).\n"
     ]
    },
    {
     "name": "stdout",
     "output_type": "stream",
     "text": [
      "Model trained in 0:00:00.973983\n",
      "2023-09-09 16:31:42,203 — absl — INFO — Model trained in 0:00:00.973983\n",
      "Compiling model...\n",
      "2023-09-09 16:31:42,209 — absl — INFO — Compiling model...\n"
     ]
    },
    {
     "name": "stderr",
     "output_type": "stream",
     "text": [
      "[INFO 23-09-09 16:31:42.1267 CEST kernel.cc:1243] Loading model from path /tmp/tmph03q38bs/model/ with prefix 630360feb7ed499e\n",
      "[INFO 23-09-09 16:31:42.1986 CEST decision_forest.cc:660] Model loaded with 300 root(s), 18188 node(s), and 14 input feature(s).\n",
      "[INFO 23-09-09 16:31:42.1987 CEST kernel.cc:1075] Use fast generic engine\n"
     ]
    },
    {
     "name": "stdout",
     "output_type": "stream",
     "text": [
      "Model compiled.\n",
      "2023-09-09 16:31:42,372 — absl — INFO — Model compiled.\n",
      "130/130 - 0s - 383ms/epoch - 3ms/step\n",
      "130/130 [==============================] - 0s 3ms/step\n",
      "2023-09-09 16:31:43,431 — logger — INFO — X_train: (18796, 14), y_train: (18796,)\n",
      "Reading training dataset...\n",
      "2023-09-09 16:31:43,436 — absl — INFO — Reading training dataset...\n",
      "Training dataset read in 0:00:00.047824. Found 18796 examples.\n",
      "2023-09-09 16:31:43,484 — absl — INFO — Training dataset read in 0:00:00.047824. Found 18796 examples.\n",
      "Training model...\n",
      "2023-09-09 16:31:43,485 — absl — INFO — Training model...\n"
     ]
    },
    {
     "name": "stderr",
     "output_type": "stream",
     "text": [
      "[INFO 23-09-09 16:31:43.5754 CEST decision_forest.cc:660] Model loaded with 300 root(s), 18188 node(s), and 14 input feature(s).\n"
     ]
    },
    {
     "name": "stdout",
     "output_type": "stream",
     "text": [
      "Model trained in 0:00:00.971281\n",
      "2023-09-09 16:31:44,456 — absl — INFO — Model trained in 0:00:00.971281\n",
      "Compiling model...\n",
      "2023-09-09 16:31:44,462 — absl — INFO — Compiling model...\n"
     ]
    },
    {
     "name": "stderr",
     "output_type": "stream",
     "text": [
      "[INFO 23-09-09 16:31:44.3693 CEST kernel.cc:1243] Loading model from path /tmp/tmph03q38bs/model/ with prefix 630360feb7ed499e\n",
      "[INFO 23-09-09 16:31:44.4498 CEST decision_forest.cc:660] Model loaded with 300 root(s), 18188 node(s), and 14 input feature(s).\n",
      "[INFO 23-09-09 16:31:44.4498 CEST kernel.cc:1075] Use fast generic engine\n"
     ]
    },
    {
     "name": "stdout",
     "output_type": "stream",
     "text": [
      "Model compiled.\n",
      "2023-09-09 16:31:44,645 — absl — INFO — Model compiled.\n",
      "117/117 - 0s - 393ms/epoch - 3ms/step\n",
      "117/117 [==============================] - 0s 3ms/step\n",
      "2023-09-09 16:31:45,759 — logger — INFO — X_train: (18796, 14), y_train: (18796,)\n",
      "Reading training dataset...\n",
      "2023-09-09 16:31:45,766 — absl — INFO — Reading training dataset...\n",
      "Training dataset read in 0:00:00.052321. Found 18796 examples.\n",
      "2023-09-09 16:31:45,818 — absl — INFO — Training dataset read in 0:00:00.052321. Found 18796 examples.\n",
      "Training model...\n",
      "2023-09-09 16:31:45,819 — absl — INFO — Training model...\n"
     ]
    },
    {
     "name": "stderr",
     "output_type": "stream",
     "text": [
      "[INFO 23-09-09 16:31:45.9105 CEST decision_forest.cc:660] Model loaded with 300 root(s), 18188 node(s), and 14 input feature(s).\n"
     ]
    },
    {
     "name": "stdout",
     "output_type": "stream",
     "text": [
      "Model trained in 0:00:01.058378\n",
      "2023-09-09 16:31:46,877 — absl — INFO — Model trained in 0:00:01.058378\n",
      "Compiling model...\n",
      "2023-09-09 16:31:46,884 — absl — INFO — Compiling model...\n"
     ]
    },
    {
     "name": "stderr",
     "output_type": "stream",
     "text": [
      "[INFO 23-09-09 16:31:46.7976 CEST kernel.cc:1243] Loading model from path /tmp/tmph03q38bs/model/ with prefix 630360feb7ed499e\n",
      "[INFO 23-09-09 16:31:46.8718 CEST decision_forest.cc:660] Model loaded with 300 root(s), 18188 node(s), and 14 input feature(s).\n",
      "[INFO 23-09-09 16:31:46.8719 CEST kernel.cc:1075] Use fast generic engine\n"
     ]
    },
    {
     "name": "stdout",
     "output_type": "stream",
     "text": [
      "Model compiled.\n",
      "2023-09-09 16:31:47,120 — absl — INFO — Model compiled.\n",
      "106/106 - 0s - 379ms/epoch - 4ms/step\n",
      "106/106 [==============================] - 0s 3ms/step\n"
     ]
    },
    {
     "data": {
      "text/plain": "<Figure size 1500x500 with 4 Axes>",
      "image/png": "[encoded data removed]"
     },
     "metadata": {},
     "output_type": "display_data"
    },
    {
     "ename": "ValueError",
     "evalue": "setting an array element with a sequence. The requested array has an inhomogeneous shape after 1 dimensions. The detected shape was (5,) + inhomogeneous part.",
     "output_type": "error",
     "traceback": [
      "\u001B[0;31m---------------------------------------------------------------------------\u001B[0m",
      "\u001B[0;31mValueError\u001B[0m                                Traceback (most recent call last)",
      "Cell \u001B[0;32mIn[11], line 11\u001B[0m\n\u001B[1;32m      9\u001B[0m res \u001B[38;5;241m=\u001B[39m (train_and_evaluate_for_user(model, \u001B[38;5;28;01mNone\u001B[39;00m, X, y, X_test, y_test, user))\n\u001B[1;32m     10\u001B[0m final_df_list\u001B[38;5;241m.\u001B[39mappend(res[\u001B[38;5;241m0\u001B[39m])\n\u001B[0;32m---> 11\u001B[0m all_far\u001B[38;5;241m.\u001B[39mappend(np\u001B[38;5;241m.\u001B[39mmean(\u001B[43mnp\u001B[49m\u001B[38;5;241;43m.\u001B[39;49m\u001B[43marray\u001B[49m\u001B[43m(\u001B[49m\u001B[43mres\u001B[49m\u001B[43m[\u001B[49m\u001B[38;5;241;43m1\u001B[39;49m\u001B[43m]\u001B[49m\u001B[43m)\u001B[49m))\n\u001B[1;32m     12\u001B[0m all_frr\u001B[38;5;241m.\u001B[39mappend(np\u001B[38;5;241m.\u001B[39mmean(np\u001B[38;5;241m.\u001B[39marray(res[\u001B[38;5;241m1\u001B[39m])))\n\u001B[1;32m     13\u001B[0m all_tpr\u001B[38;5;241m.\u001B[39mappend(np\u001B[38;5;241m.\u001B[39mmean(np\u001B[38;5;241m.\u001B[39marray(res[\u001B[38;5;241m1\u001B[39m])))\n",
      "\u001B[0;31mValueError\u001B[0m: setting an array element with a sequence. The requested array has an inhomogeneous shape after 1 dimensions. The detected shape was (5,) + inhomogeneous part."
     ]
    }
   ],
   "source": [
    "model = tfdf.keras.GradientBoostedTreesModel(hyperparameter_template=\"benchmark_rank1\",\n",
    "                                                 task=tfdf.keras.Task.CLASSIFICATION,\n",
    "                                                 # tuner=tuner,\n",
    "                                                 l2_regularization=0.01)\n",
    "final_df_list = []\n",
    "all_far, all_frr, all_tpr, all_eer = [], [], [], []\n",
    "cumulative_cm = np.zeros((2, 2))\n",
    "for user in np.unique(y):\n",
    "    res = (train_and_evaluate_for_user(model, None, X, y, X_test, y_test, user))\n",
    "    final_df_list.append(res[0])\n",
    "    all_far.append(np.mean(np.array(res[1])))\n",
    "    all_frr.append(np.mean(np.array(res[1])))\n",
    "    all_tpr.append(np.mean(np.array(res[1])))\n",
    "    all_eer.append(np.mean(np.array(res[1])))\n",
    "    cumulative_cm += res[5]"
   ],
   "metadata": {
    "collapsed": false,
    "ExecuteTime": {
     "end_time": "2023-09-09T14:31:49.243090494Z",
     "start_time": "2023-09-09T14:31:09.333713441Z"
    }
   },
   "id": "5585b6890b3a532f"
  },
  {
   "cell_type": "markdown",
   "source": [
    "### Verification system evaluation - summary"
   ],
   "metadata": {
    "collapsed": false
   },
   "id": "774c3542b929da40"
  },
  {
   "cell_type": "code",
   "execution_count": null,
   "outputs": [],
   "source": [
    "all_frr"
   ],
   "metadata": {
    "collapsed": false,
    "ExecuteTime": {
     "end_time": "2023-09-09T14:28:23.321909636Z",
     "start_time": "2023-09-09T14:28:23.320557688Z"
    }
   },
   "id": "df245b40fbabf871"
  },
  {
   "cell_type": "code",
   "execution_count": null,
   "outputs": [],
   "source": [
    "fig, ax = plt.subplots(1, 3, figsize=(15, 5))\n",
    "ax[0].plot(mean_far, mean_tpr, lw=1, alpha=0.3)\n",
    "ax[0].set_xlabel('False Positive Rate')\n",
    "ax[0].set_ylabel('True Positive Rate')\n",
    "ax[0].set_title('ROC Curves')\n",
    "ax[0].legend(loc='lower right')\n",
    "\n",
    "\n",
    "ax[1].plot(mean_frr, mean_far, color='green', linewidth=2)\n",
    "ax[1].set_title('T-ROC Curve')\n",
    "ax[1].set_xlabel('FRR (False Rejection Rate)')\n",
    "ax[1].set_ylabel('FAR (False Acceptance Rate)')\n",
    "\n",
    "sns.heatmap(cumulative_cm, annot=True, fmt='g', cmap='Blues', xticklabels=['Other user', 'User'],\n",
    "              yticklabels=['Other user', 'User'], ax=ax[2])\n",
    "ax[2].set_title('Confusion Matrix')\n",
    "ax[2].set_xlabel('Predicted')\n",
    "ax[2].set_ylabel('Actual')\n",
    "plt.tight_layout()\n",
    "plt.show()"
   ],
   "metadata": {
    "collapsed": false,
    "ExecuteTime": {
     "start_time": "2023-09-09T14:28:23.364003497Z"
    }
   },
   "id": "9e61442c701856e4"
  },
  {
   "cell_type": "code",
   "execution_count": null,
   "outputs": [],
   "source": [
    "\"\"\"import lightgbm\n",
    "def run_cv_tf(model, X, y, X_valid, y_valid, n_splits=5, name='',\n",
    "           plot_path='results_identification/', title = None, is_multiclass=True):\n",
    "    lgbm_model = lightgbm.LGBMClassifier()\n",
    "    gbt_model = tfdf.keras.GradientBoostedTreesModel(hyperparameter_template=\"benchmark_rank1\",\n",
    "                                                 task=tfdf.keras.Task.CLASSIFICATION,\n",
    "                                                 # tuner=tuner,\n",
    "                                                 l2_regularization=0.01)\n",
    "\n",
    "    kf = KFold(n_splits=n_splits)\n",
    "    results = []\n",
    "    all_far = []\n",
    "    all_frr = []\n",
    "    all_tpr = []\n",
    "    all_eer = []\n",
    "    cumulative_cm = np.zeros((2, 2))\n",
    "\n",
    "    for train_index, test_index in kf.split(X):\n",
    "        X_train, X_test = X[train_index], X[test_index]\n",
    "        y_train, y_test = y[train_index], y[test_index]\n",
    "        logger.info(f\"X_train: {X_train.shape}, y_train: {y_train.shape}\")\n",
    "        train_dataset = tf.data.Dataset.from_tensor_slices((X_train, y_train)).batch(1000)\n",
    "        test_dataset = tf.data.Dataset.from_tensor_slices((X_test, y_test)).batch(1000)\n",
    "        X_valid, no_use_x, y_valid, no_use_y = train_test_split(X_valid, y_valid, test_size=0.1)\n",
    "\n",
    "        # Train LightGBM\n",
    "        lgbm_model.set_params(**{'objective': custom_asymmetric_train}, metrics=[\"precision\"])\n",
    "        lgbm_model.fit(X_train, y_train, eval_set=[(X_test, y_test)], eval_metric=custom_asymmetric_valid)\n",
    "        \n",
    "        \n",
    "        model.fit(train_dataset)\n",
    "        model.compile(metrics=[AUC()])\n",
    "        predictions = model.predict(X_valid, verbose=2)\n",
    "        gbt_preds = np.hstack((1 - predictions, predictions))\n",
    "        # Train GBT\n",
    "\n",
    "        # Predict using LightGBM\n",
    "        lgbm_preds = lgbm_model.predict_proba(X_valid)\n",
    "\n",
    "        # Ensemble predictions by averaging\n",
    "        ensemble_preds = (lgbm_preds + gbt_preds) / 2\n",
    "        ensemble_final_preds = np.argmax(ensemble_preds, axis=1)\n",
    "\n",
    "        y_score = ensemble_preds[:, 1]\n",
    "        far, tpr, _ = roc_curve(y_valid, y_score)\n",
    "        frr = 1 - tpr\n",
    "        all_frr.append(frr)\n",
    "        all_far.append(far)\n",
    "        all_tpr.append(tpr)\n",
    "        eer_index = np.nanargmin(np.absolute(far - frr))\n",
    "        eer = (far[eer_index] + frr[eer_index]) / 2\n",
    "        all_eer.append(eer)\n",
    "\n",
    "        cm = confusion_matrix(y_valid, ensemble_final_preds)\n",
    "        cumulative_cm += cm\n",
    "    fig, ax = plt.subplots(1, 3, figsize=(15, 5))\n",
    "\n",
    "    for i, (far, tpr) in enumerate(zip(all_far, all_tpr)):\n",
    "        ax[0].plot(far, tpr, lw=1, alpha=0.3, label=f'Fold {i + 1} (EER = {all_eer[i]:.2f})')\n",
    "    ax[0].set_xlabel('False Positive Rate')\n",
    "    ax[0].set_ylabel('True Positive Rate')\n",
    "    ax[0].set_title('ROC Curves')\n",
    "    ax[0].legend(loc='lower right')\n",
    "\n",
    "    for i, (far, frr) in enumerate(zip(all_far, all_frr)):\n",
    "        ax[1].plot(frr, far, color='green', linewidth=2)\n",
    "\n",
    "    ax[1].set_title('T-ROC Curve')\n",
    "    ax[1].set_xlabel('FRR (False Rejection Rate)')\n",
    "    ax[1].set_ylabel('FAR (False Acceptance Rate)')\n",
    "\n",
    "    sns.heatmap(cumulative_cm, annot=True, fmt='g', cmap='Blues', xticklabels=['Other user', 'User'],\n",
    "                yticklabels=['Other user', 'User'], ax=ax[2])\n",
    "    ax[2].set_title('Confusion Matrix')\n",
    "    ax[2].set_xlabel('Predicted')\n",
    "    ax[2].set_ylabel('Actual')\n",
    "    plt.tight_layout()\n",
    "    plt.show()\n",
    "\n",
    "    return pd.DataFrame(results)\n",
    "    \"\"\""
   ],
   "metadata": {
    "collapsed": false,
    "ExecuteTime": {
     "end_time": "2023-09-09T14:28:23.508749784Z",
     "start_time": "2023-09-09T14:28:23.364180562Z"
    }
   },
   "id": "99ab2e1e3a932f3"
  }
 ],
 "metadata": {
  "kernelspec": {
   "display_name": "Python 3",
   "language": "python",
   "name": "python3"
  },
  "language_info": {
   "codemirror_mode": {
    "name": "ipython",
    "version": 2
   },
   "file_extension": ".py",
   "mimetype": "text/x-python",
   "name": "python",
   "nbconvert_exporter": "python",
   "pygments_lexer": "ipython2",
   "version": "2.7.6"
  }
 },
 "nbformat": 4,
 "nbformat_minor": 5
}
