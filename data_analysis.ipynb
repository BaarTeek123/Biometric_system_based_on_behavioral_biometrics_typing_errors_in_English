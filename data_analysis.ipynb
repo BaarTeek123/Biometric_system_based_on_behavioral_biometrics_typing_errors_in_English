{
 "cells": [
  {
   "cell_type": "markdown",
   "source": [
    "# Identifiation system basing on behavioral biometrics: typing errors - dataset analysis"
   ],
   "metadata": {
    "collapsed": false
   },
   "id": "75be4e784c2f006c"
  },
  {
   "cell_type": "markdown",
   "source": [
    "## Configuration\n",
    "### Load dependencies"
   ],
   "metadata": {
    "collapsed": false
   },
   "id": "6d87fe5a78cbc622"
  },
  {
   "cell_type": "code",
   "execution_count": 1,
   "outputs": [
    {
     "name": "stderr",
     "output_type": "stream",
     "text": [
      "2023-09-03 22:16:53.947897: I tensorflow/tsl/cuda/cudart_stub.cc:28] Could not find cuda drivers on your machine, GPU will not be used.\n",
      "2023-09-03 22:16:54.177108: I tensorflow/tsl/cuda/cudart_stub.cc:28] Could not find cuda drivers on your machine, GPU will not be used.\n",
      "2023-09-03 22:16:54.178193: I tensorflow/core/platform/cpu_feature_guard.cc:182] This TensorFlow binary is optimized to use available CPU instructions in performance-critical operations.\n",
      "To enable the following instructions: AVX2 FMA, in other operations, rebuild TensorFlow with the appropriate compiler flags.\n",
      "2023-09-03 22:16:55.528990: W tensorflow/compiler/tf2tensorrt/utils/py_utils.cc:38] TF-TRT Warning: Could not find TensorRT\n"
     ]
    },
    {
     "name": "stdout",
     "output_type": "stream",
     "text": [
      "Num GPUs Available:  0\n",
      "[]\n"
     ]
    }
   ],
   "source": [
    "import numpy as np\n",
    "from sklearn.ensemble import RandomForestClassifier, GradientBoostingClassifier\n",
    "from sklearn.neighbors import KNeighborsClassifier\n",
    "from classifiers import build_tuned_nn, build_tuned_rfc, param_grid\n",
    "from sklearn.neural_network import MLPClassifier\n",
    "from sklearn.svm import SVC\n",
    "from tensorflow import config\n",
    "from cv import run_cv_neural_network\n",
    "import pandas as pd\n"
   ],
   "metadata": {
    "collapsed": false,
    "ExecuteTime": {
     "end_time": "2023-09-03T20:16:56.813285208Z",
     "start_time": "2023-09-03T20:16:53.190831558Z"
    }
   },
   "id": "29decfd3fa8c69c1"
  },
  {
   "cell_type": "markdown",
   "source": [
    "#### Configure GPUs"
   ],
   "metadata": {
    "collapsed": false
   },
   "id": "ab9cb2048f9e359c"
  },
  {
   "cell_type": "code",
   "execution_count": 2,
   "outputs": [],
   "source": [
    "gpus = config.experimental.list_physical_devices('GPU')\n",
    "for gpu in gpus:\n",
    "    config.experimental.set_memory_growth(gpu, True)\n",
    "    print(gpu)"
   ],
   "metadata": {
    "collapsed": false,
    "ExecuteTime": {
     "end_time": "2023-09-01T11:32:39.504168714Z",
     "start_time": "2023-09-01T11:32:39.475637190Z"
    }
   },
   "id": "b3116a78f19356ff"
  },
  {
   "cell_type": "markdown",
   "source": [
    "## Define classifiers"
   ],
   "metadata": {
    "collapsed": false
   },
   "id": "bcc7e3e8d25ee1c0"
  },
  {
   "cell_type": "code",
   "execution_count": 3,
   "outputs": [],
   "source": [
    "CLASSIFIERS = [\n",
    "    (RandomForestClassifier(), param_grid['Random Forest'], 'Random Forest'),\n",
    "\n",
    "    (KNeighborsClassifier(), param_grid['K-Nearest Neighbors'], 'K-Nearest Neighbors'),\n",
    "    (SVC(probability=True), param_grid['SVC'], 'SVC'),\n",
    "\n",
    "        (GradientBoostingClassifier(),\n",
    "         param_grid['Gradient Boosting'],\n",
    "         'Gradient Boosting'),\n",
    "\n",
    "        (MLPClassifier(), param_grid['MLP Classifier'], 'MLP Classifier'),\n",
    "]"
   ],
   "metadata": {
    "collapsed": false,
    "ExecuteTime": {
     "end_time": "2023-09-01T11:32:39.505571782Z",
     "start_time": "2023-09-01T11:32:39.480048713Z"
    }
   },
   "id": "19591ec1f0b7d464"
  },
  {
   "cell_type": "markdown",
   "source": [
    "## Load dataset"
   ],
   "metadata": {
    "collapsed": false
   },
   "id": "488801405899c8a8"
  },
  {
   "cell_type": "code",
   "execution_count": 5,
   "outputs": [
    {
     "name": "stdout",
     "output_type": "stream",
     "text": [
      "2023-09-01 13:34:23,204 — logger — DEBUG — ----- load_data: start -----\n",
      "Alkinoos.json\n",
      "Alkinoos.json\n",
      "2023-09-01 13:34:23,207 — logger — DEBUG — ----- get_misspelled_words_df_from_json: start -----\n",
      "2023-09-01 13:34:23,467 — logger — DEBUG — ----- get_misspelled_words_df_from_json: finished in 0.26 seconds)-----\n",
      "u_5.json\n",
      "u_5.json\n",
      "2023-09-01 13:34:23,468 — logger — DEBUG — ----- get_misspelled_words_df_from_json: start -----\n",
      "2023-09-01 13:34:23,558 — logger — DEBUG — ----- get_misspelled_words_df_from_json: finished in 0.09 seconds)-----\n",
      "Zuzia Babol.json\n",
      "Zuzia Babol.json\n",
      "2023-09-01 13:34:23,558 — logger — DEBUG — ----- get_misspelled_words_df_from_json: start -----\n",
      "2023-09-01 13:34:23,610 — logger — DEBUG — ----- get_misspelled_words_df_from_json: finished in 0.05 seconds)-----\n",
      "u_4.json\n",
      "u_4.json\n",
      "2023-09-01 13:34:23,611 — logger — DEBUG — ----- get_misspelled_words_df_from_json: start -----\n",
      "2023-09-01 13:34:23,816 — logger — DEBUG — ----- get_misspelled_words_df_from_json: finished in 0.20 seconds)-----\n",
      "Kacper ZF.json\n",
      "Kacper ZF.json\n",
      "2023-09-01 13:34:23,818 — logger — DEBUG — ----- get_misspelled_words_df_from_json: start -----\n",
      "2023-09-01 13:34:23,955 — logger — DEBUG — ----- get_misspelled_words_df_from_json: finished in 0.14 seconds)-----\n",
      "Mateusz.json\n",
      "Mateusz.json\n",
      "2023-09-01 13:34:23,956 — logger — DEBUG — ----- get_misspelled_words_df_from_json: start -----\n",
      "2023-09-01 13:34:24,070 — logger — DEBUG — ----- get_misspelled_words_df_from_json: finished in 0.11 seconds)-----\n",
      "ZF Andrzej.json\n",
      "ZF Andrzej.json\n",
      "2023-09-01 13:34:24,072 — logger — DEBUG — ----- get_misspelled_words_df_from_json: start -----\n",
      "2023-09-01 13:34:24,247 — logger — DEBUG — ----- get_misspelled_words_df_from_json: finished in 0.17 seconds)-----\n",
      "Agata.json\n",
      "Agata.json\n",
      "2023-09-01 13:34:24,247 — logger — DEBUG — ----- get_misspelled_words_df_from_json: start -----\n",
      "2023-09-01 13:34:24,368 — logger — DEBUG — ----- get_misspelled_words_df_from_json: finished in 0.12 seconds)-----\n",
      "u_1.json\n",
      "u_1.json\n",
      "2023-09-01 13:34:24,369 — logger — DEBUG — ----- get_misspelled_words_df_from_json: start -----\n",
      "2023-09-01 13:34:24,485 — logger — DEBUG — ----- get_misspelled_words_df_from_json: finished in 0.12 seconds)-----\n",
      "u_7.json\n",
      "u_7.json\n",
      "2023-09-01 13:34:24,486 — logger — DEBUG — ----- get_misspelled_words_df_from_json: start -----\n",
      "2023-09-01 13:34:24,575 — logger — DEBUG — ----- get_misspelled_words_df_from_json: finished in 0.09 seconds)-----\n",
      "u_2.json\n",
      "u_2.json\n",
      "2023-09-01 13:34:24,576 — logger — DEBUG — ----- get_misspelled_words_df_from_json: start -----\n",
      "2023-09-01 13:34:24,642 — logger — DEBUG — ----- get_misspelled_words_df_from_json: finished in 0.07 seconds)-----\n",
      "Cezary Babol.json\n",
      "Cezary Babol.json\n",
      "2023-09-01 13:34:24,643 — logger — DEBUG — ----- get_misspelled_words_df_from_json: start -----\n",
      "2023-09-01 13:34:24,674 — logger — DEBUG — ----- get_misspelled_words_df_from_json: finished in 0.03 seconds)-----\n",
      "u_3.json\n",
      "u_3.json\n",
      "2023-09-01 13:34:24,675 — logger — DEBUG — ----- get_misspelled_words_df_from_json: start -----\n",
      "2023-09-01 13:34:24,752 — logger — DEBUG — ----- get_misspelled_words_df_from_json: finished in 0.08 seconds)-----\n",
      "u_6.json\n",
      "u_6.json\n",
      "2023-09-01 13:34:24,753 — logger — DEBUG — ----- get_misspelled_words_df_from_json: start -----\n",
      "2023-09-01 13:34:24,816 — logger — DEBUG — ----- get_misspelled_words_df_from_json: finished in 0.06 seconds)-----\n",
      "u_8.json\n",
      "u_8.json\n",
      "2023-09-01 13:34:24,817 — logger — DEBUG — ----- get_misspelled_words_df_from_json: start -----\n",
      "2023-09-01 13:34:25,015 — logger — DEBUG — ----- get_misspelled_words_df_from_json: finished in 0.20 seconds)-----\n",
      "Lilou.json\n",
      "Lilou.json\n",
      "2023-09-01 13:34:25,016 — logger — DEBUG — ----- get_misspelled_words_df_from_json: start -----\n",
      "2023-09-01 13:34:25,073 — logger — DEBUG — ----- get_misspelled_words_df_from_json: finished in 0.06 seconds)-----\n",
      "Bartek ZF.json\n",
      "Bartek ZF.json\n",
      "2023-09-01 13:34:25,074 — logger — DEBUG — ----- get_misspelled_words_df_from_json: start -----\n",
      "2023-09-01 13:34:25,153 — logger — DEBUG — ----- get_misspelled_words_df_from_json: finished in 0.08 seconds)-----\n",
      "ZF Kamil.json\n",
      "ZF Kamil.json\n",
      "2023-09-01 13:34:25,154 — logger — DEBUG — ----- get_misspelled_words_df_from_json: start -----\n",
      "2023-09-01 13:34:25,205 — logger — DEBUG — ----- get_misspelled_words_df_from_json: finished in 0.05 seconds)-----\n",
      "2023-09-01 13:34:25,208 — logger — DEBUG — ----- load_data: finished in 2.00 seconds)-----\n",
      "2023-09-01 13:34:25,209 — logger — DEBUG — ----- create_labeled_test_and_train_buckets: start -----\n",
      "2023-09-01 13:34:25,212 — logger — DEBUG — ----- create_labeled_test_and_train_buckets: finished in 0.00 seconds)-----\n",
      "2023-09-01 13:34:25,212 — logger — DEBUG — ----- scale_data: start -----\n",
      "2023-09-01 13:34:25,218 — logger — DEBUG — ----- scale_data: finished in 0.00 seconds)-----\n",
      "2023-09-01 13:34:25,219 — logger — DEBUG — ----- choose_features: start -----\n",
      "2023-09-01 13:34:25,224 — logger — DEBUG — ----- choose_features: finished in 0.00 seconds)-----\n",
      "2023-09-01 13:34:25,225 — logger — DEBUG — ----- create_users_ngrams: start -----\n",
      "8 {'Alkinoos': 0, 'Jakub': 1, 'Zuzia Babol': 2, 'Jula': 3, 'Kacper ZF': 4, 'Mateusz': 5, 'ZF Andrzej': 6, 'Agata': 7, 'Babol': 8, 'Nata': 9, 'Bartek': 10, 'Cezary Babol': 11, 'Mieszko': 12, 'Miki': 13, 'Zuz': 14, 'Lilou': 15, 'Bartek ZF': 16, 'Kamil ZF': 17}\n",
      "2023-09-01 13:34:25,229 — logger — DEBUG — ----- _create_an_user_ngram: start -----\n",
      "2023-09-01 13:34:25,230 — logger — ERROR — Requested 35000 combinations, but only 2080 are possible.\n",
      "NoneType: None\n",
      "2023-09-01 13:34:25,233 — logger — INFO — Dropped 0 duplcates.\n",
      "2023-09-01 13:34:25,442 — logger — DEBUG — ----- _create_an_user_ngram: finished in 0.21 seconds)-----\n",
      "4 {'Alkinoos': 0, 'Jakub': 1, 'Zuzia Babol': 2, 'Jula': 3, 'Kacper ZF': 4, 'Mateusz': 5, 'ZF Andrzej': 6, 'Agata': 7, 'Babol': 8, 'Nata': 9, 'Bartek': 10, 'Cezary Babol': 11, 'Mieszko': 12, 'Miki': 13, 'Zuz': 14, 'Lilou': 15, 'Bartek ZF': 16, 'Kamil ZF': 17}\n",
      "2023-09-01 13:34:25,444 — logger — DEBUG — ----- _create_an_user_ngram: start -----\n",
      "2023-09-01 13:34:25,444 — logger — ERROR — Requested 35000 combinations, but only 5886 are possible.\n",
      "NoneType: None\n",
      "2023-09-01 13:34:25,447 — logger — INFO — Dropped 0 duplcates.\n",
      "2023-09-01 13:34:25,883 — logger — DEBUG — ----- _create_an_user_ngram: finished in 0.44 seconds)-----\n",
      "5 {'Alkinoos': 0, 'Jakub': 1, 'Zuzia Babol': 2, 'Jula': 3, 'Kacper ZF': 4, 'Mateusz': 5, 'ZF Andrzej': 6, 'Agata': 7, 'Babol': 8, 'Nata': 9, 'Bartek': 10, 'Cezary Babol': 11, 'Mieszko': 12, 'Miki': 13, 'Zuz': 14, 'Lilou': 15, 'Bartek ZF': 16, 'Kamil ZF': 17}\n",
      "2023-09-01 13:34:25,885 — logger — DEBUG — ----- _create_an_user_ngram: start -----\n",
      "2023-09-01 13:34:25,885 — logger — ERROR — Requested 35000 combinations, but only 3081 are possible.\n",
      "NoneType: None\n",
      "2023-09-01 13:34:25,887 — logger — INFO — Dropped 0 duplcates.\n",
      "2023-09-01 13:34:26,135 — logger — DEBUG — ----- _create_an_user_ngram: finished in 0.25 seconds)-----\n",
      "17 {'Alkinoos': 0, 'Jakub': 1, 'Zuzia Babol': 2, 'Jula': 3, 'Kacper ZF': 4, 'Mateusz': 5, 'ZF Andrzej': 6, 'Agata': 7, 'Babol': 8, 'Nata': 9, 'Bartek': 10, 'Cezary Babol': 11, 'Mieszko': 12, 'Miki': 13, 'Zuz': 14, 'Lilou': 15, 'Bartek ZF': 16, 'Kamil ZF': 17}\n",
      "2023-09-01 13:34:26,138 — logger — DEBUG — ----- _create_an_user_ngram: start -----\n",
      "2023-09-01 13:34:26,139 — logger — ERROR — Requested 35000 combinations, but only 300 are possible.\n",
      "NoneType: None\n",
      "2023-09-01 13:34:26,140 — logger — INFO — Dropped 0 duplcates.\n",
      "2023-09-01 13:34:26,168 — logger — DEBUG — ----- _create_an_user_ngram: finished in 0.03 seconds)-----\n",
      "6 {'Alkinoos': 0, 'Jakub': 1, 'Zuzia Babol': 2, 'Jula': 3, 'Kacper ZF': 4, 'Mateusz': 5, 'ZF Andrzej': 6, 'Agata': 7, 'Babol': 8, 'Nata': 9, 'Bartek': 10, 'Cezary Babol': 11, 'Mieszko': 12, 'Miki': 13, 'Zuz': 14, 'Lilou': 15, 'Bartek ZF': 16, 'Kamil ZF': 17}\n",
      "2023-09-01 13:34:26,171 — logger — DEBUG — ----- _create_an_user_ngram: start -----\n",
      "2023-09-01 13:34:26,171 — logger — ERROR — Requested 35000 combinations, but only 9316 are possible.\n",
      "NoneType: None\n",
      "2023-09-01 13:34:26,176 — logger — INFO — Dropped 0 duplcates.\n",
      "2023-09-01 13:34:26,873 — logger — DEBUG — ----- _create_an_user_ngram: finished in 0.70 seconds)-----\n",
      "9 {'Alkinoos': 0, 'Jakub': 1, 'Zuzia Babol': 2, 'Jula': 3, 'Kacper ZF': 4, 'Mateusz': 5, 'ZF Andrzej': 6, 'Agata': 7, 'Babol': 8, 'Nata': 9, 'Bartek': 10, 'Cezary Babol': 11, 'Mieszko': 12, 'Miki': 13, 'Zuz': 14, 'Lilou': 15, 'Bartek ZF': 16, 'Kamil ZF': 17}\n",
      "2023-09-01 13:34:26,876 — logger — DEBUG — ----- _create_an_user_ngram: start -----\n",
      "2023-09-01 13:34:26,876 — logger — ERROR — Requested 35000 combinations, but only 903 are possible.\n",
      "NoneType: None\n",
      "2023-09-01 13:34:26,878 — logger — INFO — Dropped 0 duplcates.\n",
      "2023-09-01 13:34:26,980 — logger — DEBUG — ----- _create_an_user_ngram: finished in 0.10 seconds)-----\n",
      "7 {'Alkinoos': 0, 'Jakub': 1, 'Zuzia Babol': 2, 'Jula': 3, 'Kacper ZF': 4, 'Mateusz': 5, 'ZF Andrzej': 6, 'Agata': 7, 'Babol': 8, 'Nata': 9, 'Bartek': 10, 'Cezary Babol': 11, 'Mieszko': 12, 'Miki': 13, 'Zuz': 14, 'Lilou': 15, 'Bartek ZF': 16, 'Kamil ZF': 17}\n",
      "2023-09-01 13:34:26,984 — logger — DEBUG — ----- _create_an_user_ngram: start -----\n",
      "2023-09-01 13:34:26,984 — logger — ERROR — Requested 35000 combinations, but only 3916 are possible.\n",
      "NoneType: None\n",
      "2023-09-01 13:34:26,987 — logger — INFO — Dropped 0 duplcates.\n",
      "2023-09-01 13:34:27,302 — logger — DEBUG — ----- _create_an_user_ngram: finished in 0.32 seconds)-----\n",
      "0 {'Alkinoos': 0, 'Jakub': 1, 'Zuzia Babol': 2, 'Jula': 3, 'Kacper ZF': 4, 'Mateusz': 5, 'ZF Andrzej': 6, 'Agata': 7, 'Babol': 8, 'Nata': 9, 'Bartek': 10, 'Cezary Babol': 11, 'Mieszko': 12, 'Miki': 13, 'Zuz': 14, 'Lilou': 15, 'Bartek ZF': 16, 'Kamil ZF': 17}\n",
      "2023-09-01 13:34:27,304 — logger — DEBUG — ----- _create_an_user_ngram: start -----\n",
      "2023-09-01 13:34:27,305 — logger — ERROR — Requested 35000 combinations, but only 11325 are possible.\n",
      "NoneType: None\n",
      "2023-09-01 13:34:27,310 — logger — INFO — Dropped 0 duplcates.\n",
      "2023-09-01 13:34:28,062 — logger — DEBUG — ----- _create_an_user_ngram: finished in 0.76 seconds)-----\n",
      "1 {'Alkinoos': 0, 'Jakub': 1, 'Zuzia Babol': 2, 'Jula': 3, 'Kacper ZF': 4, 'Mateusz': 5, 'ZF Andrzej': 6, 'Agata': 7, 'Babol': 8, 'Nata': 9, 'Bartek': 10, 'Cezary Babol': 11, 'Mieszko': 12, 'Miki': 13, 'Zuz': 14, 'Lilou': 15, 'Bartek ZF': 16, 'Kamil ZF': 17}\n",
      "2023-09-01 13:34:28,065 — logger — DEBUG — ----- _create_an_user_ngram: start -----\n",
      "2023-09-01 13:34:28,066 — logger — ERROR — Requested 35000 combinations, but only 990 are possible.\n",
      "NoneType: None\n",
      "2023-09-01 13:34:28,066 — logger — INFO — Dropped 0 duplcates.\n",
      "2023-09-01 13:34:28,174 — logger — DEBUG — ----- _create_an_user_ngram: finished in 0.11 seconds)-----\n",
      "15 {'Alkinoos': 0, 'Jakub': 1, 'Zuzia Babol': 2, 'Jula': 3, 'Kacper ZF': 4, 'Mateusz': 5, 'ZF Andrzej': 6, 'Agata': 7, 'Babol': 8, 'Nata': 9, 'Bartek': 10, 'Cezary Babol': 11, 'Mieszko': 12, 'Miki': 13, 'Zuz': 14, 'Lilou': 15, 'Bartek ZF': 16, 'Kamil ZF': 17}\n",
      "2023-09-01 13:34:28,178 — logger — DEBUG — ----- _create_an_user_ngram: start -----\n",
      "2023-09-01 13:34:28,179 — logger — ERROR — Requested 35000 combinations, but only 406 are possible.\n",
      "NoneType: None\n",
      "2023-09-01 13:34:28,180 — logger — INFO — Dropped 0 duplcates.\n",
      "2023-09-01 13:34:28,232 — logger — DEBUG — ----- _create_an_user_ngram: finished in 0.05 seconds)-----\n",
      "3 {'Alkinoos': 0, 'Jakub': 1, 'Zuzia Babol': 2, 'Jula': 3, 'Kacper ZF': 4, 'Mateusz': 5, 'ZF Andrzej': 6, 'Agata': 7, 'Babol': 8, 'Nata': 9, 'Bartek': 10, 'Cezary Babol': 11, 'Mieszko': 12, 'Miki': 13, 'Zuz': 14, 'Lilou': 15, 'Bartek ZF': 16, 'Kamil ZF': 17}\n",
      "2023-09-01 13:34:28,234 — logger — DEBUG — ----- _create_an_user_ngram: start -----\n",
      "2023-09-01 13:34:28,235 — logger — ERROR — Requested 35000 combinations, but only 11628 are possible.\n",
      "NoneType: None\n",
      "2023-09-01 13:34:28,241 — logger — INFO — Dropped 0 duplcates.\n",
      "2023-09-01 13:34:29,030 — logger — DEBUG — ----- _create_an_user_ngram: finished in 0.80 seconds)-----\n",
      "12 {'Alkinoos': 0, 'Jakub': 1, 'Zuzia Babol': 2, 'Jula': 3, 'Kacper ZF': 4, 'Mateusz': 5, 'ZF Andrzej': 6, 'Agata': 7, 'Babol': 8, 'Nata': 9, 'Bartek': 10, 'Cezary Babol': 11, 'Mieszko': 12, 'Miki': 13, 'Zuz': 14, 'Lilou': 15, 'Bartek ZF': 16, 'Kamil ZF': 17}\n",
      "2023-09-01 13:34:29,034 — logger — DEBUG — ----- _create_an_user_ngram: start -----\n",
      "2023-09-01 13:34:29,034 — logger — ERROR — Requested 35000 combinations, but only 666 are possible.\n",
      "NoneType: None\n",
      "2023-09-01 13:34:29,035 — logger — INFO — Dropped 0 duplcates.\n",
      "2023-09-01 13:34:29,101 — logger — DEBUG — ----- _create_an_user_ngram: finished in 0.07 seconds)-----\n",
      "16 {'Alkinoos': 0, 'Jakub': 1, 'Zuzia Babol': 2, 'Jula': 3, 'Kacper ZF': 4, 'Mateusz': 5, 'ZF Andrzej': 6, 'Agata': 7, 'Babol': 8, 'Nata': 9, 'Bartek': 10, 'Cezary Babol': 11, 'Mieszko': 12, 'Miki': 13, 'Zuz': 14, 'Lilou': 15, 'Bartek ZF': 16, 'Kamil ZF': 17}\n",
      "2023-09-01 13:34:29,106 — logger — DEBUG — ----- _create_an_user_ngram: start -----\n",
      "2023-09-01 13:34:29,106 — logger — ERROR — Requested 35000 combinations, but only 1326 are possible.\n",
      "NoneType: None\n",
      "2023-09-01 13:34:29,108 — logger — INFO — Dropped 0 duplcates.\n",
      "2023-09-01 13:34:29,217 — logger — DEBUG — ----- _create_an_user_ngram: finished in 0.11 seconds)-----\n",
      "10 {'Alkinoos': 0, 'Jakub': 1, 'Zuzia Babol': 2, 'Jula': 3, 'Kacper ZF': 4, 'Mateusz': 5, 'ZF Andrzej': 6, 'Agata': 7, 'Babol': 8, 'Nata': 9, 'Bartek': 10, 'Cezary Babol': 11, 'Mieszko': 12, 'Miki': 13, 'Zuz': 14, 'Lilou': 15, 'Bartek ZF': 16, 'Kamil ZF': 17}\n",
      "2023-09-01 13:34:29,219 — logger — DEBUG — ----- _create_an_user_ngram: start -----\n",
      "2023-09-01 13:34:29,220 — logger — ERROR — Requested 35000 combinations, but only 435 are possible.\n",
      "NoneType: None\n",
      "2023-09-01 13:34:29,220 — logger — INFO — Dropped 0 duplcates.\n",
      "2023-09-01 13:34:29,259 — logger — DEBUG — ----- _create_an_user_ngram: finished in 0.04 seconds)-----\n",
      "13 {'Alkinoos': 0, 'Jakub': 1, 'Zuzia Babol': 2, 'Jula': 3, 'Kacper ZF': 4, 'Mateusz': 5, 'ZF Andrzej': 6, 'Agata': 7, 'Babol': 8, 'Nata': 9, 'Bartek': 10, 'Cezary Babol': 11, 'Mieszko': 12, 'Miki': 13, 'Zuz': 14, 'Lilou': 15, 'Bartek ZF': 16, 'Kamil ZF': 17}\n",
      "2023-09-01 13:34:29,263 — logger — DEBUG — ----- _create_an_user_ngram: start -----\n",
      "2023-09-01 13:34:29,264 — logger — ERROR — Requested 35000 combinations, but only 276 are possible.\n",
      "NoneType: None\n",
      "2023-09-01 13:34:29,264 — logger — INFO — Dropped 0 duplcates.\n",
      "2023-09-01 13:34:29,299 — logger — DEBUG — ----- _create_an_user_ngram: finished in 0.03 seconds)-----\n",
      "2 {'Alkinoos': 0, 'Jakub': 1, 'Zuzia Babol': 2, 'Jula': 3, 'Kacper ZF': 4, 'Mateusz': 5, 'ZF Andrzej': 6, 'Agata': 7, 'Babol': 8, 'Nata': 9, 'Bartek': 10, 'Cezary Babol': 11, 'Mieszko': 12, 'Miki': 13, 'Zuz': 14, 'Lilou': 15, 'Bartek ZF': 16, 'Kamil ZF': 17}\n",
      "2023-09-01 13:34:29,302 — logger — DEBUG — ----- _create_an_user_ngram: start -----\n",
      "2023-09-01 13:34:29,302 — logger — ERROR — Requested 35000 combinations, but only 253 are possible.\n",
      "NoneType: None\n",
      "2023-09-01 13:34:29,304 — logger — INFO — Dropped 0 duplcates.\n",
      "2023-09-01 13:34:29,341 — logger — DEBUG — ----- _create_an_user_ngram: finished in 0.04 seconds)-----\n",
      "14 {'Alkinoos': 0, 'Jakub': 1, 'Zuzia Babol': 2, 'Jula': 3, 'Kacper ZF': 4, 'Mateusz': 5, 'ZF Andrzej': 6, 'Agata': 7, 'Babol': 8, 'Nata': 9, 'Bartek': 10, 'Cezary Babol': 11, 'Mieszko': 12, 'Miki': 13, 'Zuz': 14, 'Lilou': 15, 'Bartek ZF': 16, 'Kamil ZF': 17}\n",
      "2023-09-01 13:34:29,346 — logger — DEBUG — ----- _create_an_user_ngram: start -----\n",
      "2023-09-01 13:34:29,346 — logger — ERROR — Requested 35000 combinations, but only 435 are possible.\n",
      "NoneType: None\n",
      "2023-09-01 13:34:29,347 — logger — INFO — Dropped 0 duplcates.\n",
      "2023-09-01 13:34:29,394 — logger — DEBUG — ----- _create_an_user_ngram: finished in 0.05 seconds)-----\n",
      "11 {'Alkinoos': 0, 'Jakub': 1, 'Zuzia Babol': 2, 'Jula': 3, 'Kacper ZF': 4, 'Mateusz': 5, 'ZF Andrzej': 6, 'Agata': 7, 'Babol': 8, 'Nata': 9, 'Bartek': 10, 'Cezary Babol': 11, 'Mieszko': 12, 'Miki': 13, 'Zuz': 14, 'Lilou': 15, 'Bartek ZF': 16, 'Kamil ZF': 17}\n",
      "2023-09-01 13:34:29,397 — logger — DEBUG — ----- _create_an_user_ngram: start -----\n",
      "2023-09-01 13:34:29,397 — logger — ERROR — Requested 35000 combinations, but only 105 are possible.\n",
      "NoneType: None\n",
      "2023-09-01 13:34:29,398 — logger — INFO — Dropped 0 duplcates.\n",
      "2023-09-01 13:34:29,410 — logger — DEBUG — ----- _create_an_user_ngram: finished in 0.01 seconds)-----\n",
      "2023-09-01 13:34:29,414 — logger — INFO — Created 53327 n-grams (2962 per user)\n",
      "2023-09-01 13:34:29,418 — logger — DEBUG — ----- create_users_ngrams: finished in 4.19 seconds)-----\n",
      "2023-09-01 13:34:29,419 — logger — DEBUG — ----- create_users_ngrams: start -----\n",
      "16 {'Alkinoos': 0, 'Jakub': 1, 'Zuzia Babol': 2, 'Jula': 3, 'Kacper ZF': 4, 'Mateusz': 5, 'ZF Andrzej': 6, 'Agata': 7, 'Babol': 8, 'Nata': 9, 'Bartek': 10, 'Cezary Babol': 11, 'Mieszko': 12, 'Miki': 13, 'Zuz': 14, 'Lilou': 15, 'Bartek ZF': 16, 'Kamil ZF': 17}\n",
      "2023-09-01 13:34:29,422 — logger — DEBUG — ----- _create_an_user_ngram: start -----\n",
      "2023-09-01 13:34:29,423 — logger — ERROR — Requested 35000 combinations, but only 990 are possible.\n",
      "NoneType: None\n",
      "2023-09-01 13:34:29,424 — logger — INFO — Dropped 0 duplcates.\n",
      "2023-09-01 13:34:29,526 — logger — DEBUG — ----- _create_an_user_ngram: finished in 0.10 seconds)-----\n",
      "6 {'Alkinoos': 0, 'Jakub': 1, 'Zuzia Babol': 2, 'Jula': 3, 'Kacper ZF': 4, 'Mateusz': 5, 'ZF Andrzej': 6, 'Agata': 7, 'Babol': 8, 'Nata': 9, 'Bartek': 10, 'Cezary Babol': 11, 'Mieszko': 12, 'Miki': 13, 'Zuz': 14, 'Lilou': 15, 'Bartek ZF': 16, 'Kamil ZF': 17}\n",
      "2023-09-01 13:34:29,527 — logger — DEBUG — ----- _create_an_user_ngram: start -----\n",
      "2023-09-01 13:34:29,528 — logger — ERROR — Requested 35000 combinations, but only 10296 are possible.\n",
      "NoneType: None\n",
      "2023-09-01 13:34:29,534 — logger — INFO — Dropped 0 duplcates.\n",
      "2023-09-01 13:34:30,218 — logger — DEBUG — ----- _create_an_user_ngram: finished in 0.69 seconds)-----\n",
      "4 {'Alkinoos': 0, 'Jakub': 1, 'Zuzia Babol': 2, 'Jula': 3, 'Kacper ZF': 4, 'Mateusz': 5, 'ZF Andrzej': 6, 'Agata': 7, 'Babol': 8, 'Nata': 9, 'Bartek': 10, 'Cezary Babol': 11, 'Mieszko': 12, 'Miki': 13, 'Zuz': 14, 'Lilou': 15, 'Bartek ZF': 16, 'Kamil ZF': 17}\n",
      "2023-09-01 13:34:30,219 — logger — DEBUG — ----- _create_an_user_ngram: start -----\n",
      "2023-09-01 13:34:30,220 — logger — ERROR — Requested 35000 combinations, but only 4560 are possible.\n",
      "NoneType: None\n",
      "2023-09-01 13:34:30,222 — logger — INFO — Dropped 0 duplcates.\n",
      "2023-09-01 13:34:30,523 — logger — DEBUG — ----- _create_an_user_ngram: finished in 0.30 seconds)-----\n",
      "2 {'Alkinoos': 0, 'Jakub': 1, 'Zuzia Babol': 2, 'Jula': 3, 'Kacper ZF': 4, 'Mateusz': 5, 'ZF Andrzej': 6, 'Agata': 7, 'Babol': 8, 'Nata': 9, 'Bartek': 10, 'Cezary Babol': 11, 'Mieszko': 12, 'Miki': 13, 'Zuz': 14, 'Lilou': 15, 'Bartek ZF': 16, 'Kamil ZF': 17}\n",
      "2023-09-01 13:34:30,524 — logger — DEBUG — ----- _create_an_user_ngram: start -----\n",
      "2023-09-01 13:34:30,525 — logger — ERROR — Requested 35000 combinations, but only 528 are possible.\n",
      "NoneType: None\n",
      "2023-09-01 13:34:30,526 — logger — INFO — Dropped 0 duplcates.\n",
      "2023-09-01 13:34:30,583 — logger — DEBUG — ----- _create_an_user_ngram: finished in 0.06 seconds)-----\n",
      "3 {'Alkinoos': 0, 'Jakub': 1, 'Zuzia Babol': 2, 'Jula': 3, 'Kacper ZF': 4, 'Mateusz': 5, 'ZF Andrzej': 6, 'Agata': 7, 'Babol': 8, 'Nata': 9, 'Bartek': 10, 'Cezary Babol': 11, 'Mieszko': 12, 'Miki': 13, 'Zuz': 14, 'Lilou': 15, 'Bartek ZF': 16, 'Kamil ZF': 17}\n",
      "2023-09-01 13:34:30,585 — logger — DEBUG — ----- _create_an_user_ngram: start -----\n",
      "2023-09-01 13:34:30,586 — logger — ERROR — Requested 35000 combinations, but only 11026 are possible.\n",
      "NoneType: None\n",
      "2023-09-01 13:34:30,592 — logger — INFO — Dropped 0 duplcates.\n",
      "2023-09-01 13:34:31,432 — logger — DEBUG — ----- _create_an_user_ngram: finished in 0.85 seconds)-----\n",
      "0 {'Alkinoos': 0, 'Jakub': 1, 'Zuzia Babol': 2, 'Jula': 3, 'Kacper ZF': 4, 'Mateusz': 5, 'ZF Andrzej': 6, 'Agata': 7, 'Babol': 8, 'Nata': 9, 'Bartek': 10, 'Cezary Babol': 11, 'Mieszko': 12, 'Miki': 13, 'Zuz': 14, 'Lilou': 15, 'Bartek ZF': 16, 'Kamil ZF': 17}\n",
      "2023-09-01 13:34:31,434 — logger — DEBUG — ----- _create_an_user_ngram: start -----\n",
      "2023-09-01 13:34:31,434 — logger — ERROR — Requested 35000 combinations, but only 9045 are possible.\n",
      "NoneType: None\n",
      "2023-09-01 13:34:31,437 — logger — INFO — Dropped 0 duplcates.\n",
      "2023-09-01 13:34:32,038 — logger — DEBUG — ----- _create_an_user_ngram: finished in 0.60 seconds)-----\n",
      "7 {'Alkinoos': 0, 'Jakub': 1, 'Zuzia Babol': 2, 'Jula': 3, 'Kacper ZF': 4, 'Mateusz': 5, 'ZF Andrzej': 6, 'Agata': 7, 'Babol': 8, 'Nata': 9, 'Bartek': 10, 'Cezary Babol': 11, 'Mieszko': 12, 'Miki': 13, 'Zuz': 14, 'Lilou': 15, 'Bartek ZF': 16, 'Kamil ZF': 17}\n",
      "2023-09-01 13:34:32,041 — logger — DEBUG — ----- _create_an_user_ngram: start -----\n",
      "2023-09-01 13:34:32,041 — logger — ERROR — Requested 35000 combinations, but only 2850 are possible.\n",
      "NoneType: None\n",
      "2023-09-01 13:34:32,043 — logger — INFO — Dropped 0 duplcates.\n",
      "2023-09-01 13:34:32,258 — logger — DEBUG — ----- _create_an_user_ngram: finished in 0.22 seconds)-----\n",
      "8 {'Alkinoos': 0, 'Jakub': 1, 'Zuzia Babol': 2, 'Jula': 3, 'Kacper ZF': 4, 'Mateusz': 5, 'ZF Andrzej': 6, 'Agata': 7, 'Babol': 8, 'Nata': 9, 'Bartek': 10, 'Cezary Babol': 11, 'Mieszko': 12, 'Miki': 13, 'Zuz': 14, 'Lilou': 15, 'Bartek ZF': 16, 'Kamil ZF': 17}\n",
      "2023-09-01 13:34:32,260 — logger — DEBUG — ----- _create_an_user_ngram: start -----\n",
      "2023-09-01 13:34:32,260 — logger — ERROR — Requested 35000 combinations, but only 1711 are possible.\n",
      "NoneType: None\n",
      "2023-09-01 13:34:32,262 — logger — INFO — Dropped 0 duplcates.\n",
      "2023-09-01 13:34:32,414 — logger — DEBUG — ----- _create_an_user_ngram: finished in 0.15 seconds)-----\n",
      "12 {'Alkinoos': 0, 'Jakub': 1, 'Zuzia Babol': 2, 'Jula': 3, 'Kacper ZF': 4, 'Mateusz': 5, 'ZF Andrzej': 6, 'Agata': 7, 'Babol': 8, 'Nata': 9, 'Bartek': 10, 'Cezary Babol': 11, 'Mieszko': 12, 'Miki': 13, 'Zuz': 14, 'Lilou': 15, 'Bartek ZF': 16, 'Kamil ZF': 17}\n",
      "2023-09-01 13:34:32,417 — logger — DEBUG — ----- _create_an_user_ngram: start -----\n",
      "2023-09-01 13:34:32,417 — logger — ERROR — Requested 35000 combinations, but only 820 are possible.\n",
      "NoneType: None\n",
      "2023-09-01 13:34:32,419 — logger — INFO — Dropped 0 duplcates.\n",
      "2023-09-01 13:34:32,501 — logger — DEBUG — ----- _create_an_user_ngram: finished in 0.08 seconds)-----\n",
      "1 {'Alkinoos': 0, 'Jakub': 1, 'Zuzia Babol': 2, 'Jula': 3, 'Kacper ZF': 4, 'Mateusz': 5, 'ZF Andrzej': 6, 'Agata': 7, 'Babol': 8, 'Nata': 9, 'Bartek': 10, 'Cezary Babol': 11, 'Mieszko': 12, 'Miki': 13, 'Zuz': 14, 'Lilou': 15, 'Bartek ZF': 16, 'Kamil ZF': 17}\n",
      "2023-09-01 13:34:32,504 — logger — DEBUG — ----- _create_an_user_ngram: start -----\n",
      "2023-09-01 13:34:32,505 — logger — ERROR — Requested 35000 combinations, but only 2145 are possible.\n",
      "NoneType: None\n",
      "2023-09-01 13:34:32,506 — logger — INFO — Dropped 0 duplcates.\n",
      "2023-09-01 13:34:32,659 — logger — DEBUG — ----- _create_an_user_ngram: finished in 0.15 seconds)-----\n",
      "15 {'Alkinoos': 0, 'Jakub': 1, 'Zuzia Babol': 2, 'Jula': 3, 'Kacper ZF': 4, 'Mateusz': 5, 'ZF Andrzej': 6, 'Agata': 7, 'Babol': 8, 'Nata': 9, 'Bartek': 10, 'Cezary Babol': 11, 'Mieszko': 12, 'Miki': 13, 'Zuz': 14, 'Lilou': 15, 'Bartek ZF': 16, 'Kamil ZF': 17}\n",
      "2023-09-01 13:34:32,661 — logger — DEBUG — ----- _create_an_user_ngram: start -----\n",
      "2023-09-01 13:34:32,662 — logger — ERROR — Requested 35000 combinations, but only 465 are possible.\n",
      "NoneType: None\n",
      "2023-09-01 13:34:32,662 — logger — INFO — Dropped 0 duplcates.\n",
      "2023-09-01 13:34:32,700 — logger — DEBUG — ----- _create_an_user_ngram: finished in 0.04 seconds)-----\n",
      "14 {'Alkinoos': 0, 'Jakub': 1, 'Zuzia Babol': 2, 'Jula': 3, 'Kacper ZF': 4, 'Mateusz': 5, 'ZF Andrzej': 6, 'Agata': 7, 'Babol': 8, 'Nata': 9, 'Bartek': 10, 'Cezary Babol': 11, 'Mieszko': 12, 'Miki': 13, 'Zuz': 14, 'Lilou': 15, 'Bartek ZF': 16, 'Kamil ZF': 17}\n",
      "2023-09-01 13:34:32,703 — logger — DEBUG — ----- _create_an_user_ngram: start -----\n",
      "2023-09-01 13:34:32,703 — logger — ERROR — Requested 35000 combinations, but only 435 are possible.\n",
      "NoneType: None\n",
      "2023-09-01 13:34:32,704 — logger — INFO — Dropped 0 duplcates.\n",
      "2023-09-01 13:34:32,747 — logger — DEBUG — ----- _create_an_user_ngram: finished in 0.04 seconds)-----\n",
      "5 {'Alkinoos': 0, 'Jakub': 1, 'Zuzia Babol': 2, 'Jula': 3, 'Kacper ZF': 4, 'Mateusz': 5, 'ZF Andrzej': 6, 'Agata': 7, 'Babol': 8, 'Nata': 9, 'Bartek': 10, 'Cezary Babol': 11, 'Mieszko': 12, 'Miki': 13, 'Zuz': 14, 'Lilou': 15, 'Bartek ZF': 16, 'Kamil ZF': 17}\n",
      "2023-09-01 13:34:32,750 — logger — DEBUG — ----- _create_an_user_ngram: start -----\n",
      "2023-09-01 13:34:32,750 — logger — ERROR — Requested 35000 combinations, but only 3741 are possible.\n",
      "NoneType: None\n",
      "2023-09-01 13:34:32,753 — logger — INFO — Dropped 0 duplcates.\n",
      "2023-09-01 13:34:33,055 — logger — DEBUG — ----- _create_an_user_ngram: finished in 0.30 seconds)-----\n",
      "17 {'Alkinoos': 0, 'Jakub': 1, 'Zuzia Babol': 2, 'Jula': 3, 'Kacper ZF': 4, 'Mateusz': 5, 'ZF Andrzej': 6, 'Agata': 7, 'Babol': 8, 'Nata': 9, 'Bartek': 10, 'Cezary Babol': 11, 'Mieszko': 12, 'Miki': 13, 'Zuz': 14, 'Lilou': 15, 'Bartek ZF': 16, 'Kamil ZF': 17}\n",
      "2023-09-01 13:34:33,057 — logger — DEBUG — ----- _create_an_user_ngram: start -----\n",
      "2023-09-01 13:34:33,057 — logger — ERROR — Requested 35000 combinations, but only 325 are possible.\n",
      "NoneType: None\n",
      "2023-09-01 13:34:33,058 — logger — INFO — Dropped 0 duplcates.\n",
      "2023-09-01 13:34:33,087 — logger — DEBUG — ----- _create_an_user_ngram: finished in 0.03 seconds)-----\n",
      "10 {'Alkinoos': 0, 'Jakub': 1, 'Zuzia Babol': 2, 'Jula': 3, 'Kacper ZF': 4, 'Mateusz': 5, 'ZF Andrzej': 6, 'Agata': 7, 'Babol': 8, 'Nata': 9, 'Bartek': 10, 'Cezary Babol': 11, 'Mieszko': 12, 'Miki': 13, 'Zuz': 14, 'Lilou': 15, 'Bartek ZF': 16, 'Kamil ZF': 17}\n",
      "2023-09-01 13:34:33,090 — logger — DEBUG — ----- _create_an_user_ngram: start -----\n",
      "2023-09-01 13:34:33,090 — logger — ERROR — Requested 35000 combinations, but only 465 are possible.\n",
      "NoneType: None\n",
      "2023-09-01 13:34:33,091 — logger — INFO — Dropped 0 duplcates.\n",
      "2023-09-01 13:34:33,137 — logger — DEBUG — ----- _create_an_user_ngram: finished in 0.05 seconds)-----\n",
      "13 {'Alkinoos': 0, 'Jakub': 1, 'Zuzia Babol': 2, 'Jula': 3, 'Kacper ZF': 4, 'Mateusz': 5, 'ZF Andrzej': 6, 'Agata': 7, 'Babol': 8, 'Nata': 9, 'Bartek': 10, 'Cezary Babol': 11, 'Mieszko': 12, 'Miki': 13, 'Zuz': 14, 'Lilou': 15, 'Bartek ZF': 16, 'Kamil ZF': 17}\n",
      "2023-09-01 13:34:33,141 — logger — DEBUG — ----- _create_an_user_ngram: start -----\n",
      "2023-09-01 13:34:33,141 — logger — ERROR — Requested 35000 combinations, but only 465 are possible.\n",
      "NoneType: None\n",
      "2023-09-01 13:34:33,142 — logger — INFO — Dropped 0 duplcates.\n",
      "2023-09-01 13:34:33,190 — logger — DEBUG — ----- _create_an_user_ngram: finished in 0.05 seconds)-----\n",
      "9 {'Alkinoos': 0, 'Jakub': 1, 'Zuzia Babol': 2, 'Jula': 3, 'Kacper ZF': 4, 'Mateusz': 5, 'ZF Andrzej': 6, 'Agata': 7, 'Babol': 8, 'Nata': 9, 'Bartek': 10, 'Cezary Babol': 11, 'Mieszko': 12, 'Miki': 13, 'Zuz': 14, 'Lilou': 15, 'Bartek ZF': 16, 'Kamil ZF': 17}\n",
      "2023-09-01 13:34:33,193 — logger — DEBUG — ----- _create_an_user_ngram: start -----\n",
      "2023-09-01 13:34:33,193 — logger — ERROR — Requested 35000 combinations, but only 861 are possible.\n",
      "NoneType: None\n",
      "2023-09-01 13:34:33,194 — logger — INFO — Dropped 0 duplcates.\n",
      "2023-09-01 13:34:33,274 — logger — DEBUG — ----- _create_an_user_ngram: finished in 0.08 seconds)-----\n",
      "11 {'Alkinoos': 0, 'Jakub': 1, 'Zuzia Babol': 2, 'Jula': 3, 'Kacper ZF': 4, 'Mateusz': 5, 'ZF Andrzej': 6, 'Agata': 7, 'Babol': 8, 'Nata': 9, 'Bartek': 10, 'Cezary Babol': 11, 'Mieszko': 12, 'Miki': 13, 'Zuz': 14, 'Lilou': 15, 'Bartek ZF': 16, 'Kamil ZF': 17}\n",
      "2023-09-01 13:34:33,277 — logger — DEBUG — ----- _create_an_user_ngram: start -----\n",
      "2023-09-01 13:34:33,278 — logger — ERROR — Requested 35000 combinations, but only 105 are possible.\n",
      "NoneType: None\n",
      "2023-09-01 13:34:33,279 — logger — INFO — Dropped 0 duplcates.\n",
      "2023-09-01 13:34:33,293 — logger — DEBUG — ----- _create_an_user_ngram: finished in 0.02 seconds)-----\n",
      "2023-09-01 13:34:33,296 — logger — INFO — Created 50833 n-grams (2824 per user)\n",
      "2023-09-01 13:34:33,299 — logger — DEBUG — ----- create_users_ngrams: finished in 3.88 seconds)-----\n"
     ]
    }
   ],
   "source": [
    "from create_model import create_dataset\n",
    "from sklearn.preprocessing import Normalizer\n",
    "X_train, y_train, X_test, y_test = create_dataset(test_ratio=0.5, if_separate_words=True, scaler=Normalizer()) "
   ],
   "metadata": {
    "collapsed": false,
    "ExecuteTime": {
     "end_time": "2023-09-01T11:34:33.325175962Z",
     "start_time": "2023-09-01T11:34:23.207272684Z"
    }
   },
   "id": "6825b2a91ce2d374"
  },
  {
   "cell_type": "code",
   "execution_count": 6,
   "outputs": [
    {
     "data": {
      "text/plain": "            name\n0       Alkinoos\n1          Jakub\n2    Zuzia Babol\n3           Jula\n4      Kacper ZF\n5        Mateusz\n6     ZF Andrzej\n7          Agata\n8          Babol\n9           Nata\n10        Bartek\n11  Cezary Babol\n12       Mieszko\n13          Miki\n14           Zuz\n15         Lilou\n16     Bartek ZF\n17      Kamil ZF",
      "text/html": "<div>\n<style scoped>\n    .dataframe tbody tr th:only-of-type {\n        vertical-align: middle;\n    }\n\n    .dataframe tbody tr th {\n        vertical-align: top;\n    }\n\n    .dataframe thead th {\n        text-align: right;\n    }\n</style>\n<table border=\"1\" class=\"dataframe\">\n  <thead>\n    <tr style=\"text-align: right;\">\n      <th></th>\n      <th>name</th>\n    </tr>\n  </thead>\n  <tbody>\n    <tr>\n      <th>0</th>\n      <td>Alkinoos</td>\n    </tr>\n    <tr>\n      <th>1</th>\n      <td>Jakub</td>\n    </tr>\n    <tr>\n      <th>2</th>\n      <td>Zuzia Babol</td>\n    </tr>\n    <tr>\n      <th>3</th>\n      <td>Jula</td>\n    </tr>\n    <tr>\n      <th>4</th>\n      <td>Kacper ZF</td>\n    </tr>\n    <tr>\n      <th>5</th>\n      <td>Mateusz</td>\n    </tr>\n    <tr>\n      <th>6</th>\n      <td>ZF Andrzej</td>\n    </tr>\n    <tr>\n      <th>7</th>\n      <td>Agata</td>\n    </tr>\n    <tr>\n      <th>8</th>\n      <td>Babol</td>\n    </tr>\n    <tr>\n      <th>9</th>\n      <td>Nata</td>\n    </tr>\n    <tr>\n      <th>10</th>\n      <td>Bartek</td>\n    </tr>\n    <tr>\n      <th>11</th>\n      <td>Cezary Babol</td>\n    </tr>\n    <tr>\n      <th>12</th>\n      <td>Mieszko</td>\n    </tr>\n    <tr>\n      <th>13</th>\n      <td>Miki</td>\n    </tr>\n    <tr>\n      <th>14</th>\n      <td>Zuz</td>\n    </tr>\n    <tr>\n      <th>15</th>\n      <td>Lilou</td>\n    </tr>\n    <tr>\n      <th>16</th>\n      <td>Bartek ZF</td>\n    </tr>\n    <tr>\n      <th>17</th>\n      <td>Kamil ZF</td>\n    </tr>\n  </tbody>\n</table>\n</div>"
     },
     "execution_count": 6,
     "metadata": {},
     "output_type": "execute_result"
    }
   ],
   "source": [
    "from n_grams_creator import user_names\n",
    "\n",
    "# \n",
    "pd.DataFrame(user_names.keys(), user_names.values(), columns=['name'])\n"
   ],
   "metadata": {
    "collapsed": false,
    "ExecuteTime": {
     "end_time": "2023-09-01T11:34:37.569144515Z",
     "start_time": "2023-09-01T11:34:37.521733292Z"
    }
   },
   "id": "36f2449a98855a0"
  },
  {
   "cell_type": "code",
   "execution_count": 7,
   "outputs": [
    {
     "data": {
      "text/plain": "0      9045\n1      2145\n2       528\n3     11026\n4      4560\n5      3741\n6     10296\n7      2850\n8      1711\n9       861\n10      465\n11      105\n12      820\n13      465\n14      435\n15      465\n16      990\n17      325\nName: count, dtype: int64"
     },
     "execution_count": 7,
     "metadata": {},
     "output_type": "execute_result"
    }
   ],
   "source": [
    "pd.DataFrame(y_test).value_counts().sort_index()"
   ],
   "metadata": {
    "collapsed": false,
    "ExecuteTime": {
     "end_time": "2023-09-01T11:34:46.639252607Z",
     "start_time": "2023-09-01T11:34:46.623812746Z"
    }
   },
   "id": "9016f8e236b6af11"
  },
  {
   "cell_type": "code",
   "execution_count": null,
   "outputs": [],
   "source": [
    "# from sklearn.manifold import TSNE\n",
    "import matplotlib.pyplot as plt\n",
    "# \n",
    "# data_tsne = TSNE().fit_transform(X_train)\n",
    "# plt.scatter(data_tsne[:, 0], data_tsne[:, 1], y_train)\n",
    "# plt.show()\n",
    "y_train"
   ],
   "metadata": {
    "collapsed": false,
    "ExecuteTime": {
     "start_time": "2023-09-01T11:32:41.875172383Z"
    }
   },
   "id": "750869b3e308192e"
  },
  {
   "cell_type": "code",
   "execution_count": null,
   "outputs": [],
   "source": [
    "from sklearn.decomposition import PCA\n",
    "import numpy as np\n",
    "\n",
    "def determine_optimal_features(dataset, thresh = 0.95):\n",
    "    # Apply PCA\n",
    "    pca = PCA()\n",
    "    pca.fit(dataset)\n",
    "    \n",
    "    # Calculate cumulative explained variance\n",
    "    cumulative_variance = np.cumsum(pca.explained_variance_ratio_)\n",
    "    \n",
    "    # Get number of components needed to explain a certain amount of variance, e.g., 95%  \n",
    "    return np.argmax(cumulative_variance > thresh) + 1"
   ],
   "metadata": {
    "collapsed": false,
    "ExecuteTime": {
     "start_time": "2023-09-01T11:32:41.875514212Z"
    }
   },
   "id": "aacb817e9ef6b9a"
  },
  {
   "cell_type": "code",
   "execution_count": null,
   "outputs": [],
   "source": [
    "results = []\n",
    "possible_values = list(range(2,11))\n",
    "num_of_features = list(range(2,11))\n",
    "NUMBER_OF_FEATURES=15\n",
    "# Assume possible_values is a list of values you want to iterate over for the parameters\n",
    "for AMOUNT_OF_N_GRAMS_PERS_USER in possible_values:\n",
    "    # for NUMBER_OF_FEATURES in possible_values:\n",
    "        X_train, y_train, X_test, y_test = create_dataset(test_ratio=0.5, if_separate_words=True, scaler=Normalizer()) \n",
    "        \n",
    "        n_components_needed = determine_optimal_features(X_train)\n",
    "        \n",
    "        results.append({\n",
    "            'AMOUNT_OF_N_GRAMS_PERS_USER': AMOUNT_OF_N_GRAMS_PERS_USER,\n",
    "            'NUMBER_OF_FEATURES': NUMBER_OF_FEATURES,\n",
    "            'n_components_needed': n_components_needed\n",
    "        })"
   ],
   "metadata": {
    "collapsed": false,
    "ExecuteTime": {
     "start_time": "2023-09-01T11:32:41.875858523Z"
    }
   },
   "id": "376dbfb053121a3b"
  },
  {
   "cell_type": "code",
   "execution_count": null,
   "outputs": [],
   "source": [
    "pd.DataFrame(results)"
   ],
   "metadata": {
    "collapsed": false,
    "ExecuteTime": {
     "start_time": "2023-09-01T11:32:41.876180494Z"
    }
   },
   "id": "e7eb499ec155e81a"
  },
  {
   "cell_type": "code",
   "execution_count": null,
   "outputs": [],
   "source": [
    "plt.hist2d(data_tsne[:, 0], data_tsne[:, 1], bins=30, cmap='Blues')\n",
    "plt.colorbar()\n",
    "plt.show()"
   ],
   "metadata": {
    "collapsed": false,
    "ExecuteTime": {
     "start_time": "2023-09-01T11:32:41.877186595Z"
    }
   },
   "id": "afc391e3d8884bd"
  },
  {
   "cell_type": "code",
   "execution_count": null,
   "outputs": [],
   "source": [
    "# fig = plt.figure()\n",
    "# ax = fig.add_subplot(111, projection='3d')  # create a 3D axis object\n",
    "# ax.scatter(data_tsne[:, 0], data_tsne[:, 1], y_train,  c=y_train, marker='.')  # scatter plot\n",
    "# plt.show()"
   ],
   "metadata": {
    "collapsed": false,
    "ExecuteTime": {
     "start_time": "2023-09-01T11:32:41.877609189Z"
    }
   },
   "id": "f68254de1ed2969f"
  },
  {
   "cell_type": "code",
   "execution_count": null,
   "outputs": [],
   "source": [
    "from sklearn.decomposition import PCA\n",
    "import matplotlib.pyplot as plt\n",
    "pca_data = PCA().fit_transform(X_train)\n",
    "plt.scatter(pca_data[:, 0], pca_data[:, 1], c=y_train)\n",
    "plt.show()"
   ],
   "metadata": {
    "collapsed": false,
    "ExecuteTime": {
     "start_time": "2023-09-01T11:32:41.877966224Z"
    }
   },
   "id": "e106aba19c6eeb1d"
  },
  {
   "cell_type": "code",
   "execution_count": null,
   "outputs": [],
   "source": [
    "fig = plt.figure()\n",
    "ax = fig.add_subplot(111, projection='3d')  # create a 3D axis object\n",
    "ax.scatter(y_train, pca_data[:, 0], pca_data[:, 1], c=y_train,marker='.')  # scatter plot\n",
    "plt.show()"
   ],
   "metadata": {
    "collapsed": false,
    "ExecuteTime": {
     "start_time": "2023-09-01T11:32:41.878308592Z"
    }
   },
   "id": "935870759f2d8848"
  },
  {
   "cell_type": "code",
   "execution_count": null,
   "outputs": [],
   "source": [
    "pca = PCA(n_components=X_train.shape[1])\n",
    "pca.fit(X_train)"
   ],
   "metadata": {
    "collapsed": false,
    "ExecuteTime": {
     "start_time": "2023-09-01T11:32:41.878530607Z"
    }
   },
   "id": "8e0475aefbd50101"
  },
  {
   "cell_type": "code",
   "execution_count": null,
   "outputs": [],
   "source": [
    "plt.ylabel('Eigenvalues')\n",
    "plt.xlabel('Number of features')\n",
    "plt.plot(pca.explained_variance_)"
   ],
   "metadata": {
    "collapsed": false,
    "ExecuteTime": {
     "start_time": "2023-09-01T11:32:41.878736830Z"
    }
   },
   "id": "f74fde099f8d8397"
  },
  {
   "cell_type": "code",
   "execution_count": null,
   "outputs": [],
   "source": [
    "pd.DataFrame(pca.explained_variance_ratio_)"
   ],
   "metadata": {
    "collapsed": false,
    "ExecuteTime": {
     "start_time": "2023-09-01T11:32:41.878939198Z"
    }
   },
   "id": "ba1e3f88306be76d"
  },
  {
   "cell_type": "code",
   "execution_count": null,
   "outputs": [],
   "source": [
    "for idx in np.argsort(np.abs(pca.components_[0]))[::-1]:\n",
    "    print(f\"Feature {idx}, Weight: {pca.components_[0][idx]:.4f}\")\n"
   ],
   "metadata": {
    "collapsed": false,
    "ExecuteTime": {
     "start_time": "2023-09-01T11:32:41.879138123Z"
    }
   },
   "id": "ca5eee53a9192e40"
  },
  {
   "cell_type": "code",
   "execution_count": null,
   "outputs": [],
   "source": [
    "variance = pca.explained_variance_ratio_\n",
    "var = np.cumsum(pca.explained_variance_ratio_)*100\n",
    "plt.ylabel('% variance explaines')\n",
    "plt.xlabel('Number of features')\n",
    "plt.plot(var)"
   ],
   "metadata": {
    "collapsed": false,
    "ExecuteTime": {
     "start_time": "2023-09-01T11:32:41.879353111Z"
    }
   },
   "id": "599e28b65d3a0672"
  },
  {
   "cell_type": "code",
   "execution_count": null,
   "outputs": [],
   "source": [
    "# fig = plt.figure()\n",
    "# ax = fig.add_subplot(111, projection='3d')  # create a 3D axis object\n",
    "# ax.scatter(data_tsne[:, 0], data_tsne[:, 1], y_train, c=y_train, marker='.')  # scatter plot\n",
    "# plt.show()"
   ],
   "metadata": {
    "collapsed": false,
    "ExecuteTime": {
     "start_time": "2023-09-01T11:32:41.879535716Z"
    }
   },
   "id": "8ba79beaa560d30b"
  },
  {
   "cell_type": "code",
   "execution_count": null,
   "outputs": [],
   "source": [
    "from sklearn.decomposition import PCA\n",
    "import matplotlib.pyplot as plt\n",
    "pca_data = PCA().fit_transform(X_test)\n",
    "plt.scatter(pca_data[:, 0], pca_data[:, 1], c=y_test)\n",
    "plt.show()"
   ],
   "metadata": {
    "collapsed": false,
    "ExecuteTime": {
     "start_time": "2023-09-01T11:32:41.918199937Z"
    }
   },
   "id": "57706b9653bae934"
  },
  {
   "cell_type": "code",
   "execution_count": null,
   "outputs": [],
   "source": [
    "fig = plt.figure()\n",
    "ax = fig.add_subplot(111, projection='3d')  # create a 3D axis object\n",
    "ax.scatter(pca_data[:, 0], pca_data[:, 1], y_test, c=y_test, marker='o')  # scatter plot\n",
    "plt.show()"
   ],
   "metadata": {
    "collapsed": false,
    "ExecuteTime": {
     "start_time": "2023-09-01T11:32:41.918537871Z"
    }
   },
   "id": "a96ecd90b822d2a0"
  },
  {
   "cell_type": "code",
   "execution_count": null,
   "outputs": [],
   "source": [
    "from sklearn.ensemble import RandomForestClassifier\n",
    "from sklearn.metrics import classification_report\n",
    "from sklearn.model_selection import train_test_split\n",
    "\n",
    "clf = RandomForestClassifier()\n",
    "# X_train, X_test, y_train, y_test = train_test_split(X_train, y_train, test_size=0.5)\n",
    "clf.fit(X_train, y_train)\n",
    "print(classification_report(y_train, clf.predict(X_train)))\n",
    "print(classification_report(y_test, clf.predict(X_test)))\n",
    "# print(classification_report(y_train, clf.predict(X_train)))"
   ],
   "metadata": {
    "collapsed": false,
    "ExecuteTime": {
     "start_time": "2023-09-01T11:32:41.918769076Z"
    }
   },
   "id": "5667abfc6744a563"
  },
  {
   "cell_type": "code",
   "execution_count": null,
   "outputs": [],
   "source": [
    "from sklearn.ensemble import RandomForestClassifier\n",
    "from sklearn.metrics import classification_report\n",
    "from sklearn.model_selection import train_test_split\n",
    "\n",
    "clf = RandomForestClassifier()\n",
    "X_train, y_train, X_test, y_test = create_dataset(test_ratio=0.01, if_separate_words=True, scaler=Normalizer()) \n",
    "X, X_test, y, y_test = train_test_split(X_train, y_train, test_size=0.5)\n",
    "clf.fit(X_train, y_train)\n",
    "run_cv_neural_network(X, y, X_test, y_train)\n",
    "# print(classification_report(y_train, clf.predict(X_train)))"
   ],
   "metadata": {
    "collapsed": false,
    "ExecuteTime": {
     "start_time": "2023-09-01T11:32:41.918997779Z"
    }
   },
   "id": "d04f529e27536da7"
  },
  {
   "cell_type": "code",
   "execution_count": null,
   "outputs": [],
   "source": [
    "from scipy.stats import ttest_ind\n",
    "ttest_results = pd.DataFrame(columns=['Feature', 'T-stat', 'P-value'])\n",
    "\n",
    "\n",
    "malware = df[df['is_malware'] == 1]\n",
    "non_malware = df[df['is_malware'] == 0]\n",
    "\n",
    "for column in df.columns:\n",
    "    if column != 'is_malware':\n",
    "        t_stat, p_val = ttest_ind(malware[column], non_malware[column])\n",
    "    ttest_results = pd.concat([ttest_results,pd.DataFrame({'Feature': column, 'T-stat': t_stat, 'P-value': p_val}, index = [0])] )\n",
    "    # ttest_results = pd.merge(ttest_results, pd.DataFrame({'Feature': column, 'T-stat': t_stat, 'P-value': p_val}, ignore_index=True))\n",
    "\n",
    "# Display the DataFrame\n",
    "ttest_results = ttest_results.reset_index(drop=True).set_index('Feature').transpose"
   ],
   "metadata": {
    "collapsed": false,
    "ExecuteTime": {
     "start_time": "2023-09-01T11:32:41.919198577Z"
    }
   },
   "id": "ef3b4e46fea60390"
  }
 ],
 "metadata": {
  "kernelspec": {
   "display_name": "Python 3",
   "language": "python",
   "name": "python3"
  },
  "language_info": {
   "codemirror_mode": {
    "name": "ipython",
    "version": 2
   },
   "file_extension": ".py",
   "mimetype": "text/x-python",
   "name": "python",
   "nbconvert_exporter": "python",
   "pygments_lexer": "ipython2",
   "version": "2.7.6"
  }
 },
 "nbformat": 4,
 "nbformat_minor": 5
}
