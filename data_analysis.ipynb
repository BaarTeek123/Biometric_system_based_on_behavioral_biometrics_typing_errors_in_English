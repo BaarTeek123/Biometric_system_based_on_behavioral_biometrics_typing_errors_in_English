{
 "cells": [
  {
   "cell_type": "markdown",
   "source": [
    "# Identifiation system basing on behavioral biometrics: typing errors - dataset analysis"
   ],
   "metadata": {
    "collapsed": false
   },
   "id": "75be4e784c2f006c"
  },
  {
   "cell_type": "markdown",
   "source": [
    "## Configuration\n",
    "### Load dependencies"
   ],
   "metadata": {
    "collapsed": false
   },
   "id": "6d87fe5a78cbc622"
  },
  {
   "cell_type": "code",
   "execution_count": null,
   "outputs": [],
   "source": [
    "import numpy as np\n",
    "from sklearn.ensemble import RandomForestClassifier, GradientBoostingClassifier\n",
    "from sklearn.neighbors import KNeighborsClassifier\n",
    "from classifiers import build_tuned_nn, build_tuned_rfc, param_grid\n",
    "from sklearn.neural_network import MLPClassifier\n",
    "from sklearn.svm import SVC\n",
    "from tensorflow import config\n",
    "from cv import run_cv_neural_network\n",
    "import pandas as pd\n"
   ],
   "metadata": {
    "collapsed": false
   },
   "id": "29decfd3fa8c69c1"
  },
  {
   "cell_type": "markdown",
   "source": [
    "#### Configure GPUs"
   ],
   "metadata": {
    "collapsed": false
   },
   "id": "ab9cb2048f9e359c"
  },
  {
   "cell_type": "code",
   "execution_count": null,
   "outputs": [],
   "source": [
    "gpus = config.experimental.list_physical_devices('GPU')\n",
    "for gpu in gpus:\n",
    "    config.experimental.set_memory_growth(gpu, True)\n",
    "    print(gpu)"
   ],
   "metadata": {
    "collapsed": false
   },
   "id": "b3116a78f19356ff"
  },
  {
   "cell_type": "markdown",
   "source": [
    "## Define classifiers"
   ],
   "metadata": {
    "collapsed": false
   },
   "id": "bcc7e3e8d25ee1c0"
  },
  {
   "cell_type": "code",
   "execution_count": null,
   "outputs": [],
   "source": [
    "CLASSIFIERS = [\n",
    "    (RandomForestClassifier(), param_grid['Random Forest'], 'Random Forest'),\n",
    "\n",
    "    (KNeighborsClassifier(), param_grid['K-Nearest Neighbors'], 'K-Nearest Neighbors'),\n",
    "    (SVC(probability=True), param_grid['SVC'], 'SVC'),\n",
    "\n",
    "        (GradientBoostingClassifier(),\n",
    "         param_grid['Gradient Boosting'],\n",
    "         'Gradient Boosting'),\n",
    "\n",
    "        (MLPClassifier(), param_grid['MLP Classifier'], 'MLP Classifier'),\n",
    "]"
   ],
   "metadata": {
    "collapsed": false
   },
   "id": "19591ec1f0b7d464"
  },
  {
   "cell_type": "markdown",
   "source": [
    "## Load dataset"
   ],
   "metadata": {
    "collapsed": false
   },
   "id": "488801405899c8a8"
  },
  {
   "cell_type": "code",
   "execution_count": null,
   "outputs": [],
   "source": [
    "from create_model import create_dataset\n",
    "from sklearn.preprocessing import Normalizer\n",
    "X_train, y_train, X_test, y_test = create_dataset(test_ratio=0.5, if_separate_words=True, scaler=Normalizer()) "
   ],
   "metadata": {
    "collapsed": false
   },
   "id": "6825b2a91ce2d374"
  },
  {
   "cell_type": "code",
   "execution_count": null,
   "outputs": [],
   "source": [
    "pd.DataFrame(y_test).value_counts()\n"
   ],
   "metadata": {
    "collapsed": false
   },
   "id": "36f2449a98855a0"
  },
  {
   "cell_type": "code",
   "execution_count": null,
   "outputs": [],
   "source": [],
   "metadata": {
    "collapsed": false
   },
   "id": "9016f8e236b6af11"
  },
  {
   "cell_type": "code",
   "execution_count": null,
   "outputs": [],
   "source": [
    "# from sklearn.manifold import TSNE\n",
    "import matplotlib.pyplot as plt\n",
    "# \n",
    "# data_tsne = TSNE().fit_transform(X_train)\n",
    "# plt.scatter(data_tsne[:, 0], data_tsne[:, 1], y_train)\n",
    "# plt.show()\n",
    "y_train"
   ],
   "metadata": {
    "collapsed": false
   },
   "id": "750869b3e308192e"
  },
  {
   "cell_type": "code",
   "execution_count": null,
   "outputs": [],
   "source": [
    "from sklearn.decomposition import PCA\n",
    "import numpy as np\n",
    "\n",
    "def determine_optimal_features(dataset, thresh = 0.95):\n",
    "    # Apply PCA\n",
    "    pca = PCA()\n",
    "    pca.fit(dataset)\n",
    "    \n",
    "    # Calculate cumulative explained variance\n",
    "    cumulative_variance = np.cumsum(pca.explained_variance_ratio_)\n",
    "    \n",
    "    # Get number of components needed to explain a certain amount of variance, e.g., 95%  \n",
    "    return np.argmax(cumulative_variance > thresh) + 1"
   ],
   "metadata": {
    "collapsed": false
   },
   "id": "aacb817e9ef6b9a"
  },
  {
   "cell_type": "code",
   "execution_count": null,
   "outputs": [],
   "source": [
    "results = []\n",
    "possible_values = list(range(2,11))\n",
    "num_of_features = list(range(2,11))\n",
    "NUMBER_OF_FEATURES=15\n",
    "# Assume possible_values is a list of values you want to iterate over for the parameters\n",
    "for AMOUNT_OF_N_GRAMS_PERS_USER in possible_values:\n",
    "    # for NUMBER_OF_FEATURES in possible_values:\n",
    "        X_train, y_train, X_test, y_test = create_dataset(test_ratio=0.5, if_separate_words=True, scaler=Normalizer()) \n",
    "        \n",
    "        n_components_needed = determine_optimal_features(X_train)\n",
    "        \n",
    "        results.append({\n",
    "            'AMOUNT_OF_N_GRAMS_PERS_USER': AMOUNT_OF_N_GRAMS_PERS_USER,\n",
    "            'NUMBER_OF_FEATURES': NUMBER_OF_FEATURES,\n",
    "            'n_components_needed': n_components_needed\n",
    "        })"
   ],
   "metadata": {
    "collapsed": false
   },
   "id": "376dbfb053121a3b"
  },
  {
   "cell_type": "code",
   "execution_count": null,
   "outputs": [],
   "source": [
    "pd.DataFrame(results)"
   ],
   "metadata": {
    "collapsed": false
   },
   "id": "e7eb499ec155e81a"
  },
  {
   "cell_type": "code",
   "execution_count": null,
   "outputs": [],
   "source": [
    "plt.hist2d(data_tsne[:, 0], data_tsne[:, 1], bins=30, cmap='Blues')\n",
    "plt.colorbar()\n",
    "plt.show()"
   ],
   "metadata": {
    "collapsed": false
   },
   "id": "afc391e3d8884bd"
  },
  {
   "cell_type": "code",
   "execution_count": null,
   "outputs": [],
   "source": [
    "# fig = plt.figure()\n",
    "# ax = fig.add_subplot(111, projection='3d')  # create a 3D axis object\n",
    "# ax.scatter(data_tsne[:, 0], data_tsne[:, 1], y_train,  c=y_train, marker='.')  # scatter plot\n",
    "# plt.show()"
   ],
   "metadata": {
    "collapsed": false
   },
   "id": "f68254de1ed2969f"
  },
  {
   "cell_type": "code",
   "execution_count": null,
   "outputs": [],
   "source": [
    "from sklearn.decomposition import PCA\n",
    "import matplotlib.pyplot as plt\n",
    "pca_data = PCA().fit_transform(X_train)\n",
    "plt.scatter(pca_data[:, 0], pca_data[:, 1], c=y_train)\n",
    "plt.show()"
   ],
   "metadata": {
    "collapsed": false
   },
   "id": "e106aba19c6eeb1d"
  },
  {
   "cell_type": "code",
   "execution_count": null,
   "outputs": [],
   "source": [
    "fig = plt.figure()\n",
    "ax = fig.add_subplot(111, projection='3d')  # create a 3D axis object\n",
    "ax.scatter(y_train, pca_data[:, 0], pca_data[:, 1], c=y_train,marker='.')  # scatter plot\n",
    "plt.show()"
   ],
   "metadata": {
    "collapsed": false
   },
   "id": "935870759f2d8848"
  },
  {
   "cell_type": "code",
   "execution_count": null,
   "outputs": [],
   "source": [
    "pca = PCA(n_components=X_train.shape[1])\n",
    "pca.fit(X_train)"
   ],
   "metadata": {
    "collapsed": false
   },
   "id": "8e0475aefbd50101"
  },
  {
   "cell_type": "code",
   "execution_count": null,
   "outputs": [],
   "source": [
    "plt.ylabel('Eigenvalues')\n",
    "plt.xlabel('Number of features')\n",
    "plt.plot(pca.explained_variance_)"
   ],
   "metadata": {
    "collapsed": false
   },
   "id": "f74fde099f8d8397"
  },
  {
   "cell_type": "code",
   "execution_count": null,
   "outputs": [],
   "source": [
    "pd.DataFrame(pca.explained_variance_ratio_)"
   ],
   "metadata": {
    "collapsed": false
   },
   "id": "ba1e3f88306be76d"
  },
  {
   "cell_type": "code",
   "execution_count": null,
   "outputs": [],
   "source": [
    "for idx in np.argsort(np.abs(pca.components_[0]))[::-1]:\n",
    "    print(f\"Feature {idx}, Weight: {pca.components_[0][idx]:.4f}\")\n"
   ],
   "metadata": {
    "collapsed": false
   },
   "id": "ca5eee53a9192e40"
  },
  {
   "cell_type": "code",
   "execution_count": null,
   "outputs": [],
   "source": [
    "variance = pca.explained_variance_ratio_\n",
    "var = np.cumsum(pca.explained_variance_ratio_)*100\n",
    "plt.ylabel('% variance explaines')\n",
    "plt.xlabel('Number of features')\n",
    "plt.plot(var)"
   ],
   "metadata": {
    "collapsed": false
   },
   "id": "599e28b65d3a0672"
  },
  {
   "cell_type": "code",
   "execution_count": null,
   "outputs": [],
   "source": [
    "# fig = plt.figure()\n",
    "# ax = fig.add_subplot(111, projection='3d')  # create a 3D axis object\n",
    "# ax.scatter(data_tsne[:, 0], data_tsne[:, 1], y_train, c=y_train, marker='.')  # scatter plot\n",
    "# plt.show()"
   ],
   "metadata": {
    "collapsed": false
   },
   "id": "8ba79beaa560d30b"
  },
  {
   "cell_type": "code",
   "execution_count": null,
   "outputs": [],
   "source": [
    "from sklearn.decomposition import PCA\n",
    "import matplotlib.pyplot as plt\n",
    "pca_data = PCA().fit_transform(X_test)\n",
    "plt.scatter(pca_data[:, 0], pca_data[:, 1], c=y_test)\n",
    "plt.show()"
   ],
   "metadata": {
    "collapsed": false
   },
   "id": "57706b9653bae934"
  },
  {
   "cell_type": "code",
   "execution_count": null,
   "outputs": [],
   "source": [
    "fig = plt.figure()\n",
    "ax = fig.add_subplot(111, projection='3d')  # create a 3D axis object\n",
    "ax.scatter(pca_data[:, 0], pca_data[:, 1], y_test, c=y_test, marker='o')  # scatter plot\n",
    "plt.show()"
   ],
   "metadata": {
    "collapsed": false
   },
   "id": "a96ecd90b822d2a0"
  },
  {
   "cell_type": "code",
   "execution_count": null,
   "outputs": [],
   "source": [
    "from sklearn.ensemble import RandomForestClassifier\n",
    "from sklearn.metrics import classification_report\n",
    "from sklearn.model_selection import train_test_split\n",
    "\n",
    "clf = RandomForestClassifier()\n",
    "# X_train, X_test, y_train, y_test = train_test_split(X_train, y_train, test_size=0.5)\n",
    "clf.fit(X_train, y_train)\n",
    "print(classification_report(y_train, clf.predict(X_train)))\n",
    "print(classification_report(y_test, clf.predict(X_test)))\n",
    "# print(classification_report(y_train, clf.predict(X_train)))"
   ],
   "metadata": {
    "collapsed": false
   },
   "id": "5667abfc6744a563"
  },
  {
   "cell_type": "code",
   "execution_count": null,
   "outputs": [],
   "source": [
    "from sklearn.ensemble import RandomForestClassifier\n",
    "from sklearn.metrics import classification_report\n",
    "from sklearn.model_selection import train_test_split\n",
    "\n",
    "clf = RandomForestClassifier()\n",
    "X_train, y_train, X_test, y_test = create_dataset(test_ratio=0.01, if_separate_words=True, scaler=Normalizer()) \n",
    "X, X_test, y, y_test = train_test_split(X_train, y_train, test_size=0.5)\n",
    "clf.fit(X_train, y_train)\n",
    "run_cv_neural_network(X, y, X_test, y_train)\n",
    "# print(classification_report(y_train, clf.predict(X_train)))"
   ],
   "metadata": {
    "collapsed": false
   },
   "id": "d04f529e27536da7"
  },
  {
   "cell_type": "code",
   "execution_count": null,
   "outputs": [],
   "source": [
    "from scipy.stats import ttest_ind\n",
    "ttest_results = pd.DataFrame(columns=['Feature', 'T-stat', 'P-value'])\n",
    "\n",
    "\n",
    "malware = df[df['is_malware'] == 1]\n",
    "non_malware = df[df['is_malware'] == 0]\n",
    "\n",
    "for column in df.columns:\n",
    "    if column != 'is_malware':\n",
    "        t_stat, p_val = ttest_ind(malware[column], non_malware[column])\n",
    "    ttest_results = pd.concat([ttest_results,pd.DataFrame({'Feature': column, 'T-stat': t_stat, 'P-value': p_val}, index = [0])] )\n",
    "    # ttest_results = pd.merge(ttest_results, pd.DataFrame({'Feature': column, 'T-stat': t_stat, 'P-value': p_val}, ignore_index=True))\n",
    "\n",
    "# Display the DataFrame\n",
    "ttest_results = ttest_results.reset_index(drop=True).set_index('Feature').transpose"
   ],
   "metadata": {
    "collapsed": false
   },
   "id": "ef3b4e46fea60390"
  }
 ],
 "metadata": {
  "kernelspec": {
   "display_name": "Python 3",
   "language": "python",
   "name": "python3"
  },
  "language_info": {
   "codemirror_mode": {
    "name": "ipython",
    "version": 2
   },
   "file_extension": ".py",
   "mimetype": "text/x-python",
   "name": "python",
   "nbconvert_exporter": "python",
   "pygments_lexer": "ipython2",
   "version": "2.7.6"
  }
 },
 "nbformat": 4,
 "nbformat_minor": 5
}
