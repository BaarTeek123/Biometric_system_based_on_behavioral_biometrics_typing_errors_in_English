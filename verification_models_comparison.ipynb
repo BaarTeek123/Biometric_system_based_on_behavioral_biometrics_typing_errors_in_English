{
 "cells": [
  {
   "cell_type": "markdown",
   "source": [
    "# Verification models comparison"
   ],
   "metadata": {
    "collapsed": false
   },
   "id": "c510fa26323b8da6"
  },
  {
   "cell_type": "markdown",
   "source": [
    "### Load dependencies"
   ],
   "metadata": {
    "collapsed": false
   },
   "id": "46568e044b403e5d"
  },
  {
   "cell_type": "code",
   "execution_count": 37,
   "id": "initial_id",
   "metadata": {
    "collapsed": true,
    "ExecuteTime": {
     "end_time": "2023-09-12T22:58:24.208675911Z",
     "start_time": "2023-09-12T22:58:24.166104416Z"
    }
   },
   "outputs": [],
   "source": [
    "import pandas as pd\n",
    "from ttest import paired_statistical_tests\n",
    "from functools import reduce\n"
   ]
  },
  {
   "cell_type": "code",
   "execution_count": 15,
   "outputs": [
    {
     "data": {
      "text/plain": "                    clf  accuracy        f1  precision    recall  threshold  \\\nidx                                                                           \n0    RUSBoostClassifier  0.721189  0.720809   0.720434  0.721189        0.5   \n1    RUSBoostClassifier  0.718638  0.716091   0.713726  0.718638        0.5   \n2    RUSBoostClassifier  0.713509  0.711256   0.709138  0.713509        0.5   \n3    RUSBoostClassifier  0.718536  0.716011   0.713666  0.718536        0.5   \n4    RUSBoostClassifier  0.767139  0.672613   0.674730  0.767139        0.5   \n\n     Number of features  N-gram sizes  Oversample  \nidx                                                \n0                     5             2       False  \n1                     5             2       False  \n2                     5             2       False  \n3                     5             2       False  \n4                     5             2       False  ",
      "text/html": "<div>\n<style scoped>\n    .dataframe tbody tr th:only-of-type {\n        vertical-align: middle;\n    }\n\n    .dataframe tbody tr th {\n        vertical-align: top;\n    }\n\n    .dataframe thead th {\n        text-align: right;\n    }\n</style>\n<table border=\"1\" class=\"dataframe\">\n  <thead>\n    <tr style=\"text-align: right;\">\n      <th></th>\n      <th>clf</th>\n      <th>accuracy</th>\n      <th>f1</th>\n      <th>precision</th>\n      <th>recall</th>\n      <th>threshold</th>\n      <th>Number of features</th>\n      <th>N-gram sizes</th>\n      <th>Oversample</th>\n    </tr>\n    <tr>\n      <th>idx</th>\n      <th></th>\n      <th></th>\n      <th></th>\n      <th></th>\n      <th></th>\n      <th></th>\n      <th></th>\n      <th></th>\n      <th></th>\n    </tr>\n  </thead>\n  <tbody>\n    <tr>\n      <th>0</th>\n      <td>RUSBoostClassifier</td>\n      <td>0.721189</td>\n      <td>0.720809</td>\n      <td>0.720434</td>\n      <td>0.721189</td>\n      <td>0.5</td>\n      <td>5</td>\n      <td>2</td>\n      <td>False</td>\n    </tr>\n    <tr>\n      <th>1</th>\n      <td>RUSBoostClassifier</td>\n      <td>0.718638</td>\n      <td>0.716091</td>\n      <td>0.713726</td>\n      <td>0.718638</td>\n      <td>0.5</td>\n      <td>5</td>\n      <td>2</td>\n      <td>False</td>\n    </tr>\n    <tr>\n      <th>2</th>\n      <td>RUSBoostClassifier</td>\n      <td>0.713509</td>\n      <td>0.711256</td>\n      <td>0.709138</td>\n      <td>0.713509</td>\n      <td>0.5</td>\n      <td>5</td>\n      <td>2</td>\n      <td>False</td>\n    </tr>\n    <tr>\n      <th>3</th>\n      <td>RUSBoostClassifier</td>\n      <td>0.718536</td>\n      <td>0.716011</td>\n      <td>0.713666</td>\n      <td>0.718536</td>\n      <td>0.5</td>\n      <td>5</td>\n      <td>2</td>\n      <td>False</td>\n    </tr>\n    <tr>\n      <th>4</th>\n      <td>RUSBoostClassifier</td>\n      <td>0.767139</td>\n      <td>0.672613</td>\n      <td>0.674730</td>\n      <td>0.767139</td>\n      <td>0.5</td>\n      <td>5</td>\n      <td>2</td>\n      <td>False</td>\n    </tr>\n  </tbody>\n</table>\n</div>"
     },
     "execution_count": 15,
     "metadata": {},
     "output_type": "execute_result"
    }
   ],
   "source": [
    "df = pd.read_csv('results_verification/5_2.csv', index_col='idx')\n",
    "df.head()"
   ],
   "metadata": {
    "collapsed": false,
    "ExecuteTime": {
     "end_time": "2023-09-12T22:03:58.245183891Z",
     "start_time": "2023-09-12T22:03:58.200833327Z"
    }
   },
   "id": "a9a300a174123cff"
  },
  {
   "cell_type": "code",
   "execution_count": 16,
   "outputs": [
    {
     "data": {
      "text/plain": "Index(['clf', 'accuracy', 'f1', 'precision', 'recall', 'threshold',\n       'Number of features', 'N-gram sizes', 'Oversample'],\n      dtype='object')"
     },
     "execution_count": 16,
     "metadata": {},
     "output_type": "execute_result"
    }
   ],
   "source": [
    "df.columns"
   ],
   "metadata": {
    "collapsed": false,
    "ExecuteTime": {
     "end_time": "2023-09-12T22:04:35.760688424Z",
     "start_time": "2023-09-12T22:04:35.757638512Z"
    }
   },
   "id": "a850576526a2537b"
  },
  {
   "cell_type": "markdown",
   "source": [
    "## Rank Models\n",
    "1. Group the results by the unique model characteristics\n",
    "2. For each group, you can compute the mean accuracy\n",
    "3. Sort the models based on their mean accuracy:"
   ],
   "metadata": {
    "collapsed": false
   },
   "id": "47d7a3ceda464b00"
  },
  {
   "cell_type": "code",
   "execution_count": 43,
   "outputs": [
    {
     "data": {
      "text/plain": "                                                                               mean  \\\nclf                            Number of features N-gram sizes Oversample             \nBalancedRandomForestClassifier 5                  2            False       0.789143   \nBalancedBaggingClassifier      5                  2            False       0.775331   \nRUSBoostClassifier             5                  2            False       0.761599   \n\n                                                                                std  \\\nclf                            Number of features N-gram sizes Oversample             \nBalancedRandomForestClassifier 5                  2            False       0.029191   \nBalancedBaggingClassifier      5                  2            False       0.026847   \nRUSBoostClassifier             5                  2            False       0.026809   \n\n                                                                           count  \nclf                            Number of features N-gram sizes Oversample         \nBalancedRandomForestClassifier 5                  2            False          90  \nBalancedBaggingClassifier      5                  2            False          90  \nRUSBoostClassifier             5                  2            False          90  ",
      "text/html": "<div>\n<style scoped>\n    .dataframe tbody tr th:only-of-type {\n        vertical-align: middle;\n    }\n\n    .dataframe tbody tr th {\n        vertical-align: top;\n    }\n\n    .dataframe thead th {\n        text-align: right;\n    }\n</style>\n<table border=\"1\" class=\"dataframe\">\n  <thead>\n    <tr style=\"text-align: right;\">\n      <th></th>\n      <th></th>\n      <th></th>\n      <th></th>\n      <th>mean</th>\n      <th>std</th>\n      <th>count</th>\n    </tr>\n    <tr>\n      <th>clf</th>\n      <th>Number of features</th>\n      <th>N-gram sizes</th>\n      <th>Oversample</th>\n      <th></th>\n      <th></th>\n      <th></th>\n    </tr>\n  </thead>\n  <tbody>\n    <tr>\n      <th>BalancedRandomForestClassifier</th>\n      <th>5</th>\n      <th>2</th>\n      <th>False</th>\n      <td>0.789143</td>\n      <td>0.029191</td>\n      <td>90</td>\n    </tr>\n    <tr>\n      <th>BalancedBaggingClassifier</th>\n      <th>5</th>\n      <th>2</th>\n      <th>False</th>\n      <td>0.775331</td>\n      <td>0.026847</td>\n      <td>90</td>\n    </tr>\n    <tr>\n      <th>RUSBoostClassifier</th>\n      <th>5</th>\n      <th>2</th>\n      <th>False</th>\n      <td>0.761599</td>\n      <td>0.026809</td>\n      <td>90</td>\n    </tr>\n  </tbody>\n</table>\n</div>"
     },
     "execution_count": 43,
     "metadata": {},
     "output_type": "execute_result"
    }
   ],
   "source": [
    "MAIN_METRIC = 'accuracy'\n",
    "COLUMNS = ['clf',  'Number of features', 'N-gram sizes', 'Oversample']\n",
    "ranked_models = df.groupby(COLUMNS)[MAIN_METRIC].agg(['mean', 'std', 'count']).sort_values(by='mean', ascending=False)\n",
    "ranked_models"
   ],
   "metadata": {
    "collapsed": false,
    "ExecuteTime": {
     "end_time": "2023-09-12T23:03:04.694346013Z",
     "start_time": "2023-09-12T23:03:04.680098692Z"
    }
   },
   "id": "b5aacb19ee98eb65"
  },
  {
   "cell_type": "code",
   "execution_count": 48,
   "outputs": [],
   "source": [
    "def filter_df_based_on_lista(df, list_of_columns, model):\n",
    "    conditions = [(df[list_of_columns[i]] == model[i]) for i in range(len(list_of_columns))]\n",
    "    combined_condition = reduce(lambda x, y: x & y, conditions)\n",
    "    return df[combined_condition]"
   ],
   "metadata": {
    "collapsed": false,
    "ExecuteTime": {
     "end_time": "2023-09-12T23:04:15.873529761Z",
     "start_time": "2023-09-12T23:04:15.871133907Z"
    }
   },
   "id": "ea8de1b7522e0c7a"
  },
  {
   "cell_type": "code",
   "execution_count": 47,
   "outputs": [
    {
     "data": {
      "text/plain": "Index(['clf', 'accuracy', 'f1', 'precision', 'recall', 'threshold',\n       'Number of features', 'N-gram sizes', 'Oversample'],\n      dtype='object')"
     },
     "execution_count": 47,
     "metadata": {},
     "output_type": "execute_result"
    }
   ],
   "source": [
    "df.columns"
   ],
   "metadata": {
    "collapsed": false,
    "ExecuteTime": {
     "end_time": "2023-09-12T23:04:04.790002908Z",
     "start_time": "2023-09-12T23:04:04.746962839Z"
    }
   },
   "id": "291f0f077792de2c"
  },
  {
   "cell_type": "code",
   "execution_count": 58,
   "outputs": [],
   "source": [
    "def pairwise_models_comparisons(df, ranked_models, num_comparisons=None, columns=COLUMNS, metric=MAIN_METRIC):\n",
    "    results = []\n",
    "    top_model = ranked_models.index[0]\n",
    "    conditions = [(df[columns[i]] == top_model[i]) for i in range(len(columns))]\n",
    "    combined_condition = reduce(lambda x, y: x & y, conditions) \n",
    "    \n",
    "    top_model_data = filter_df_based_on_lista(df, columns, top_model)\n",
    "    # If num_comparisons is None, compare against all models\n",
    "    if num_comparisons is None:\n",
    "        num_comparisons = len(ranked_models)\n",
    "\n",
    "    for idx in ranked_models.index[1:num_comparisons]:\n",
    "        current_model_data = filter_df_based_on_lista(df, columns, idx)\n",
    "        print(top_model_data.columns)\n",
    "        print(current_model_data.columns)\n",
    "        t_stat, p_value, test_name = paired_statistical_tests(top_model_data, current_model_data)\n",
    "        results.append((idx, t_stat, p_value))\n",
    "\n",
    "    return results\n"
   ],
   "metadata": {
    "collapsed": false,
    "ExecuteTime": {
     "end_time": "2023-09-12T23:12:46.012673711Z",
     "start_time": "2023-09-12T23:12:45.970824932Z"
    }
   },
   "id": "7ab2724bcf9bc6e5"
  },
  {
   "cell_type": "code",
   "execution_count": 59,
   "outputs": [
    {
     "name": "stdout",
     "output_type": "stream",
     "text": [
      "Index(['clf', 'accuracy', 'f1', 'precision', 'recall', 'threshold',\n",
      "       'Number of features', 'N-gram sizes', 'Oversample'],\n",
      "      dtype='object')\n",
      "Index(['clf', 'accuracy', 'f1', 'precision', 'recall', 'threshold',\n",
      "       'Number of features', 'N-gram sizes', 'Oversample'],\n",
      "      dtype='object')\n",
      "2023-09-13 01:12:48,163 — logger — INFO — Both models look Gaussian (fail to reject H0)\n",
      "2023-09-13 01:12:48,164 — logger — INFO — T-statistic: 8.395507284204612 with p-value: 6.673913298890984e-13\n"
     ]
    },
    {
     "ename": "ValueError",
     "evalue": "not enough values to unpack (expected 3, got 2)",
     "output_type": "error",
     "traceback": [
      "\u001B[0;31m---------------------------------------------------------------------------\u001B[0m",
      "\u001B[0;31mValueError\u001B[0m                                Traceback (most recent call last)",
      "Cell \u001B[0;32mIn[59], line 1\u001B[0m\n\u001B[0;32m----> 1\u001B[0m pd\u001B[38;5;241m.\u001B[39mDataFrame(\u001B[43mpairwise_models_comparisons\u001B[49m\u001B[43m(\u001B[49m\u001B[43mdf\u001B[49m\u001B[43m,\u001B[49m\u001B[43m \u001B[49m\u001B[43mranked_models\u001B[49m\u001B[43m)\u001B[49m, columns\u001B[38;5;241m=\u001B[39m[\u001B[38;5;124m'\u001B[39m\u001B[38;5;124mclf\u001B[39m\u001B[38;5;124m'\u001B[39m, \u001B[38;5;124m'\u001B[39m\u001B[38;5;124mstatistic_value\u001B[39m\u001B[38;5;124m'\u001B[39m, \u001B[38;5;124m'\u001B[39m\u001B[38;5;124mp-value\u001B[39m\u001B[38;5;124m'\u001B[39m, \u001B[38;5;124m'\u001B[39m\u001B[38;5;124mtest\u001B[39m\u001B[38;5;124m'\u001B[39m])\n",
      "Cell \u001B[0;32mIn[58], line 16\u001B[0m, in \u001B[0;36mpairwise_models_comparisons\u001B[0;34m(df, ranked_models, num_comparisons, columns, metric)\u001B[0m\n\u001B[1;32m     14\u001B[0m     \u001B[38;5;28mprint\u001B[39m(top_model_data\u001B[38;5;241m.\u001B[39mcolumns)\n\u001B[1;32m     15\u001B[0m     \u001B[38;5;28mprint\u001B[39m(current_model_data\u001B[38;5;241m.\u001B[39mcolumns)\n\u001B[0;32m---> 16\u001B[0m     t_stat, p_value, test_name \u001B[38;5;241m=\u001B[39m paired_statistical_tests(top_model_data, current_model_data)\n\u001B[1;32m     17\u001B[0m     results\u001B[38;5;241m.\u001B[39mappend((idx, t_stat, p_value))\n\u001B[1;32m     19\u001B[0m \u001B[38;5;28;01mreturn\u001B[39;00m results\n",
      "\u001B[0;31mValueError\u001B[0m: not enough values to unpack (expected 3, got 2)"
     ]
    }
   ],
   "source": [
    "pd.DataFrame(pairwise_models_comparisons(df, ranked_models), columns=['clf', 'statistic_value', 'p-value', 'test'])"
   ],
   "metadata": {
    "collapsed": false,
    "ExecuteTime": {
     "end_time": "2023-09-12T23:12:48.220793070Z",
     "start_time": "2023-09-12T23:12:48.164887072Z"
    }
   },
   "id": "84660a7dad9540e9"
  },
  {
   "cell_type": "code",
   "execution_count": null,
   "outputs": [],
   "source": [],
   "metadata": {
    "collapsed": false
   },
   "id": "2f31fdf5cf22890"
  }
 ],
 "metadata": {
  "kernelspec": {
   "display_name": "Python 3",
   "language": "python",
   "name": "python3"
  },
  "language_info": {
   "codemirror_mode": {
    "name": "ipython",
    "version": 2
   },
   "file_extension": ".py",
   "mimetype": "text/x-python",
   "name": "python",
   "nbconvert_exporter": "python",
   "pygments_lexer": "ipython2",
   "version": "2.7.6"
  }
 },
 "nbformat": 4,
 "nbformat_minor": 5
}
