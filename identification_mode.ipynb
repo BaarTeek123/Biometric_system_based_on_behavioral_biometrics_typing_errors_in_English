{
 "cells": [
  {
   "cell_type": "markdown",
   "source": [
    "# Identifiation system basing on behavioral biometrics: typing errors"
   ],
   "metadata": {
    "collapsed": false
   },
   "id": "8f7acca7057d1d69"
  },
  {
   "cell_type": "markdown",
   "source": [
    "## Configuration\n",
    "### Load dependencies"
   ],
   "metadata": {
    "collapsed": false
   },
   "id": "2d7b88068cb16144"
  },
  {
   "cell_type": "code",
   "execution_count": 1,
   "outputs": [
    {
     "name": "stderr",
     "output_type": "stream",
     "text": [
      "2023-09-11 00:18:15.955701: I tensorflow/tsl/cuda/cudart_stub.cc:28] Could not find cuda drivers on your machine, GPU will not be used.\n",
      "2023-09-11 00:18:15.995995: I tensorflow/tsl/cuda/cudart_stub.cc:28] Could not find cuda drivers on your machine, GPU will not be used.\n",
      "2023-09-11 00:18:15.996610: I tensorflow/core/platform/cpu_feature_guard.cc:182] This TensorFlow binary is optimized to use available CPU instructions in performance-critical operations.\n",
      "To enable the following instructions: AVX2 FMA, in other operations, rebuild TensorFlow with the appropriate compiler flags.\n",
      "2023-09-11 00:18:16.830614: W tensorflow/compiler/tf2tensorrt/utils/py_utils.cc:38] TF-TRT Warning: Could not find TensorRT\n"
     ]
    },
    {
     "name": "stdout",
     "output_type": "stream",
     "text": [
      "[]\n"
     ]
    }
   ],
   "source": [
    "import pandas as pd\n",
    "import tensorflow_decision_forests as tfdf\n",
    "from sklearn.metrics import confusion_matrix\n",
    "\n",
    "from create_model import create_dataset\n",
    "import tensorflow as tf\n",
    "import keras\n",
    "from sklearn.ensemble import RandomForestClassifier, GradientBoostingClassifier\n",
    "from sklearn.neighbors import KNeighborsClassifier\n",
    "from sklearn.preprocessing import Normalizer, StandardScaler\n",
    "from classifiers import build_tuned_nn, build_tuned_rfc, param_grid\n",
    "from sklearn.neural_network import MLPClassifier\n",
    "from os import path, makedirs\n",
    "from create_model import create_dataset, NUMBER_OF_FEATURES, N_GRAM_SIZE\n",
    "from sklearn.svm import SVC\n",
    "from cv import run_cv_neural_network, run_cv\n",
    "from cv import calculate_cmc, plot_cmc\n",
    "from sklearn.model_selection import train_test_split\n",
    "from ml_utils import compute_class_weights, create_weighted_dataset\n",
    "import matplotlib.pyplot as plt"
   ],
   "metadata": {
    "collapsed": false,
    "ExecuteTime": {
     "end_time": "2023-09-10T22:18:17.718408679Z",
     "start_time": "2023-09-10T22:18:15.725279190Z"
    }
   },
   "id": "2bff3a306b424421"
  },
  {
   "cell_type": "markdown",
   "source": [
    "### Configure GPUs"
   ],
   "metadata": {
    "collapsed": false
   },
   "id": "4e7a2e1ff51ee18"
  },
  {
   "cell_type": "code",
   "execution_count": 2,
   "outputs": [],
   "source": [
    "gpus = tf.config.experimental.list_physical_devices('GPU')\n",
    "for gpu in gpus:\n",
    "    tf.config.experimental.set_memory_growth(gpu, True)\n",
    "    print(gpu)"
   ],
   "metadata": {
    "collapsed": false,
    "ExecuteTime": {
     "end_time": "2023-09-10T22:18:17.718690739Z",
     "start_time": "2023-09-10T22:18:17.710989457Z"
    }
   },
   "id": "8a4cd24138418fdf"
  },
  {
   "cell_type": "markdown",
   "source": [
    "## Define constants"
   ],
   "metadata": {
    "collapsed": false
   },
   "id": "7f7119a146335e15"
  },
  {
   "cell_type": "code",
   "execution_count": 3,
   "outputs": [],
   "source": [
    "N_GRAM_SIZE = 2\n",
    "NUMBER_OF_FEATURES=6"
   ],
   "metadata": {
    "collapsed": false,
    "ExecuteTime": {
     "end_time": "2023-09-10T22:18:17.757728978Z",
     "start_time": "2023-09-10T22:18:17.714281617Z"
    }
   },
   "id": "b554402aad062532"
  },
  {
   "cell_type": "markdown",
   "source": [
    "## Load dataset"
   ],
   "metadata": {
    "collapsed": false
   },
   "id": "c3f54c125b4d044c"
  },
  {
   "cell_type": "code",
   "execution_count": 4,
   "outputs": [
    {
     "name": "stdout",
     "output_type": "stream",
     "text": [
      "Alkinoos.json\n",
      "Alkinoos.json\n",
      "u_5.json\n",
      "u_5.json\n",
      "Zuzia Babol.json\n",
      "Zuzia Babol.json\n",
      "u_4.json\n",
      "u_4.json\n",
      "Kacper ZF.json\n",
      "Kacper ZF.json\n",
      "Mateusz.json\n",
      "Mateusz.json\n",
      "ZF Andrzej.json\n",
      "ZF Andrzej.json\n",
      "Agata.json\n",
      "Agata.json\n",
      "u_1.json\n",
      "u_1.json\n",
      "u_7.json\n",
      "u_7.json\n",
      "u_2.json\n",
      "u_2.json\n",
      "Cezary Babol.json\n",
      "Cezary Babol.json\n",
      "u_3.json\n",
      "u_3.json\n",
      "u_6.json\n",
      "u_6.json\n",
      "u_8.json\n",
      "u_8.json\n",
      "Lilou.json\n",
      "Lilou.json\n",
      "Bartek ZF.json\n",
      "Bartek ZF.json\n",
      "ZF Kamil.json\n",
      "ZF Kamil.json\n",
      "8 {'Alkinoos': 0, 'Jakub': 1, 'Zuzia Babol': 2, 'Jula': 3, 'Kacper ZF': 4, 'Mateusz': 5, 'ZF Andrzej': 6, 'Agata': 7, 'Babol': 8, 'Nata': 9, 'Bartek': 10, 'Cezary Babol': 11, 'Mieszko': 12, 'Miki': 13, 'Zuz': 14, 'Lilou': 15, 'Bartek ZF': 16, 'Kamil ZF': 17}\n",
      "2023-09-11 00:18:19,227 — logger — ERROR — Requested 35000 combinations, but only 2080 are possible.\n",
      "NoneType: None\n",
      "2023-09-11 00:18:19,228 — logger — INFO — Dropped 0 duplcates.\n",
      "4 {'Alkinoos': 0, 'Jakub': 1, 'Zuzia Babol': 2, 'Jula': 3, 'Kacper ZF': 4, 'Mateusz': 5, 'ZF Andrzej': 6, 'Agata': 7, 'Babol': 8, 'Nata': 9, 'Bartek': 10, 'Cezary Babol': 11, 'Mieszko': 12, 'Miki': 13, 'Zuz': 14, 'Lilou': 15, 'Bartek ZF': 16, 'Kamil ZF': 17}\n",
      "2023-09-11 00:18:19,362 — logger — ERROR — Requested 35000 combinations, but only 5886 are possible.\n",
      "NoneType: None\n",
      "2023-09-11 00:18:19,364 — logger — INFO — Dropped 0 duplcates.\n",
      "5 {'Alkinoos': 0, 'Jakub': 1, 'Zuzia Babol': 2, 'Jula': 3, 'Kacper ZF': 4, 'Mateusz': 5, 'ZF Andrzej': 6, 'Agata': 7, 'Babol': 8, 'Nata': 9, 'Bartek': 10, 'Cezary Babol': 11, 'Mieszko': 12, 'Miki': 13, 'Zuz': 14, 'Lilou': 15, 'Bartek ZF': 16, 'Kamil ZF': 17}\n",
      "2023-09-11 00:18:19,734 — logger — ERROR — Requested 35000 combinations, but only 3081 are possible.\n",
      "NoneType: None\n",
      "2023-09-11 00:18:19,736 — logger — INFO — Dropped 0 duplcates.\n",
      "17 {'Alkinoos': 0, 'Jakub': 1, 'Zuzia Babol': 2, 'Jula': 3, 'Kacper ZF': 4, 'Mateusz': 5, 'ZF Andrzej': 6, 'Agata': 7, 'Babol': 8, 'Nata': 9, 'Bartek': 10, 'Cezary Babol': 11, 'Mieszko': 12, 'Miki': 13, 'Zuz': 14, 'Lilou': 15, 'Bartek ZF': 16, 'Kamil ZF': 17}\n",
      "2023-09-11 00:18:19,943 — logger — ERROR — Requested 35000 combinations, but only 300 are possible.\n",
      "NoneType: None\n",
      "2023-09-11 00:18:19,944 — logger — INFO — Dropped 0 duplcates.\n",
      "6 {'Alkinoos': 0, 'Jakub': 1, 'Zuzia Babol': 2, 'Jula': 3, 'Kacper ZF': 4, 'Mateusz': 5, 'ZF Andrzej': 6, 'Agata': 7, 'Babol': 8, 'Nata': 9, 'Bartek': 10, 'Cezary Babol': 11, 'Mieszko': 12, 'Miki': 13, 'Zuz': 14, 'Lilou': 15, 'Bartek ZF': 16, 'Kamil ZF': 17}\n",
      "2023-09-11 00:18:19,965 — logger — ERROR — Requested 35000 combinations, but only 9316 are possible.\n",
      "NoneType: None\n",
      "2023-09-11 00:18:19,970 — logger — INFO — Dropped 0 duplcates.\n",
      "9 {'Alkinoos': 0, 'Jakub': 1, 'Zuzia Babol': 2, 'Jula': 3, 'Kacper ZF': 4, 'Mateusz': 5, 'ZF Andrzej': 6, 'Agata': 7, 'Babol': 8, 'Nata': 9, 'Bartek': 10, 'Cezary Babol': 11, 'Mieszko': 12, 'Miki': 13, 'Zuz': 14, 'Lilou': 15, 'Bartek ZF': 16, 'Kamil ZF': 17}\n",
      "2023-09-11 00:18:20,587 — logger — ERROR — Requested 35000 combinations, but only 903 are possible.\n",
      "NoneType: None\n",
      "2023-09-11 00:18:20,587 — logger — INFO — Dropped 0 duplcates.\n",
      "7 {'Alkinoos': 0, 'Jakub': 1, 'Zuzia Babol': 2, 'Jula': 3, 'Kacper ZF': 4, 'Mateusz': 5, 'ZF Andrzej': 6, 'Agata': 7, 'Babol': 8, 'Nata': 9, 'Bartek': 10, 'Cezary Babol': 11, 'Mieszko': 12, 'Miki': 13, 'Zuz': 14, 'Lilou': 15, 'Bartek ZF': 16, 'Kamil ZF': 17}\n",
      "2023-09-11 00:18:20,660 — logger — ERROR — Requested 35000 combinations, but only 3916 are possible.\n",
      "NoneType: None\n",
      "2023-09-11 00:18:20,662 — logger — INFO — Dropped 0 duplcates.\n",
      "0 {'Alkinoos': 0, 'Jakub': 1, 'Zuzia Babol': 2, 'Jula': 3, 'Kacper ZF': 4, 'Mateusz': 5, 'ZF Andrzej': 6, 'Agata': 7, 'Babol': 8, 'Nata': 9, 'Bartek': 10, 'Cezary Babol': 11, 'Mieszko': 12, 'Miki': 13, 'Zuz': 14, 'Lilou': 15, 'Bartek ZF': 16, 'Kamil ZF': 17}\n",
      "2023-09-11 00:18:20,968 — logger — ERROR — Requested 35000 combinations, but only 11325 are possible.\n",
      "NoneType: None\n",
      "2023-09-11 00:18:20,973 — logger — INFO — Dropped 0 duplcates.\n",
      "1 {'Alkinoos': 0, 'Jakub': 1, 'Zuzia Babol': 2, 'Jula': 3, 'Kacper ZF': 4, 'Mateusz': 5, 'ZF Andrzej': 6, 'Agata': 7, 'Babol': 8, 'Nata': 9, 'Bartek': 10, 'Cezary Babol': 11, 'Mieszko': 12, 'Miki': 13, 'Zuz': 14, 'Lilou': 15, 'Bartek ZF': 16, 'Kamil ZF': 17}\n",
      "2023-09-11 00:18:21,679 — logger — ERROR — Requested 35000 combinations, but only 990 are possible.\n",
      "NoneType: None\n",
      "2023-09-11 00:18:21,679 — logger — INFO — Dropped 0 duplcates.\n",
      "15 {'Alkinoos': 0, 'Jakub': 1, 'Zuzia Babol': 2, 'Jula': 3, 'Kacper ZF': 4, 'Mateusz': 5, 'ZF Andrzej': 6, 'Agata': 7, 'Babol': 8, 'Nata': 9, 'Bartek': 10, 'Cezary Babol': 11, 'Mieszko': 12, 'Miki': 13, 'Zuz': 14, 'Lilou': 15, 'Bartek ZF': 16, 'Kamil ZF': 17}\n",
      "2023-09-11 00:18:21,747 — logger — ERROR — Requested 35000 combinations, but only 406 are possible.\n",
      "NoneType: None\n",
      "2023-09-11 00:18:21,748 — logger — INFO — Dropped 0 duplcates.\n",
      "3 {'Alkinoos': 0, 'Jakub': 1, 'Zuzia Babol': 2, 'Jula': 3, 'Kacper ZF': 4, 'Mateusz': 5, 'ZF Andrzej': 6, 'Agata': 7, 'Babol': 8, 'Nata': 9, 'Bartek': 10, 'Cezary Babol': 11, 'Mieszko': 12, 'Miki': 13, 'Zuz': 14, 'Lilou': 15, 'Bartek ZF': 16, 'Kamil ZF': 17}\n",
      "2023-09-11 00:18:21,779 — logger — ERROR — Requested 35000 combinations, but only 11628 are possible.\n",
      "NoneType: None\n",
      "2023-09-11 00:18:21,782 — logger — INFO — Dropped 0 duplcates.\n",
      "12 {'Alkinoos': 0, 'Jakub': 1, 'Zuzia Babol': 2, 'Jula': 3, 'Kacper ZF': 4, 'Mateusz': 5, 'ZF Andrzej': 6, 'Agata': 7, 'Babol': 8, 'Nata': 9, 'Bartek': 10, 'Cezary Babol': 11, 'Mieszko': 12, 'Miki': 13, 'Zuz': 14, 'Lilou': 15, 'Bartek ZF': 16, 'Kamil ZF': 17}\n",
      "2023-09-11 00:18:22,561 — logger — ERROR — Requested 35000 combinations, but only 666 are possible.\n",
      "NoneType: None\n",
      "2023-09-11 00:18:22,562 — logger — INFO — Dropped 0 duplcates.\n",
      "16 {'Alkinoos': 0, 'Jakub': 1, 'Zuzia Babol': 2, 'Jula': 3, 'Kacper ZF': 4, 'Mateusz': 5, 'ZF Andrzej': 6, 'Agata': 7, 'Babol': 8, 'Nata': 9, 'Bartek': 10, 'Cezary Babol': 11, 'Mieszko': 12, 'Miki': 13, 'Zuz': 14, 'Lilou': 15, 'Bartek ZF': 16, 'Kamil ZF': 17}\n",
      "2023-09-11 00:18:22,623 — logger — ERROR — Requested 35000 combinations, but only 1326 are possible.\n",
      "NoneType: None\n",
      "2023-09-11 00:18:22,623 — logger — INFO — Dropped 0 duplcates.\n",
      "10 {'Alkinoos': 0, 'Jakub': 1, 'Zuzia Babol': 2, 'Jula': 3, 'Kacper ZF': 4, 'Mateusz': 5, 'ZF Andrzej': 6, 'Agata': 7, 'Babol': 8, 'Nata': 9, 'Bartek': 10, 'Cezary Babol': 11, 'Mieszko': 12, 'Miki': 13, 'Zuz': 14, 'Lilou': 15, 'Bartek ZF': 16, 'Kamil ZF': 17}\n",
      "2023-09-11 00:18:22,732 — logger — ERROR — Requested 35000 combinations, but only 435 are possible.\n",
      "NoneType: None\n",
      "2023-09-11 00:18:22,733 — logger — INFO — Dropped 0 duplcates.\n",
      "13 {'Alkinoos': 0, 'Jakub': 1, 'Zuzia Babol': 2, 'Jula': 3, 'Kacper ZF': 4, 'Mateusz': 5, 'ZF Andrzej': 6, 'Agata': 7, 'Babol': 8, 'Nata': 9, 'Bartek': 10, 'Cezary Babol': 11, 'Mieszko': 12, 'Miki': 13, 'Zuz': 14, 'Lilou': 15, 'Bartek ZF': 16, 'Kamil ZF': 17}\n",
      "2023-09-11 00:18:22,768 — logger — ERROR — Requested 35000 combinations, but only 276 are possible.\n",
      "NoneType: None\n",
      "2023-09-11 00:18:22,769 — logger — INFO — Dropped 0 duplcates.\n",
      "2 {'Alkinoos': 0, 'Jakub': 1, 'Zuzia Babol': 2, 'Jula': 3, 'Kacper ZF': 4, 'Mateusz': 5, 'ZF Andrzej': 6, 'Agata': 7, 'Babol': 8, 'Nata': 9, 'Bartek': 10, 'Cezary Babol': 11, 'Mieszko': 12, 'Miki': 13, 'Zuz': 14, 'Lilou': 15, 'Bartek ZF': 16, 'Kamil ZF': 17}\n",
      "2023-09-11 00:18:22,798 — logger — ERROR — Requested 35000 combinations, but only 253 are possible.\n",
      "NoneType: None\n",
      "2023-09-11 00:18:22,799 — logger — INFO — Dropped 0 duplcates.\n",
      "14 {'Alkinoos': 0, 'Jakub': 1, 'Zuzia Babol': 2, 'Jula': 3, 'Kacper ZF': 4, 'Mateusz': 5, 'ZF Andrzej': 6, 'Agata': 7, 'Babol': 8, 'Nata': 9, 'Bartek': 10, 'Cezary Babol': 11, 'Mieszko': 12, 'Miki': 13, 'Zuz': 14, 'Lilou': 15, 'Bartek ZF': 16, 'Kamil ZF': 17}\n",
      "2023-09-11 00:18:22,824 — logger — ERROR — Requested 35000 combinations, but only 435 are possible.\n",
      "NoneType: None\n",
      "2023-09-11 00:18:22,824 — logger — INFO — Dropped 0 duplcates.\n",
      "11 {'Alkinoos': 0, 'Jakub': 1, 'Zuzia Babol': 2, 'Jula': 3, 'Kacper ZF': 4, 'Mateusz': 5, 'ZF Andrzej': 6, 'Agata': 7, 'Babol': 8, 'Nata': 9, 'Bartek': 10, 'Cezary Babol': 11, 'Mieszko': 12, 'Miki': 13, 'Zuz': 14, 'Lilou': 15, 'Bartek ZF': 16, 'Kamil ZF': 17}\n",
      "2023-09-11 00:18:22,858 — logger — ERROR — Requested 35000 combinations, but only 105 are possible.\n",
      "NoneType: None\n",
      "2023-09-11 00:18:22,859 — logger — INFO — Dropped 0 duplcates.\n",
      "2023-09-11 00:18:22,871 — logger — INFO — Created 53327 n-grams (2962 per user)\n",
      "16 {'Alkinoos': 0, 'Jakub': 1, 'Zuzia Babol': 2, 'Jula': 3, 'Kacper ZF': 4, 'Mateusz': 5, 'ZF Andrzej': 6, 'Agata': 7, 'Babol': 8, 'Nata': 9, 'Bartek': 10, 'Cezary Babol': 11, 'Mieszko': 12, 'Miki': 13, 'Zuz': 14, 'Lilou': 15, 'Bartek ZF': 16, 'Kamil ZF': 17}\n",
      "2023-09-11 00:18:22,874 — logger — ERROR — Requested 35000 combinations, but only 990 are possible.\n",
      "NoneType: None\n",
      "2023-09-11 00:18:22,875 — logger — INFO — Dropped 0 duplcates.\n",
      "6 {'Alkinoos': 0, 'Jakub': 1, 'Zuzia Babol': 2, 'Jula': 3, 'Kacper ZF': 4, 'Mateusz': 5, 'ZF Andrzej': 6, 'Agata': 7, 'Babol': 8, 'Nata': 9, 'Bartek': 10, 'Cezary Babol': 11, 'Mieszko': 12, 'Miki': 13, 'Zuz': 14, 'Lilou': 15, 'Bartek ZF': 16, 'Kamil ZF': 17}\n",
      "2023-09-11 00:18:22,953 — logger — ERROR — Requested 35000 combinations, but only 10296 are possible.\n",
      "NoneType: None\n",
      "2023-09-11 00:18:22,957 — logger — INFO — Dropped 0 duplcates.\n",
      "4 {'Alkinoos': 0, 'Jakub': 1, 'Zuzia Babol': 2, 'Jula': 3, 'Kacper ZF': 4, 'Mateusz': 5, 'ZF Andrzej': 6, 'Agata': 7, 'Babol': 8, 'Nata': 9, 'Bartek': 10, 'Cezary Babol': 11, 'Mieszko': 12, 'Miki': 13, 'Zuz': 14, 'Lilou': 15, 'Bartek ZF': 16, 'Kamil ZF': 17}\n",
      "2023-09-11 00:18:23,667 — logger — ERROR — Requested 35000 combinations, but only 4560 are possible.\n",
      "NoneType: None\n",
      "2023-09-11 00:18:23,669 — logger — INFO — Dropped 0 duplcates.\n",
      "2 {'Alkinoos': 0, 'Jakub': 1, 'Zuzia Babol': 2, 'Jula': 3, 'Kacper ZF': 4, 'Mateusz': 5, 'ZF Andrzej': 6, 'Agata': 7, 'Babol': 8, 'Nata': 9, 'Bartek': 10, 'Cezary Babol': 11, 'Mieszko': 12, 'Miki': 13, 'Zuz': 14, 'Lilou': 15, 'Bartek ZF': 16, 'Kamil ZF': 17}\n",
      "2023-09-11 00:18:23,950 — logger — ERROR — Requested 35000 combinations, but only 528 are possible.\n",
      "NoneType: None\n",
      "2023-09-11 00:18:23,951 — logger — INFO — Dropped 0 duplcates.\n",
      "3 {'Alkinoos': 0, 'Jakub': 1, 'Zuzia Babol': 2, 'Jula': 3, 'Kacper ZF': 4, 'Mateusz': 5, 'ZF Andrzej': 6, 'Agata': 7, 'Babol': 8, 'Nata': 9, 'Bartek': 10, 'Cezary Babol': 11, 'Mieszko': 12, 'Miki': 13, 'Zuz': 14, 'Lilou': 15, 'Bartek ZF': 16, 'Kamil ZF': 17}\n",
      "2023-09-11 00:18:23,986 — logger — ERROR — Requested 35000 combinations, but only 11026 are possible.\n",
      "NoneType: None\n",
      "2023-09-11 00:18:23,990 — logger — INFO — Dropped 0 duplcates.\n",
      "0 {'Alkinoos': 0, 'Jakub': 1, 'Zuzia Babol': 2, 'Jula': 3, 'Kacper ZF': 4, 'Mateusz': 5, 'ZF Andrzej': 6, 'Agata': 7, 'Babol': 8, 'Nata': 9, 'Bartek': 10, 'Cezary Babol': 11, 'Mieszko': 12, 'Miki': 13, 'Zuz': 14, 'Lilou': 15, 'Bartek ZF': 16, 'Kamil ZF': 17}\n",
      "2023-09-11 00:18:24,701 — logger — ERROR — Requested 35000 combinations, but only 9045 are possible.\n",
      "NoneType: None\n",
      "2023-09-11 00:18:24,703 — logger — INFO — Dropped 0 duplcates.\n",
      "7 {'Alkinoos': 0, 'Jakub': 1, 'Zuzia Babol': 2, 'Jula': 3, 'Kacper ZF': 4, 'Mateusz': 5, 'ZF Andrzej': 6, 'Agata': 7, 'Babol': 8, 'Nata': 9, 'Bartek': 10, 'Cezary Babol': 11, 'Mieszko': 12, 'Miki': 13, 'Zuz': 14, 'Lilou': 15, 'Bartek ZF': 16, 'Kamil ZF': 17}\n",
      "2023-09-11 00:18:25,262 — logger — ERROR — Requested 35000 combinations, but only 2850 are possible.\n",
      "NoneType: None\n",
      "2023-09-11 00:18:25,263 — logger — INFO — Dropped 0 duplcates.\n",
      "8 {'Alkinoos': 0, 'Jakub': 1, 'Zuzia Babol': 2, 'Jula': 3, 'Kacper ZF': 4, 'Mateusz': 5, 'ZF Andrzej': 6, 'Agata': 7, 'Babol': 8, 'Nata': 9, 'Bartek': 10, 'Cezary Babol': 11, 'Mieszko': 12, 'Miki': 13, 'Zuz': 14, 'Lilou': 15, 'Bartek ZF': 16, 'Kamil ZF': 17}\n",
      "2023-09-11 00:18:25,460 — logger — ERROR — Requested 35000 combinations, but only 1711 are possible.\n",
      "NoneType: None\n",
      "2023-09-11 00:18:25,461 — logger — INFO — Dropped 0 duplcates.\n",
      "12 {'Alkinoos': 0, 'Jakub': 1, 'Zuzia Babol': 2, 'Jula': 3, 'Kacper ZF': 4, 'Mateusz': 5, 'ZF Andrzej': 6, 'Agata': 7, 'Babol': 8, 'Nata': 9, 'Bartek': 10, 'Cezary Babol': 11, 'Mieszko': 12, 'Miki': 13, 'Zuz': 14, 'Lilou': 15, 'Bartek ZF': 16, 'Kamil ZF': 17}\n",
      "2023-09-11 00:18:25,589 — logger — ERROR — Requested 35000 combinations, but only 820 are possible.\n",
      "NoneType: None\n",
      "2023-09-11 00:18:25,590 — logger — INFO — Dropped 0 duplcates.\n",
      "1 {'Alkinoos': 0, 'Jakub': 1, 'Zuzia Babol': 2, 'Jula': 3, 'Kacper ZF': 4, 'Mateusz': 5, 'ZF Andrzej': 6, 'Agata': 7, 'Babol': 8, 'Nata': 9, 'Bartek': 10, 'Cezary Babol': 11, 'Mieszko': 12, 'Miki': 13, 'Zuz': 14, 'Lilou': 15, 'Bartek ZF': 16, 'Kamil ZF': 17}\n",
      "2023-09-11 00:18:25,659 — logger — ERROR — Requested 35000 combinations, but only 2145 are possible.\n",
      "NoneType: None\n",
      "2023-09-11 00:18:25,659 — logger — INFO — Dropped 0 duplcates.\n",
      "15 {'Alkinoos': 0, 'Jakub': 1, 'Zuzia Babol': 2, 'Jula': 3, 'Kacper ZF': 4, 'Mateusz': 5, 'ZF Andrzej': 6, 'Agata': 7, 'Babol': 8, 'Nata': 9, 'Bartek': 10, 'Cezary Babol': 11, 'Mieszko': 12, 'Miki': 13, 'Zuz': 14, 'Lilou': 15, 'Bartek ZF': 16, 'Kamil ZF': 17}\n",
      "2023-09-11 00:18:25,802 — logger — ERROR — Requested 35000 combinations, but only 465 are possible.\n",
      "NoneType: None\n",
      "2023-09-11 00:18:25,803 — logger — INFO — Dropped 0 duplcates.\n",
      "14 {'Alkinoos': 0, 'Jakub': 1, 'Zuzia Babol': 2, 'Jula': 3, 'Kacper ZF': 4, 'Mateusz': 5, 'ZF Andrzej': 6, 'Agata': 7, 'Babol': 8, 'Nata': 9, 'Bartek': 10, 'Cezary Babol': 11, 'Mieszko': 12, 'Miki': 13, 'Zuz': 14, 'Lilou': 15, 'Bartek ZF': 16, 'Kamil ZF': 17}\n",
      "2023-09-11 00:18:25,834 — logger — ERROR — Requested 35000 combinations, but only 435 are possible.\n",
      "NoneType: None\n",
      "2023-09-11 00:18:25,834 — logger — INFO — Dropped 0 duplcates.\n",
      "5 {'Alkinoos': 0, 'Jakub': 1, 'Zuzia Babol': 2, 'Jula': 3, 'Kacper ZF': 4, 'Mateusz': 5, 'ZF Andrzej': 6, 'Agata': 7, 'Babol': 8, 'Nata': 9, 'Bartek': 10, 'Cezary Babol': 11, 'Mieszko': 12, 'Miki': 13, 'Zuz': 14, 'Lilou': 15, 'Bartek ZF': 16, 'Kamil ZF': 17}\n",
      "2023-09-11 00:18:25,867 — logger — ERROR — Requested 35000 combinations, but only 3741 are possible.\n",
      "NoneType: None\n",
      "2023-09-11 00:18:25,870 — logger — INFO — Dropped 0 duplcates.\n",
      "17 {'Alkinoos': 0, 'Jakub': 1, 'Zuzia Babol': 2, 'Jula': 3, 'Kacper ZF': 4, 'Mateusz': 5, 'ZF Andrzej': 6, 'Agata': 7, 'Babol': 8, 'Nata': 9, 'Bartek': 10, 'Cezary Babol': 11, 'Mieszko': 12, 'Miki': 13, 'Zuz': 14, 'Lilou': 15, 'Bartek ZF': 16, 'Kamil ZF': 17}\n",
      "2023-09-11 00:18:26,141 — logger — ERROR — Requested 35000 combinations, but only 325 are possible.\n",
      "NoneType: None\n",
      "2023-09-11 00:18:26,142 — logger — INFO — Dropped 0 duplcates.\n",
      "10 {'Alkinoos': 0, 'Jakub': 1, 'Zuzia Babol': 2, 'Jula': 3, 'Kacper ZF': 4, 'Mateusz': 5, 'ZF Andrzej': 6, 'Agata': 7, 'Babol': 8, 'Nata': 9, 'Bartek': 10, 'Cezary Babol': 11, 'Mieszko': 12, 'Miki': 13, 'Zuz': 14, 'Lilou': 15, 'Bartek ZF': 16, 'Kamil ZF': 17}\n",
      "2023-09-11 00:18:26,169 — logger — ERROR — Requested 35000 combinations, but only 465 are possible.\n",
      "NoneType: None\n",
      "2023-09-11 00:18:26,170 — logger — INFO — Dropped 0 duplcates.\n",
      "13 {'Alkinoos': 0, 'Jakub': 1, 'Zuzia Babol': 2, 'Jula': 3, 'Kacper ZF': 4, 'Mateusz': 5, 'ZF Andrzej': 6, 'Agata': 7, 'Babol': 8, 'Nata': 9, 'Bartek': 10, 'Cezary Babol': 11, 'Mieszko': 12, 'Miki': 13, 'Zuz': 14, 'Lilou': 15, 'Bartek ZF': 16, 'Kamil ZF': 17}\n",
      "2023-09-11 00:18:26,210 — logger — ERROR — Requested 35000 combinations, but only 465 are possible.\n",
      "NoneType: None\n",
      "2023-09-11 00:18:26,211 — logger — INFO — Dropped 0 duplcates.\n",
      "9 {'Alkinoos': 0, 'Jakub': 1, 'Zuzia Babol': 2, 'Jula': 3, 'Kacper ZF': 4, 'Mateusz': 5, 'ZF Andrzej': 6, 'Agata': 7, 'Babol': 8, 'Nata': 9, 'Bartek': 10, 'Cezary Babol': 11, 'Mieszko': 12, 'Miki': 13, 'Zuz': 14, 'Lilou': 15, 'Bartek ZF': 16, 'Kamil ZF': 17}\n",
      "2023-09-11 00:18:26,250 — logger — ERROR — Requested 35000 combinations, but only 861 are possible.\n",
      "NoneType: None\n",
      "2023-09-11 00:18:26,251 — logger — INFO — Dropped 0 duplcates.\n",
      "11 {'Alkinoos': 0, 'Jakub': 1, 'Zuzia Babol': 2, 'Jula': 3, 'Kacper ZF': 4, 'Mateusz': 5, 'ZF Andrzej': 6, 'Agata': 7, 'Babol': 8, 'Nata': 9, 'Bartek': 10, 'Cezary Babol': 11, 'Mieszko': 12, 'Miki': 13, 'Zuz': 14, 'Lilou': 15, 'Bartek ZF': 16, 'Kamil ZF': 17}\n",
      "2023-09-11 00:18:26,333 — logger — ERROR — Requested 35000 combinations, but only 105 are possible.\n",
      "NoneType: None\n",
      "2023-09-11 00:18:26,333 — logger — INFO — Dropped 0 duplcates.\n",
      "2023-09-11 00:18:26,342 — logger — INFO — Created 50833 n-grams (2824 per user)\n"
     ]
    }
   ],
   "source": [
    "X, y, X_test, y_test = create_dataset(n_gram_size=N_GRAM_SIZE, number_of_features=NUMBER_OF_FEATURES, test_ratio=0.5, if_separate_words=True, scaler=Normalizer())\n",
    "X_test, X_valid, y_test, y_valid = train_test_split(X_test, y_test, test_size=0.2)"
   ],
   "metadata": {
    "collapsed": false,
    "ExecuteTime": {
     "end_time": "2023-09-10T22:18:26.397615761Z",
     "start_time": "2023-09-10T22:18:17.757462715Z"
    }
   },
   "id": "f70928737cc1e7ae"
  },
  {
   "cell_type": "code",
   "execution_count": 5,
   "outputs": [],
   "source": [
    "# class_weights = compute_class_weights(y)\n",
    "# train_ds = create_weighted_dataset(X, y, class_weights)"
   ],
   "metadata": {
    "collapsed": false,
    "ExecuteTime": {
     "end_time": "2023-09-10T22:18:26.397824191Z",
     "start_time": "2023-09-10T22:18:26.352760634Z"
    }
   },
   "id": "dcc190301ef604a9"
  },
  {
   "cell_type": "markdown",
   "source": [
    "### Create a tensorflow datasets"
   ],
   "metadata": {
    "collapsed": false
   },
   "id": "bef8bdbfe8c3acc"
  },
  {
   "cell_type": "code",
   "execution_count": 6,
   "outputs": [],
   "source": [
    "train_ds = tf.data.Dataset.from_tensor_slices((X, y)).batch(1000)\n",
    "test_ds = tf.data.Dataset.from_tensor_slices((X_test, y_test)).batch(1000)\n",
    "valid_ds = tf.data.Dataset.from_tensor_slices((X_valid, y_valid)).batch(1000)"
   ],
   "metadata": {
    "collapsed": false,
    "ExecuteTime": {
     "end_time": "2023-09-10T22:18:26.397981308Z",
     "start_time": "2023-09-10T22:18:26.397529580Z"
    }
   },
   "id": "222b7d0bc8e947c3"
  },
  {
   "cell_type": "markdown",
   "source": [
    "## Define a tuner"
   ],
   "metadata": {
    "collapsed": false
   },
   "id": "2bd413efb2962add"
  },
  {
   "cell_type": "code",
   "execution_count": 7,
   "outputs": [
    {
     "name": "stdout",
     "output_type": "stream",
     "text": [
      "Resolve hyper-parameter template \"benchmark_rank1\" to \"benchmark_rank1@v1\" -> {'growing_strategy': 'BEST_FIRST_GLOBAL', 'categorical_algorithm': 'RANDOM', 'split_axis': 'SPARSE_OBLIQUE', 'sparse_oblique_normalization': 'MIN_MAX', 'sparse_oblique_num_projections_exponent': 1.0}.\n",
      "2023-09-11 00:18:26,400 — absl — INFO — Resolve hyper-parameter template \"benchmark_rank1\" to \"benchmark_rank1@v1\" -> {'growing_strategy': 'BEST_FIRST_GLOBAL', 'categorical_algorithm': 'RANDOM', 'split_axis': 'SPARSE_OBLIQUE', 'sparse_oblique_normalization': 'MIN_MAX', 'sparse_oblique_num_projections_exponent': 1.0}.\n",
      "Use /tmp/tmpq944y3oa as temporary training directory\n",
      "2023-09-11 00:18:26,412 — absl — INFO — Use /tmp/tmpq944y3oa as temporary training directory\n"
     ]
    },
    {
     "name": "stderr",
     "output_type": "stream",
     "text": [
      "[WARNING 23-09-11 00:18:26.4149 CEST gradient_boosted_trees.cc:1818] \"goss_alpha\" set but \"sampling_method\" not equal to \"GOSS\".\n",
      "[WARNING 23-09-11 00:18:26.4149 CEST gradient_boosted_trees.cc:1829] \"goss_beta\" set but \"sampling_method\" not equal to \"GOSS\".\n",
      "[WARNING 23-09-11 00:18:26.4150 CEST gradient_boosted_trees.cc:1843] \"selective_gradient_boosting_ratio\" set but \"sampling_method\" not equal to \"SELGB\".\n"
     ]
    }
   ],
   "source": [
    "tuner = tfdf.tuner.RandomSearch(num_trials=15)\n",
    "tuner.choice(\"min_examples\", [2, 5, 7, 10])\n",
    "tuner.choice(\"categorical_algorithm\", [\"CART\", \"RANDOM\"])\n",
    "global_search_space = tuner.choice(\"growing_strategy\", [\"BEST_FIRST_GLOBAL\"])\n",
    "global_search_space.choice(\"max_num_nodes\", [16, 32, 64, 128, 256])\n",
    "tuner.choice(\"use_hessian_gain\", [True, False])\n",
    "tuner.choice(\"shrinkage\", [0.02, 0.05, 0.10, 0.15])\n",
    "tuner.choice(\"num_candidate_attributes_ratio\", [0.2, 0.5, 0.9, 1.0])\n",
    "# model = tfdf.keras.GradientBoostedTreesModel(hyperparameter_template=\"benchmark_rank1\", task=tfdf.keras.Task.CLASSIFICATION, tuner=tuner, l2_regularization=0.01)"
   ],
   "metadata": {
    "collapsed": false,
    "ExecuteTime": {
     "end_time": "2023-09-10T22:18:26.442261189Z",
     "start_time": "2023-09-10T22:18:26.441532991Z"
    }
   },
   "id": "bc24715633aa6047"
  },
  {
   "cell_type": "code",
   "execution_count": 16,
   "outputs": [
    {
     "data": {
      "text/plain": "BalancedBaggingClassifier(estimator=DecisionTreeClassifier(), random_state=0)",
      "text/html": "<style>#sk-container-id-3 {color: black;}#sk-container-id-3 pre{padding: 0;}#sk-container-id-3 div.sk-toggleable {background-color: white;}#sk-container-id-3 label.sk-toggleable__label {cursor: pointer;display: block;width: 100%;margin-bottom: 0;padding: 0.3em;box-sizing: border-box;text-align: center;}#sk-container-id-3 label.sk-toggleable__label-arrow:before {content: \"▸\";float: left;margin-right: 0.25em;color: #696969;}#sk-container-id-3 label.sk-toggleable__label-arrow:hover:before {color: black;}#sk-container-id-3 div.sk-estimator:hover label.sk-toggleable__label-arrow:before {color: black;}#sk-container-id-3 div.sk-toggleable__content {max-height: 0;max-width: 0;overflow: hidden;text-align: left;background-color: #f0f8ff;}#sk-container-id-3 div.sk-toggleable__content pre {margin: 0.2em;color: black;border-radius: 0.25em;background-color: #f0f8ff;}#sk-container-id-3 input.sk-toggleable__control:checked~div.sk-toggleable__content {max-height: 200px;max-width: 100%;overflow: auto;}#sk-container-id-3 input.sk-toggleable__control:checked~label.sk-toggleable__label-arrow:before {content: \"▾\";}#sk-container-id-3 div.sk-estimator input.sk-toggleable__control:checked~label.sk-toggleable__label {background-color: #d4ebff;}#sk-container-id-3 div.sk-label input.sk-toggleable__control:checked~label.sk-toggleable__label {background-color: #d4ebff;}#sk-container-id-3 input.sk-hidden--visually {border: 0;clip: rect(1px 1px 1px 1px);clip: rect(1px, 1px, 1px, 1px);height: 1px;margin: -1px;overflow: hidden;padding: 0;position: absolute;width: 1px;}#sk-container-id-3 div.sk-estimator {font-family: monospace;background-color: #f0f8ff;border: 1px dotted black;border-radius: 0.25em;box-sizing: border-box;margin-bottom: 0.5em;}#sk-container-id-3 div.sk-estimator:hover {background-color: #d4ebff;}#sk-container-id-3 div.sk-parallel-item::after {content: \"\";width: 100%;border-bottom: 1px solid gray;flex-grow: 1;}#sk-container-id-3 div.sk-label:hover label.sk-toggleable__label {background-color: #d4ebff;}#sk-container-id-3 div.sk-serial::before {content: \"\";position: absolute;border-left: 1px solid gray;box-sizing: border-box;top: 0;bottom: 0;left: 50%;z-index: 0;}#sk-container-id-3 div.sk-serial {display: flex;flex-direction: column;align-items: center;background-color: white;padding-right: 0.2em;padding-left: 0.2em;position: relative;}#sk-container-id-3 div.sk-item {position: relative;z-index: 1;}#sk-container-id-3 div.sk-parallel {display: flex;align-items: stretch;justify-content: center;background-color: white;position: relative;}#sk-container-id-3 div.sk-item::before, #sk-container-id-3 div.sk-parallel-item::before {content: \"\";position: absolute;border-left: 1px solid gray;box-sizing: border-box;top: 0;bottom: 0;left: 50%;z-index: -1;}#sk-container-id-3 div.sk-parallel-item {display: flex;flex-direction: column;z-index: 1;position: relative;background-color: white;}#sk-container-id-3 div.sk-parallel-item:first-child::after {align-self: flex-end;width: 50%;}#sk-container-id-3 div.sk-parallel-item:last-child::after {align-self: flex-start;width: 50%;}#sk-container-id-3 div.sk-parallel-item:only-child::after {width: 0;}#sk-container-id-3 div.sk-dashed-wrapped {border: 1px dashed gray;margin: 0 0.4em 0.5em 0.4em;box-sizing: border-box;padding-bottom: 0.4em;background-color: white;}#sk-container-id-3 div.sk-label label {font-family: monospace;font-weight: bold;display: inline-block;line-height: 1.2em;}#sk-container-id-3 div.sk-label-container {text-align: center;}#sk-container-id-3 div.sk-container {/* jupyter's `normalize.less` sets `[hidden] { display: none; }` but bootstrap.min.css set `[hidden] { display: none !important; }` so we also need the `!important` here to be able to override the default hidden behavior on the sphinx rendered scikit-learn.org. See: https://github.com/scikit-learn/scikit-learn/issues/21755 */display: inline-block !important;position: relative;}#sk-container-id-3 div.sk-text-repr-fallback {display: none;}</style><div id=\"sk-container-id-3\" class=\"sk-top-container\"><div class=\"sk-text-repr-fallback\"><pre>BalancedBaggingClassifier(estimator=DecisionTreeClassifier(), random_state=0)</pre><b>In a Jupyter environment, please rerun this cell to show the HTML representation or trust the notebook. <br />On GitHub, the HTML representation is unable to render, please try loading this page with nbviewer.org.</b></div><div class=\"sk-container\" hidden><div class=\"sk-item sk-dashed-wrapped\"><div class=\"sk-label-container\"><div class=\"sk-label sk-toggleable\"><input class=\"sk-toggleable__control sk-hidden--visually\" id=\"sk-estimator-id-3\" type=\"checkbox\" ><label for=\"sk-estimator-id-3\" class=\"sk-toggleable__label sk-toggleable__label-arrow\">BalancedBaggingClassifier</label><div class=\"sk-toggleable__content\"><pre>BalancedBaggingClassifier(estimator=DecisionTreeClassifier(), random_state=0)</pre></div></div></div><div class=\"sk-parallel\"><div class=\"sk-parallel-item\"><div class=\"sk-item\"><div class=\"sk-label-container\"><div class=\"sk-label sk-toggleable\"><input class=\"sk-toggleable__control sk-hidden--visually\" id=\"sk-estimator-id-4\" type=\"checkbox\" ><label for=\"sk-estimator-id-4\" class=\"sk-toggleable__label sk-toggleable__label-arrow\">estimator: DecisionTreeClassifier</label><div class=\"sk-toggleable__content\"><pre>DecisionTreeClassifier()</pre></div></div></div><div class=\"sk-serial\"><div class=\"sk-item\"><div class=\"sk-estimator sk-toggleable\"><input class=\"sk-toggleable__control sk-hidden--visually\" id=\"sk-estimator-id-5\" type=\"checkbox\" ><label for=\"sk-estimator-id-5\" class=\"sk-toggleable__label sk-toggleable__label-arrow\">DecisionTreeClassifier</label><div class=\"sk-toggleable__content\"><pre>DecisionTreeClassifier()</pre></div></div></div></div></div></div></div></div></div></div>"
     },
     "execution_count": 16,
     "metadata": {},
     "output_type": "execute_result"
    }
   ],
   "source": [
    "from sklearn.tree import DecisionTreeClassifier\n",
    "from imblearn.ensemble import BalancedRandomForestClassifier, BalancedBaggingClassifier\n",
    "\n",
    "\"\"\"\n",
    "model = tfdf.keras.GradientBoostedTreesModel(\n",
    "    hyperparameter_template=\"benchmark_rank1\",\n",
    "    task=tfdf.keras.Task.CLASSIFICATION,\n",
    "    tuner=tuner,\n",
    "    l2_regularization=0.01)\n",
    "\n",
    "model.compile(metrics=[tf.keras.metrics.AUC(name='auc')])\n",
    "model.fit(train_ds, validation_data=valid_ds)\n",
    "\"\"\"\n",
    "\n",
    "model = BalancedBaggingClassifier(estimator=DecisionTreeClassifier(),\n",
    "                                    sampling_strategy='auto',\n",
    "                                    replacement=False,\n",
    "                                    random_state=0)\n",
    "# model = BalancedRandomForestClassifier(n_estimators=100, random_state=0)\n",
    "model.fit(X, y)"
   ],
   "metadata": {
    "collapsed": false,
    "ExecuteTime": {
     "end_time": "2023-09-10T22:22:28.222872256Z",
     "start_time": "2023-09-10T22:22:27.689513821Z"
    }
   },
   "id": "cc1b5ed50e82f816"
  },
  {
   "cell_type": "markdown",
   "source": [
    "## Define a classifier"
   ],
   "metadata": {
    "collapsed": false
   },
   "id": "b17c0fcbc348f93b"
  },
  {
   "cell_type": "markdown",
   "source": [
    "## Run cross-validation"
   ],
   "metadata": {
    "collapsed": false
   },
   "id": "3bf4abdd1d1d2416"
  },
  {
   "cell_type": "code",
   "execution_count": 17,
   "outputs": [
    {
     "data": {
      "text/plain": "array([0.28844735, 0.40835096, 0.48684405, 0.55402548, 0.61798554,\n       0.66453548, 0.69965081, 0.72965131, 0.748709  , 0.76788964,\n       0.78638174, 0.81739045, 0.85980918, 0.91976098, 0.95563862,\n       0.97454876, 0.98913097, 1.        ])"
     },
     "execution_count": 17,
     "metadata": {},
     "output_type": "execute_result"
    }
   ],
   "source": [
    "y_pred = model.predict_proba(X_test)\n",
    "cmc = calculate_cmc(y_test, y_pred)\n",
    "cmc"
   ],
   "metadata": {
    "collapsed": false,
    "ExecuteTime": {
     "end_time": "2023-09-10T22:22:36.269881427Z",
     "start_time": "2023-09-10T22:22:36.129899461Z"
    }
   },
   "id": "f915428011a85857"
  },
  {
   "cell_type": "code",
   "execution_count": 9,
   "outputs": [
    {
     "ename": "TypeError",
     "evalue": "AdaBoostClassifier.predict() got an unexpected keyword argument 'use_multiprocessing'",
     "output_type": "error",
     "traceback": [
      "\u001B[0;31m---------------------------------------------------------------------------\u001B[0m",
      "\u001B[0;31mTypeError\u001B[0m                                 Traceback (most recent call last)",
      "Cell \u001B[0;32mIn[9], line 1\u001B[0m\n\u001B[0;32m----> 1\u001B[0m y_pred \u001B[38;5;241m=\u001B[39m \u001B[43mmodel\u001B[49m\u001B[38;5;241;43m.\u001B[39;49m\u001B[43mpredict\u001B[49m\u001B[43m(\u001B[49m\u001B[43mtest_ds\u001B[49m\u001B[43m,\u001B[49m\u001B[43m \u001B[49m\u001B[43muse_multiprocessing\u001B[49m\u001B[38;5;241;43m=\u001B[39;49m\u001B[38;5;28;43;01mTrue\u001B[39;49;00m\u001B[43m)\u001B[49m\n\u001B[1;32m      2\u001B[0m cmc \u001B[38;5;241m=\u001B[39m calculate_cmc(y_test, y_pred)\n\u001B[1;32m      3\u001B[0m cmc\n",
      "\u001B[0;31mTypeError\u001B[0m: AdaBoostClassifier.predict() got an unexpected keyword argument 'use_multiprocessing'"
     ]
    }
   ],
   "source": [
    "y_pred = model.predict(test_ds, use_multiprocessing=True)\n",
    "cmc = calculate_cmc(y_test, y_pred)\n",
    "cmc"
   ],
   "metadata": {
    "collapsed": false,
    "ExecuteTime": {
     "end_time": "2023-09-10T22:18:33.845492354Z",
     "start_time": "2023-09-10T22:18:33.071401002Z"
    }
   },
   "id": "fe9bbe60004af709"
  },
  {
   "cell_type": "code",
   "execution_count": 15,
   "outputs": [
    {
     "data": {
      "text/plain": "<Figure size 1000x600 with 1 Axes>",
      "image/png": "[encoded data removed]"
     },
     "metadata": {},
     "output_type": "display_data"
    }
   ],
   "source": [
    "plot_cmc(cmc, f\"CMC curve {N_GRAM_SIZE}-gram with {NUMBER_OF_FEATURES} features\", f'plots/{N_GRAM_SIZE}_{NUMBER_OF_FEATURES}_boosting_cmc.png')"
   ],
   "metadata": {
    "collapsed": false,
    "ExecuteTime": {
     "end_time": "2023-09-10T22:21:50.855355987Z",
     "start_time": "2023-09-10T22:21:50.385148688Z"
    }
   },
   "id": "e4bcf333cba90bc4"
  },
  {
   "cell_type": "code",
   "execution_count": null,
   "outputs": [],
   "source": [
    "import numpy as np\n",
    "import seaborn as sns\n",
    "cm = confusion_matrix(y_test, np.argmax(y_pred, axis=1))\n",
    "class_names = np.unique(y_test)"
   ],
   "metadata": {
    "collapsed": false,
    "ExecuteTime": {
     "start_time": "2023-09-10T22:18:33.782116493Z"
    }
   },
   "id": "f645fb5e2889d693"
  },
  {
   "cell_type": "code",
   "execution_count": null,
   "outputs": [],
   "source": [
    "plt.figure(figsize=(18, 16))\n",
    "sns.heatmap(cm, annot=True, fmt='g', cmap='RdYlGn', xticklabels=class_names, yticklabels=class_names)\n",
    "plt.xlabel('Predicted labels')\n",
    "plt.ylabel('True labels')\n",
    "plt.title('Confusion Matrix')\n",
    "plt.show()"
   ],
   "metadata": {
    "collapsed": false,
    "ExecuteTime": {
     "start_time": "2023-09-10T22:18:33.782321365Z"
    }
   },
   "id": "26e52e10beacbc38"
  },
  {
   "cell_type": "code",
   "execution_count": null,
   "outputs": [],
   "source": [
    "plot_cmc(cmc, f\"CMC curve {N_GRAM_SIZE}-gram with {NUMBER_OF_FEATURES} features\", f'plots/{N_GRAM_SIZE}_{NUMBER_OF_FEATURES}_boosting_cmc.png')"
   ],
   "metadata": {
    "collapsed": false,
    "ExecuteTime": {
     "start_time": "2023-09-10T22:18:33.782492330Z"
    }
   },
   "id": "fea7b1854d5c1bc9"
  },
  {
   "cell_type": "code",
   "execution_count": null,
   "outputs": [],
   "source": [
    "template_model =  tfdf.keras.GradientBoostedTreesModel(hyperparameter_template=\"benchmark_rank1\", task=tfdf.keras.Task.CLASSIFICATION)\n",
    "template_model.fit(train_ds)"
   ],
   "metadata": {
    "collapsed": false,
    "ExecuteTime": {
     "start_time": "2023-09-10T22:18:33.782727324Z"
    }
   },
   "id": "23ce775770841993"
  },
  {
   "cell_type": "code",
   "execution_count": null,
   "outputs": [],
   "source": [
    "template_model.compile(metrics=[\"accuracy\"])\n",
    "y_pred = template_model.predict(test_ds, use_multiprocessing=True, workers=5)\n",
    "evaluation = template_model.evaluate(test_ds)"
   ],
   "metadata": {
    "collapsed": false,
    "ExecuteTime": {
     "start_time": "2023-09-10T22:18:33.782946230Z"
    }
   },
   "id": "cee2125b52ae9bc7"
  },
  {
   "cell_type": "code",
   "execution_count": null,
   "id": "initial_id",
   "metadata": {
    "collapsed": true,
    "ExecuteTime": {
     "start_time": "2023-09-10T22:18:33.783166717Z"
    }
   },
   "outputs": [],
   "source": [
    "\n"
   ]
  },
  {
   "cell_type": "code",
   "execution_count": null,
   "outputs": [],
   "source": [
    "tuner.search(train_ds, validation_data=val_ds)\n",
    "\n",
    "# Get the optimal hyperparameters\n",
    "best_hyperparameters = tuner.get_best_hyperparameters(num_trials=1)[0]\n",
    "\n",
    "# Train the best model on combined training and validation data\n",
    "best_model = tuner.hypermodel.build(best_hyperparameters)\n",
    "combined_data = train_ds.concatenate(val_ds)\n",
    "best_model.fit(combined_data)\n",
    "\n",
    "# Predict on the test set\n",
    "y_pred = best_model.predict(test_ds)\n",
    "print(y_pred)"
   ],
   "metadata": {
    "collapsed": false,
    "ExecuteTime": {
     "start_time": "2023-09-10T22:18:33.783396570Z"
    }
   },
   "id": "ccf8a5a8d0fa71b2"
  }
 ],
 "metadata": {
  "kernelspec": {
   "display_name": "Python 3",
   "language": "python",
   "name": "python3"
  },
  "language_info": {
   "codemirror_mode": {
    "name": "ipython",
    "version": 2
   },
   "file_extension": ".py",
   "mimetype": "text/x-python",
   "name": "python",
   "nbconvert_exporter": "python",
   "pygments_lexer": "ipython2",
   "version": "2.7.6"
  }
 },
 "nbformat": 4,
 "nbformat_minor": 5
}
