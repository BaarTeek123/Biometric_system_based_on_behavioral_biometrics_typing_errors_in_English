{
 "cells": [
  {
   "cell_type": "markdown",
   "source": [
    "# Identifiation system basing on behavioral biometrics: typing errors"
   ],
   "metadata": {
    "collapsed": false
   },
   "id": "8f7acca7057d1d69"
  },
  {
   "cell_type": "markdown",
   "source": [
    "## Configuration\n",
    "### Load dependencies"
   ],
   "metadata": {
    "collapsed": false
   },
   "id": "2d7b88068cb16144"
  },
  {
   "cell_type": "code",
   "execution_count": 1,
   "outputs": [
    {
     "name": "stderr",
     "output_type": "stream",
     "text": [
      "2023-09-05 01:26:20.981505: I tensorflow/tsl/cuda/cudart_stub.cc:28] Could not find cuda drivers on your machine, GPU will not be used.\n",
      "2023-09-05 01:26:21.031019: I tensorflow/tsl/cuda/cudart_stub.cc:28] Could not find cuda drivers on your machine, GPU will not be used.\n",
      "2023-09-05 01:26:21.031828: I tensorflow/core/platform/cpu_feature_guard.cc:182] This TensorFlow binary is optimized to use available CPU instructions in performance-critical operations.\n",
      "To enable the following instructions: AVX2 FMA, in other operations, rebuild TensorFlow with the appropriate compiler flags.\n",
      "2023-09-05 01:26:21.856792: W tensorflow/compiler/tf2tensorrt/utils/py_utils.cc:38] TF-TRT Warning: Could not find TensorRT\n"
     ]
    },
    {
     "name": "stdout",
     "output_type": "stream",
     "text": [
      "[]\n"
     ]
    }
   ],
   "source": [
    "import pandas as pd\n",
    "import tensorflow_decision_forests as tfdf\n",
    "from create_model import create_dataset\n",
    "import tensorflow as tf\n",
    "import keras\n",
    "from sklearn.ensemble import RandomForestClassifier, GradientBoostingClassifier\n",
    "from sklearn.neighbors import KNeighborsClassifier\n",
    "from sklearn.preprocessing import Normalizer, StandardScaler\n",
    "from classifiers import build_tuned_nn, build_tuned_rfc, param_grid\n",
    "from sklearn.neural_network import MLPClassifier\n",
    "from os import path, makedirs\n",
    "from create_model import create_dataset, NUMBER_OF_FEATURES, N_GRAM_SIZE\n",
    "from sklearn.svm import SVC\n",
    "from cv import run_cv_neural_network, run_cv\n",
    "from cv import calculate_cmc, plot_cmc\n",
    "from sklearn.model_selection import train_test_split\n",
    "from ml_utils import compute_class_weights, create_weighted_dataset\n",
    "import matplotlib.pyplot as plt"
   ],
   "metadata": {
    "collapsed": false,
    "ExecuteTime": {
     "end_time": "2023-09-04T23:26:22.757056410Z",
     "start_time": "2023-09-04T23:26:20.616084803Z"
    }
   },
   "id": "2bff3a306b424421"
  },
  {
   "cell_type": "markdown",
   "source": [
    "### Configure GPUs"
   ],
   "metadata": {
    "collapsed": false
   },
   "id": "4e7a2e1ff51ee18"
  },
  {
   "cell_type": "code",
   "execution_count": 2,
   "outputs": [],
   "source": [
    "gpus = tf.config.experimental.list_physical_devices('GPU')\n",
    "for gpu in gpus:\n",
    "    tf.config.experimental.set_memory_growth(gpu, True)\n",
    "    print(gpu)"
   ],
   "metadata": {
    "collapsed": false,
    "ExecuteTime": {
     "end_time": "2023-09-04T23:26:22.778130959Z",
     "start_time": "2023-09-04T23:26:22.759145050Z"
    }
   },
   "id": "8a4cd24138418fdf"
  },
  {
   "cell_type": "markdown",
   "source": [
    "## Define constants"
   ],
   "metadata": {
    "collapsed": false
   },
   "id": "7f7119a146335e15"
  },
  {
   "cell_type": "code",
   "execution_count": 3,
   "outputs": [],
   "source": [
    "N_GRAM_SIZE = 2\n",
    "NUMBER_OF_FEATURES=5"
   ],
   "metadata": {
    "collapsed": false,
    "ExecuteTime": {
     "end_time": "2023-09-04T23:26:22.778327654Z",
     "start_time": "2023-09-04T23:26:22.763094934Z"
    }
   },
   "id": "b554402aad062532"
  },
  {
   "cell_type": "markdown",
   "source": [
    "## Load dataset"
   ],
   "metadata": {
    "collapsed": false
   },
   "id": "c3f54c125b4d044c"
  },
  {
   "cell_type": "code",
   "execution_count": 4,
   "outputs": [
    {
     "name": "stdout",
     "output_type": "stream",
     "text": [
      "Alkinoos.json\n",
      "Alkinoos.json\n",
      "u_5.json\n",
      "u_5.json\n",
      "Zuzia Babol.json\n",
      "Zuzia Babol.json\n",
      "u_4.json\n",
      "u_4.json\n",
      "Kacper ZF.json\n",
      "Kacper ZF.json\n",
      "Mateusz.json\n",
      "Mateusz.json\n",
      "ZF Andrzej.json\n",
      "ZF Andrzej.json\n",
      "Agata.json\n",
      "Agata.json\n",
      "u_1.json\n",
      "u_1.json\n",
      "u_7.json\n",
      "u_7.json\n",
      "u_2.json\n",
      "u_2.json\n",
      "Cezary Babol.json\n",
      "Cezary Babol.json\n",
      "u_3.json\n",
      "u_3.json\n",
      "u_6.json\n",
      "u_6.json\n",
      "u_8.json\n",
      "u_8.json\n",
      "Lilou.json\n",
      "Lilou.json\n",
      "Bartek ZF.json\n",
      "Bartek ZF.json\n",
      "ZF Kamil.json\n",
      "ZF Kamil.json\n",
      "8 {'Alkinoos': 0, 'Jakub': 1, 'Zuzia Babol': 2, 'Jula': 3, 'Kacper ZF': 4, 'Mateusz': 5, 'ZF Andrzej': 6, 'Agata': 7, 'Babol': 8, 'Nata': 9, 'Bartek': 10, 'Cezary Babol': 11, 'Mieszko': 12, 'Miki': 13, 'Zuz': 14, 'Lilou': 15, 'Bartek ZF': 16, 'Kamil ZF': 17}\n",
      "2023-09-05 01:26:24,135 — logger — ERROR — Requested 35000 combinations, but only 2080 are possible.\n",
      "NoneType: None\n",
      "2023-09-05 01:26:24,136 — logger — INFO — Dropped 0 duplcates.\n",
      "4 {'Alkinoos': 0, 'Jakub': 1, 'Zuzia Babol': 2, 'Jula': 3, 'Kacper ZF': 4, 'Mateusz': 5, 'ZF Andrzej': 6, 'Agata': 7, 'Babol': 8, 'Nata': 9, 'Bartek': 10, 'Cezary Babol': 11, 'Mieszko': 12, 'Miki': 13, 'Zuz': 14, 'Lilou': 15, 'Bartek ZF': 16, 'Kamil ZF': 17}\n",
      "2023-09-05 01:26:24,277 — logger — ERROR — Requested 35000 combinations, but only 5886 are possible.\n",
      "NoneType: None\n",
      "2023-09-05 01:26:24,278 — logger — INFO — Dropped 0 duplcates.\n",
      "5 {'Alkinoos': 0, 'Jakub': 1, 'Zuzia Babol': 2, 'Jula': 3, 'Kacper ZF': 4, 'Mateusz': 5, 'ZF Andrzej': 6, 'Agata': 7, 'Babol': 8, 'Nata': 9, 'Bartek': 10, 'Cezary Babol': 11, 'Mieszko': 12, 'Miki': 13, 'Zuz': 14, 'Lilou': 15, 'Bartek ZF': 16, 'Kamil ZF': 17}\n",
      "2023-09-05 01:26:24,636 — logger — ERROR — Requested 35000 combinations, but only 3081 are possible.\n",
      "NoneType: None\n",
      "2023-09-05 01:26:24,637 — logger — INFO — Dropped 0 duplcates.\n",
      "17 {'Alkinoos': 0, 'Jakub': 1, 'Zuzia Babol': 2, 'Jula': 3, 'Kacper ZF': 4, 'Mateusz': 5, 'ZF Andrzej': 6, 'Agata': 7, 'Babol': 8, 'Nata': 9, 'Bartek': 10, 'Cezary Babol': 11, 'Mieszko': 12, 'Miki': 13, 'Zuz': 14, 'Lilou': 15, 'Bartek ZF': 16, 'Kamil ZF': 17}\n",
      "2023-09-05 01:26:24,835 — logger — ERROR — Requested 35000 combinations, but only 300 are possible.\n",
      "NoneType: None\n",
      "2023-09-05 01:26:24,835 — logger — INFO — Dropped 0 duplcates.\n",
      "6 {'Alkinoos': 0, 'Jakub': 1, 'Zuzia Babol': 2, 'Jula': 3, 'Kacper ZF': 4, 'Mateusz': 5, 'ZF Andrzej': 6, 'Agata': 7, 'Babol': 8, 'Nata': 9, 'Bartek': 10, 'Cezary Babol': 11, 'Mieszko': 12, 'Miki': 13, 'Zuz': 14, 'Lilou': 15, 'Bartek ZF': 16, 'Kamil ZF': 17}\n",
      "2023-09-05 01:26:24,861 — logger — ERROR — Requested 35000 combinations, but only 9316 are possible.\n",
      "NoneType: None\n",
      "2023-09-05 01:26:24,867 — logger — INFO — Dropped 0 duplcates.\n",
      "9 {'Alkinoos': 0, 'Jakub': 1, 'Zuzia Babol': 2, 'Jula': 3, 'Kacper ZF': 4, 'Mateusz': 5, 'ZF Andrzej': 6, 'Agata': 7, 'Babol': 8, 'Nata': 9, 'Bartek': 10, 'Cezary Babol': 11, 'Mieszko': 12, 'Miki': 13, 'Zuz': 14, 'Lilou': 15, 'Bartek ZF': 16, 'Kamil ZF': 17}\n",
      "2023-09-05 01:26:25,517 — logger — ERROR — Requested 35000 combinations, but only 903 are possible.\n",
      "NoneType: None\n",
      "2023-09-05 01:26:25,518 — logger — INFO — Dropped 0 duplcates.\n",
      "7 {'Alkinoos': 0, 'Jakub': 1, 'Zuzia Babol': 2, 'Jula': 3, 'Kacper ZF': 4, 'Mateusz': 5, 'ZF Andrzej': 6, 'Agata': 7, 'Babol': 8, 'Nata': 9, 'Bartek': 10, 'Cezary Babol': 11, 'Mieszko': 12, 'Miki': 13, 'Zuz': 14, 'Lilou': 15, 'Bartek ZF': 16, 'Kamil ZF': 17}\n",
      "2023-09-05 01:26:25,603 — logger — ERROR — Requested 35000 combinations, but only 3916 are possible.\n",
      "NoneType: None\n",
      "2023-09-05 01:26:25,605 — logger — INFO — Dropped 0 duplcates.\n",
      "0 {'Alkinoos': 0, 'Jakub': 1, 'Zuzia Babol': 2, 'Jula': 3, 'Kacper ZF': 4, 'Mateusz': 5, 'ZF Andrzej': 6, 'Agata': 7, 'Babol': 8, 'Nata': 9, 'Bartek': 10, 'Cezary Babol': 11, 'Mieszko': 12, 'Miki': 13, 'Zuz': 14, 'Lilou': 15, 'Bartek ZF': 16, 'Kamil ZF': 17}\n",
      "2023-09-05 01:26:25,887 — logger — ERROR — Requested 35000 combinations, but only 11325 are possible.\n",
      "NoneType: None\n",
      "2023-09-05 01:26:25,890 — logger — INFO — Dropped 0 duplcates.\n",
      "1 {'Alkinoos': 0, 'Jakub': 1, 'Zuzia Babol': 2, 'Jula': 3, 'Kacper ZF': 4, 'Mateusz': 5, 'ZF Andrzej': 6, 'Agata': 7, 'Babol': 8, 'Nata': 9, 'Bartek': 10, 'Cezary Babol': 11, 'Mieszko': 12, 'Miki': 13, 'Zuz': 14, 'Lilou': 15, 'Bartek ZF': 16, 'Kamil ZF': 17}\n",
      "2023-09-05 01:26:26,675 — logger — ERROR — Requested 35000 combinations, but only 990 are possible.\n",
      "NoneType: None\n",
      "2023-09-05 01:26:26,676 — logger — INFO — Dropped 0 duplcates.\n",
      "15 {'Alkinoos': 0, 'Jakub': 1, 'Zuzia Babol': 2, 'Jula': 3, 'Kacper ZF': 4, 'Mateusz': 5, 'ZF Andrzej': 6, 'Agata': 7, 'Babol': 8, 'Nata': 9, 'Bartek': 10, 'Cezary Babol': 11, 'Mieszko': 12, 'Miki': 13, 'Zuz': 14, 'Lilou': 15, 'Bartek ZF': 16, 'Kamil ZF': 17}\n",
      "2023-09-05 01:26:26,769 — logger — ERROR — Requested 35000 combinations, but only 406 are possible.\n",
      "NoneType: None\n",
      "2023-09-05 01:26:26,770 — logger — INFO — Dropped 0 duplcates.\n",
      "3 {'Alkinoos': 0, 'Jakub': 1, 'Zuzia Babol': 2, 'Jula': 3, 'Kacper ZF': 4, 'Mateusz': 5, 'ZF Andrzej': 6, 'Agata': 7, 'Babol': 8, 'Nata': 9, 'Bartek': 10, 'Cezary Babol': 11, 'Mieszko': 12, 'Miki': 13, 'Zuz': 14, 'Lilou': 15, 'Bartek ZF': 16, 'Kamil ZF': 17}\n",
      "2023-09-05 01:26:26,816 — logger — ERROR — Requested 35000 combinations, but only 11628 are possible.\n",
      "NoneType: None\n",
      "2023-09-05 01:26:26,823 — logger — INFO — Dropped 0 duplcates.\n",
      "12 {'Alkinoos': 0, 'Jakub': 1, 'Zuzia Babol': 2, 'Jula': 3, 'Kacper ZF': 4, 'Mateusz': 5, 'ZF Andrzej': 6, 'Agata': 7, 'Babol': 8, 'Nata': 9, 'Bartek': 10, 'Cezary Babol': 11, 'Mieszko': 12, 'Miki': 13, 'Zuz': 14, 'Lilou': 15, 'Bartek ZF': 16, 'Kamil ZF': 17}\n",
      "2023-09-05 01:26:28,078 — logger — ERROR — Requested 35000 combinations, but only 666 are possible.\n",
      "NoneType: None\n",
      "2023-09-05 01:26:28,079 — logger — INFO — Dropped 0 duplcates.\n",
      "16 {'Alkinoos': 0, 'Jakub': 1, 'Zuzia Babol': 2, 'Jula': 3, 'Kacper ZF': 4, 'Mateusz': 5, 'ZF Andrzej': 6, 'Agata': 7, 'Babol': 8, 'Nata': 9, 'Bartek': 10, 'Cezary Babol': 11, 'Mieszko': 12, 'Miki': 13, 'Zuz': 14, 'Lilou': 15, 'Bartek ZF': 16, 'Kamil ZF': 17}\n",
      "2023-09-05 01:26:28,135 — logger — ERROR — Requested 35000 combinations, but only 1326 are possible.\n",
      "NoneType: None\n",
      "2023-09-05 01:26:28,136 — logger — INFO — Dropped 0 duplcates.\n",
      "10 {'Alkinoos': 0, 'Jakub': 1, 'Zuzia Babol': 2, 'Jula': 3, 'Kacper ZF': 4, 'Mateusz': 5, 'ZF Andrzej': 6, 'Agata': 7, 'Babol': 8, 'Nata': 9, 'Bartek': 10, 'Cezary Babol': 11, 'Mieszko': 12, 'Miki': 13, 'Zuz': 14, 'Lilou': 15, 'Bartek ZF': 16, 'Kamil ZF': 17}\n",
      "2023-09-05 01:26:28,227 — logger — ERROR — Requested 35000 combinations, but only 435 are possible.\n",
      "NoneType: None\n",
      "2023-09-05 01:26:28,228 — logger — INFO — Dropped 0 duplcates.\n",
      "13 {'Alkinoos': 0, 'Jakub': 1, 'Zuzia Babol': 2, 'Jula': 3, 'Kacper ZF': 4, 'Mateusz': 5, 'ZF Andrzej': 6, 'Agata': 7, 'Babol': 8, 'Nata': 9, 'Bartek': 10, 'Cezary Babol': 11, 'Mieszko': 12, 'Miki': 13, 'Zuz': 14, 'Lilou': 15, 'Bartek ZF': 16, 'Kamil ZF': 17}\n",
      "2023-09-05 01:26:28,261 — logger — ERROR — Requested 35000 combinations, but only 276 are possible.\n",
      "NoneType: None\n",
      "2023-09-05 01:26:28,262 — logger — INFO — Dropped 0 duplcates.\n",
      "2 {'Alkinoos': 0, 'Jakub': 1, 'Zuzia Babol': 2, 'Jula': 3, 'Kacper ZF': 4, 'Mateusz': 5, 'ZF Andrzej': 6, 'Agata': 7, 'Babol': 8, 'Nata': 9, 'Bartek': 10, 'Cezary Babol': 11, 'Mieszko': 12, 'Miki': 13, 'Zuz': 14, 'Lilou': 15, 'Bartek ZF': 16, 'Kamil ZF': 17}\n",
      "2023-09-05 01:26:28,299 — logger — ERROR — Requested 35000 combinations, but only 253 are possible.\n",
      "NoneType: None\n",
      "2023-09-05 01:26:28,300 — logger — INFO — Dropped 0 duplcates.\n",
      "14 {'Alkinoos': 0, 'Jakub': 1, 'Zuzia Babol': 2, 'Jula': 3, 'Kacper ZF': 4, 'Mateusz': 5, 'ZF Andrzej': 6, 'Agata': 7, 'Babol': 8, 'Nata': 9, 'Bartek': 10, 'Cezary Babol': 11, 'Mieszko': 12, 'Miki': 13, 'Zuz': 14, 'Lilou': 15, 'Bartek ZF': 16, 'Kamil ZF': 17}\n",
      "2023-09-05 01:26:28,331 — logger — ERROR — Requested 35000 combinations, but only 435 are possible.\n",
      "NoneType: None\n",
      "2023-09-05 01:26:28,332 — logger — INFO — Dropped 0 duplcates.\n",
      "11 {'Alkinoos': 0, 'Jakub': 1, 'Zuzia Babol': 2, 'Jula': 3, 'Kacper ZF': 4, 'Mateusz': 5, 'ZF Andrzej': 6, 'Agata': 7, 'Babol': 8, 'Nata': 9, 'Bartek': 10, 'Cezary Babol': 11, 'Mieszko': 12, 'Miki': 13, 'Zuz': 14, 'Lilou': 15, 'Bartek ZF': 16, 'Kamil ZF': 17}\n",
      "2023-09-05 01:26:28,377 — logger — ERROR — Requested 35000 combinations, but only 105 are possible.\n",
      "NoneType: None\n",
      "2023-09-05 01:26:28,378 — logger — INFO — Dropped 0 duplcates.\n",
      "2023-09-05 01:26:28,392 — logger — INFO — Created 53327 n-grams (2962 per user)\n",
      "16 {'Alkinoos': 0, 'Jakub': 1, 'Zuzia Babol': 2, 'Jula': 3, 'Kacper ZF': 4, 'Mateusz': 5, 'ZF Andrzej': 6, 'Agata': 7, 'Babol': 8, 'Nata': 9, 'Bartek': 10, 'Cezary Babol': 11, 'Mieszko': 12, 'Miki': 13, 'Zuz': 14, 'Lilou': 15, 'Bartek ZF': 16, 'Kamil ZF': 17}\n",
      "2023-09-05 01:26:28,398 — logger — ERROR — Requested 35000 combinations, but only 990 are possible.\n",
      "NoneType: None\n",
      "2023-09-05 01:26:28,399 — logger — INFO — Dropped 0 duplcates.\n",
      "6 {'Alkinoos': 0, 'Jakub': 1, 'Zuzia Babol': 2, 'Jula': 3, 'Kacper ZF': 4, 'Mateusz': 5, 'ZF Andrzej': 6, 'Agata': 7, 'Babol': 8, 'Nata': 9, 'Bartek': 10, 'Cezary Babol': 11, 'Mieszko': 12, 'Miki': 13, 'Zuz': 14, 'Lilou': 15, 'Bartek ZF': 16, 'Kamil ZF': 17}\n",
      "2023-09-05 01:26:28,472 — logger — ERROR — Requested 35000 combinations, but only 10296 are possible.\n",
      "NoneType: None\n",
      "2023-09-05 01:26:28,474 — logger — INFO — Dropped 0 duplcates.\n",
      "4 {'Alkinoos': 0, 'Jakub': 1, 'Zuzia Babol': 2, 'Jula': 3, 'Kacper ZF': 4, 'Mateusz': 5, 'ZF Andrzej': 6, 'Agata': 7, 'Babol': 8, 'Nata': 9, 'Bartek': 10, 'Cezary Babol': 11, 'Mieszko': 12, 'Miki': 13, 'Zuz': 14, 'Lilou': 15, 'Bartek ZF': 16, 'Kamil ZF': 17}\n",
      "2023-09-05 01:26:29,193 — logger — ERROR — Requested 35000 combinations, but only 4560 are possible.\n",
      "NoneType: None\n",
      "2023-09-05 01:26:29,195 — logger — INFO — Dropped 0 duplcates.\n",
      "2 {'Alkinoos': 0, 'Jakub': 1, 'Zuzia Babol': 2, 'Jula': 3, 'Kacper ZF': 4, 'Mateusz': 5, 'ZF Andrzej': 6, 'Agata': 7, 'Babol': 8, 'Nata': 9, 'Bartek': 10, 'Cezary Babol': 11, 'Mieszko': 12, 'Miki': 13, 'Zuz': 14, 'Lilou': 15, 'Bartek ZF': 16, 'Kamil ZF': 17}\n",
      "2023-09-05 01:26:29,515 — logger — ERROR — Requested 35000 combinations, but only 528 are possible.\n",
      "NoneType: None\n",
      "2023-09-05 01:26:29,516 — logger — INFO — Dropped 0 duplcates.\n",
      "3 {'Alkinoos': 0, 'Jakub': 1, 'Zuzia Babol': 2, 'Jula': 3, 'Kacper ZF': 4, 'Mateusz': 5, 'ZF Andrzej': 6, 'Agata': 7, 'Babol': 8, 'Nata': 9, 'Bartek': 10, 'Cezary Babol': 11, 'Mieszko': 12, 'Miki': 13, 'Zuz': 14, 'Lilou': 15, 'Bartek ZF': 16, 'Kamil ZF': 17}\n",
      "2023-09-05 01:26:29,566 — logger — ERROR — Requested 35000 combinations, but only 11026 are possible.\n",
      "NoneType: None\n",
      "2023-09-05 01:26:29,570 — logger — INFO — Dropped 0 duplcates.\n",
      "0 {'Alkinoos': 0, 'Jakub': 1, 'Zuzia Babol': 2, 'Jula': 3, 'Kacper ZF': 4, 'Mateusz': 5, 'ZF Andrzej': 6, 'Agata': 7, 'Babol': 8, 'Nata': 9, 'Bartek': 10, 'Cezary Babol': 11, 'Mieszko': 12, 'Miki': 13, 'Zuz': 14, 'Lilou': 15, 'Bartek ZF': 16, 'Kamil ZF': 17}\n",
      "2023-09-05 01:26:30,285 — logger — ERROR — Requested 35000 combinations, but only 9045 are possible.\n",
      "NoneType: None\n",
      "2023-09-05 01:26:30,287 — logger — INFO — Dropped 0 duplcates.\n",
      "7 {'Alkinoos': 0, 'Jakub': 1, 'Zuzia Babol': 2, 'Jula': 3, 'Kacper ZF': 4, 'Mateusz': 5, 'ZF Andrzej': 6, 'Agata': 7, 'Babol': 8, 'Nata': 9, 'Bartek': 10, 'Cezary Babol': 11, 'Mieszko': 12, 'Miki': 13, 'Zuz': 14, 'Lilou': 15, 'Bartek ZF': 16, 'Kamil ZF': 17}\n",
      "2023-09-05 01:26:30,873 — logger — ERROR — Requested 35000 combinations, but only 2850 are possible.\n",
      "NoneType: None\n",
      "2023-09-05 01:26:30,874 — logger — INFO — Dropped 0 duplcates.\n",
      "8 {'Alkinoos': 0, 'Jakub': 1, 'Zuzia Babol': 2, 'Jula': 3, 'Kacper ZF': 4, 'Mateusz': 5, 'ZF Andrzej': 6, 'Agata': 7, 'Babol': 8, 'Nata': 9, 'Bartek': 10, 'Cezary Babol': 11, 'Mieszko': 12, 'Miki': 13, 'Zuz': 14, 'Lilou': 15, 'Bartek ZF': 16, 'Kamil ZF': 17}\n",
      "2023-09-05 01:26:31,063 — logger — ERROR — Requested 35000 combinations, but only 1711 are possible.\n",
      "NoneType: None\n",
      "2023-09-05 01:26:31,064 — logger — INFO — Dropped 0 duplcates.\n",
      "12 {'Alkinoos': 0, 'Jakub': 1, 'Zuzia Babol': 2, 'Jula': 3, 'Kacper ZF': 4, 'Mateusz': 5, 'ZF Andrzej': 6, 'Agata': 7, 'Babol': 8, 'Nata': 9, 'Bartek': 10, 'Cezary Babol': 11, 'Mieszko': 12, 'Miki': 13, 'Zuz': 14, 'Lilou': 15, 'Bartek ZF': 16, 'Kamil ZF': 17}\n",
      "2023-09-05 01:26:31,187 — logger — ERROR — Requested 35000 combinations, but only 820 are possible.\n",
      "NoneType: None\n",
      "2023-09-05 01:26:31,188 — logger — INFO — Dropped 0 duplcates.\n",
      "1 {'Alkinoos': 0, 'Jakub': 1, 'Zuzia Babol': 2, 'Jula': 3, 'Kacper ZF': 4, 'Mateusz': 5, 'ZF Andrzej': 6, 'Agata': 7, 'Babol': 8, 'Nata': 9, 'Bartek': 10, 'Cezary Babol': 11, 'Mieszko': 12, 'Miki': 13, 'Zuz': 14, 'Lilou': 15, 'Bartek ZF': 16, 'Kamil ZF': 17}\n",
      "2023-09-05 01:26:31,247 — logger — ERROR — Requested 35000 combinations, but only 2145 are possible.\n",
      "NoneType: None\n",
      "2023-09-05 01:26:31,247 — logger — INFO — Dropped 0 duplcates.\n",
      "15 {'Alkinoos': 0, 'Jakub': 1, 'Zuzia Babol': 2, 'Jula': 3, 'Kacper ZF': 4, 'Mateusz': 5, 'ZF Andrzej': 6, 'Agata': 7, 'Babol': 8, 'Nata': 9, 'Bartek': 10, 'Cezary Babol': 11, 'Mieszko': 12, 'Miki': 13, 'Zuz': 14, 'Lilou': 15, 'Bartek ZF': 16, 'Kamil ZF': 17}\n",
      "2023-09-05 01:26:31,384 — logger — ERROR — Requested 35000 combinations, but only 465 are possible.\n",
      "NoneType: None\n",
      "2023-09-05 01:26:31,385 — logger — INFO — Dropped 0 duplcates.\n",
      "14 {'Alkinoos': 0, 'Jakub': 1, 'Zuzia Babol': 2, 'Jula': 3, 'Kacper ZF': 4, 'Mateusz': 5, 'ZF Andrzej': 6, 'Agata': 7, 'Babol': 8, 'Nata': 9, 'Bartek': 10, 'Cezary Babol': 11, 'Mieszko': 12, 'Miki': 13, 'Zuz': 14, 'Lilou': 15, 'Bartek ZF': 16, 'Kamil ZF': 17}\n",
      "2023-09-05 01:26:31,436 — logger — ERROR — Requested 35000 combinations, but only 435 are possible.\n",
      "NoneType: None\n",
      "2023-09-05 01:26:31,436 — logger — INFO — Dropped 0 duplcates.\n",
      "5 {'Alkinoos': 0, 'Jakub': 1, 'Zuzia Babol': 2, 'Jula': 3, 'Kacper ZF': 4, 'Mateusz': 5, 'ZF Andrzej': 6, 'Agata': 7, 'Babol': 8, 'Nata': 9, 'Bartek': 10, 'Cezary Babol': 11, 'Mieszko': 12, 'Miki': 13, 'Zuz': 14, 'Lilou': 15, 'Bartek ZF': 16, 'Kamil ZF': 17}\n",
      "2023-09-05 01:26:31,467 — logger — ERROR — Requested 35000 combinations, but only 3741 are possible.\n",
      "NoneType: None\n",
      "2023-09-05 01:26:31,470 — logger — INFO — Dropped 0 duplcates.\n",
      "17 {'Alkinoos': 0, 'Jakub': 1, 'Zuzia Babol': 2, 'Jula': 3, 'Kacper ZF': 4, 'Mateusz': 5, 'ZF Andrzej': 6, 'Agata': 7, 'Babol': 8, 'Nata': 9, 'Bartek': 10, 'Cezary Babol': 11, 'Mieszko': 12, 'Miki': 13, 'Zuz': 14, 'Lilou': 15, 'Bartek ZF': 16, 'Kamil ZF': 17}\n",
      "2023-09-05 01:26:31,726 — logger — ERROR — Requested 35000 combinations, but only 325 are possible.\n",
      "NoneType: None\n",
      "2023-09-05 01:26:31,727 — logger — INFO — Dropped 0 duplcates.\n",
      "10 {'Alkinoos': 0, 'Jakub': 1, 'Zuzia Babol': 2, 'Jula': 3, 'Kacper ZF': 4, 'Mateusz': 5, 'ZF Andrzej': 6, 'Agata': 7, 'Babol': 8, 'Nata': 9, 'Bartek': 10, 'Cezary Babol': 11, 'Mieszko': 12, 'Miki': 13, 'Zuz': 14, 'Lilou': 15, 'Bartek ZF': 16, 'Kamil ZF': 17}\n",
      "2023-09-05 01:26:31,757 — logger — ERROR — Requested 35000 combinations, but only 465 are possible.\n",
      "NoneType: None\n",
      "2023-09-05 01:26:31,757 — logger — INFO — Dropped 0 duplcates.\n",
      "13 {'Alkinoos': 0, 'Jakub': 1, 'Zuzia Babol': 2, 'Jula': 3, 'Kacper ZF': 4, 'Mateusz': 5, 'ZF Andrzej': 6, 'Agata': 7, 'Babol': 8, 'Nata': 9, 'Bartek': 10, 'Cezary Babol': 11, 'Mieszko': 12, 'Miki': 13, 'Zuz': 14, 'Lilou': 15, 'Bartek ZF': 16, 'Kamil ZF': 17}\n",
      "2023-09-05 01:26:31,790 — logger — ERROR — Requested 35000 combinations, but only 465 are possible.\n",
      "NoneType: None\n",
      "2023-09-05 01:26:31,791 — logger — INFO — Dropped 0 duplcates.\n",
      "9 {'Alkinoos': 0, 'Jakub': 1, 'Zuzia Babol': 2, 'Jula': 3, 'Kacper ZF': 4, 'Mateusz': 5, 'ZF Andrzej': 6, 'Agata': 7, 'Babol': 8, 'Nata': 9, 'Bartek': 10, 'Cezary Babol': 11, 'Mieszko': 12, 'Miki': 13, 'Zuz': 14, 'Lilou': 15, 'Bartek ZF': 16, 'Kamil ZF': 17}\n",
      "2023-09-05 01:26:31,827 — logger — ERROR — Requested 35000 combinations, but only 861 are possible.\n",
      "NoneType: None\n",
      "2023-09-05 01:26:31,828 — logger — INFO — Dropped 0 duplcates.\n",
      "11 {'Alkinoos': 0, 'Jakub': 1, 'Zuzia Babol': 2, 'Jula': 3, 'Kacper ZF': 4, 'Mateusz': 5, 'ZF Andrzej': 6, 'Agata': 7, 'Babol': 8, 'Nata': 9, 'Bartek': 10, 'Cezary Babol': 11, 'Mieszko': 12, 'Miki': 13, 'Zuz': 14, 'Lilou': 15, 'Bartek ZF': 16, 'Kamil ZF': 17}\n",
      "2023-09-05 01:26:31,893 — logger — ERROR — Requested 35000 combinations, but only 105 are possible.\n",
      "NoneType: None\n",
      "2023-09-05 01:26:31,894 — logger — INFO — Dropped 0 duplcates.\n",
      "2023-09-05 01:26:31,904 — logger — INFO — Created 50833 n-grams (2824 per user)\n"
     ]
    }
   ],
   "source": [
    "X, y, X_test, y_test = create_dataset(n_gram_size=N_GRAM_SIZE, number_of_features=NUMBER_OF_FEATURES, test_ratio=0.5, if_separate_words=True, scaler=Normalizer())"
   ],
   "metadata": {
    "collapsed": false,
    "ExecuteTime": {
     "end_time": "2023-09-04T23:26:31.915528453Z",
     "start_time": "2023-09-04T23:26:22.766709202Z"
    }
   },
   "id": "f70928737cc1e7ae"
  },
  {
   "cell_type": "code",
   "execution_count": 5,
   "outputs": [],
   "source": [
    "class_weights = compute_class_weights(y)"
   ],
   "metadata": {
    "collapsed": false,
    "ExecuteTime": {
     "end_time": "2023-09-04T23:26:31.918652728Z",
     "start_time": "2023-09-04T23:26:31.913646972Z"
    }
   },
   "id": "dcc190301ef604a9"
  },
  {
   "cell_type": "markdown",
   "source": [
    "### Create a tensorflow datasets"
   ],
   "metadata": {
    "collapsed": false
   },
   "id": "bef8bdbfe8c3acc"
  },
  {
   "cell_type": "code",
   "execution_count": 6,
   "outputs": [],
   "source": [
    "# train_ds = create_weighted_dataset(X, y, class_weights)\n",
    "train_ds = tf.data.Dataset.from_tensor_slices((X, y)).batch(1000)\n",
    "\n",
    "test_ds = tf.data.Dataset.from_tensor_slices((X_test, y_test)).batch(1000)"
   ],
   "metadata": {
    "collapsed": false,
    "ExecuteTime": {
     "end_time": "2023-09-04T23:26:31.969651630Z",
     "start_time": "2023-09-04T23:26:31.960800440Z"
    }
   },
   "id": "222b7d0bc8e947c3"
  },
  {
   "cell_type": "markdown",
   "source": [
    "## Define a tuner"
   ],
   "metadata": {
    "collapsed": false
   },
   "id": "2bd413efb2962add"
  },
  {
   "cell_type": "code",
   "execution_count": 7,
   "outputs": [
    {
     "data": {
      "text/plain": "<tensorflow_decision_forests.component.tuner.tuner.SearchSpace at 0x7f635e9c8e50>"
     },
     "execution_count": 7,
     "metadata": {},
     "output_type": "execute_result"
    }
   ],
   "source": [
    "tuner = tfdf.tuner.RandomSearch(num_trials=15)\n",
    "tuner.choice(\"min_examples\", [2, 5, 7, 10])\n",
    "tuner.choice(\"categorical_algorithm\", [\"CART\", \"RANDOM\"])\n",
    "global_search_space = tuner.choice(\"growing_strategy\", [\"BEST_FIRST_GLOBAL\"])\n",
    "global_search_space.choice(\"max_num_nodes\", [16, 32, 64, 128, 256])\n",
    "tuner.choice(\"use_hessian_gain\", [True, False])\n",
    "tuner.choice(\"shrinkage\", [0.02, 0.05, 0.10, 0.15])\n",
    "tuner.choice(\"num_candidate_attributes_ratio\", [0.2, 0.5, 0.9, 1.0])"
   ],
   "metadata": {
    "collapsed": false,
    "ExecuteTime": {
     "end_time": "2023-09-04T23:26:31.970358681Z",
     "start_time": "2023-09-04T23:26:31.960991288Z"
    }
   },
   "id": "bc24715633aa6047"
  },
  {
   "cell_type": "code",
   "execution_count": 8,
   "outputs": [],
   "source": [
    "from sklearn.metrics import confusion_matrix\n",
    "\n"
   ],
   "metadata": {
    "collapsed": false,
    "ExecuteTime": {
     "end_time": "2023-09-04T23:26:32.020737552Z",
     "start_time": "2023-09-04T23:26:31.961199481Z"
    }
   },
   "id": "bc8014e8bdef35e2"
  },
  {
   "cell_type": "markdown",
   "source": [
    "## Define a classifier"
   ],
   "metadata": {
    "collapsed": false
   },
   "id": "b17c0fcbc348f93b"
  },
  {
   "cell_type": "code",
   "execution_count": 10,
   "outputs": [
    {
     "name": "stdout",
     "output_type": "stream",
     "text": [
      "Resolve hyper-parameter template \"benchmark_rank1\" to \"benchmark_rank1@v1\" -> {'growing_strategy': 'BEST_FIRST_GLOBAL', 'categorical_algorithm': 'RANDOM', 'split_axis': 'SPARSE_OBLIQUE', 'sparse_oblique_normalization': 'MIN_MAX', 'sparse_oblique_num_projections_exponent': 1.0}.\n",
      "2023-09-05 01:29:39,799 — absl — INFO — Resolve hyper-parameter template \"benchmark_rank1\" to \"benchmark_rank1@v1\" -> {'growing_strategy': 'BEST_FIRST_GLOBAL', 'categorical_algorithm': 'RANDOM', 'split_axis': 'SPARSE_OBLIQUE', 'sparse_oblique_normalization': 'MIN_MAX', 'sparse_oblique_num_projections_exponent': 1.0}.\n",
      "Use /tmp/tmpjrrwyrq5 as temporary training directory\n",
      "2023-09-05 01:29:39,808 — absl — INFO — Use /tmp/tmpjrrwyrq5 as temporary training directory\n",
      "Reading training dataset...\n",
      "2023-09-05 01:29:39,817 — absl — INFO — Reading training dataset...\n"
     ]
    },
    {
     "name": "stderr",
     "output_type": "stream",
     "text": [
      "[WARNING 23-09-05 01:29:39.8102 CEST gradient_boosted_trees.cc:1818] \"goss_alpha\" set but \"sampling_method\" not equal to \"GOSS\".\n",
      "[WARNING 23-09-05 01:29:39.8102 CEST gradient_boosted_trees.cc:1829] \"goss_beta\" set but \"sampling_method\" not equal to \"GOSS\".\n",
      "[WARNING 23-09-05 01:29:39.8102 CEST gradient_boosted_trees.cc:1843] \"selective_gradient_boosting_ratio\" set but \"sampling_method\" not equal to \"SELGB\".\n"
     ]
    },
    {
     "name": "stdout",
     "output_type": "stream",
     "text": [
      "Training dataset read in 0:00:00.238988. Found 53327 examples.\n",
      "2023-09-05 01:29:40,056 — absl — INFO — Training dataset read in 0:00:00.238988. Found 53327 examples.\n",
      "Training model...\n",
      "2023-09-05 01:29:40,058 — absl — INFO — Training model...\n"
     ]
    },
    {
     "name": "stderr",
     "output_type": "stream",
     "text": [
      "[INFO 23-09-05 01:39:22.7615 CEST kernel.cc:1243] Loading model from path /tmp/tmpjrrwyrq5/model/ with prefix 368dac13c43344a8\n"
     ]
    },
    {
     "name": "stdout",
     "output_type": "stream",
     "text": [
      "Model trained in 0:09:43.500027\n",
      "2023-09-05 01:39:23,558 — absl — INFO — Model trained in 0:09:43.500027\n",
      "Compiling model...\n",
      "2023-09-05 01:39:23,559 — absl — INFO — Compiling model...\n"
     ]
    },
    {
     "name": "stderr",
     "output_type": "stream",
     "text": [
      "[INFO 23-09-05 01:39:23.4231 CEST decision_forest.cc:660] Model loaded with 4230 root(s), 254876 node(s), and 10 input feature(s).\n",
      "[INFO 23-09-05 01:39:23.4231 CEST abstract_model.cc:1311] Engine \"GradientBoostedTreesGeneric\" built\n",
      "[INFO 23-09-05 01:39:23.4231 CEST kernel.cc:1075] Use fast generic engine\n"
     ]
    },
    {
     "name": "stdout",
     "output_type": "stream",
     "text": [
      "WARNING:tensorflow:AutoGraph could not transform <function simple_ml_inference_op_with_handle at 0x7f6362dc3740> and will run it as-is.\n",
      "Please report this to the TensorFlow team. When filing the bug, set the verbosity to 10 (on Linux, `export AUTOGRAPH_VERBOSITY=10`) and attach the full output.\n",
      "Cause: could not get source code\n",
      "To silence this warning, decorate the function with @tf.autograph.experimental.do_not_convert\n",
      "2023-09-05 01:39:24,785 — tensorflow — WARNING — AutoGraph could not transform <function simple_ml_inference_op_with_handle at 0x7f6362dc3740> and will run it as-is.\n",
      "Please report this to the TensorFlow team. When filing the bug, set the verbosity to 10 (on Linux, `export AUTOGRAPH_VERBOSITY=10`) and attach the full output.\n",
      "Cause: could not get source code\n",
      "To silence this warning, decorate the function with @tf.autograph.experimental.do_not_convert\n",
      "WARNING: AutoGraph could not transform <function simple_ml_inference_op_with_handle at 0x7f6362dc3740> and will run it as-is.\n",
      "Please report this to the TensorFlow team. When filing the bug, set the verbosity to 10 (on Linux, `export AUTOGRAPH_VERBOSITY=10`) and attach the full output.\n",
      "Cause: could not get source code\n",
      "To silence this warning, decorate the function with @tf.autograph.experimental.do_not_convert\n",
      "Model compiled.\n",
      "2023-09-05 01:39:25,229 — absl — INFO — Model compiled.\n"
     ]
    },
    {
     "data": {
      "text/plain": "<keras.src.callbacks.History at 0x7f634c28b010>"
     },
     "execution_count": 10,
     "metadata": {},
     "output_type": "execute_result"
    }
   ],
   "source": [
    "model = tfdf.keras.GradientBoostedTreesModel(hyperparameter_template=\"benchmark_rank1\", task=tfdf.keras.Task.CLASSIFICATION, tuner=tuner, l2_regularization=0.01)\n",
    "model.fit(train_ds)"
   ],
   "metadata": {
    "collapsed": false,
    "ExecuteTime": {
     "end_time": "2023-09-04T23:39:25.312735878Z",
     "start_time": "2023-09-04T23:29:39.800283800Z"
    }
   },
   "id": "2ece7637e8ac8300"
  },
  {
   "cell_type": "markdown",
   "source": [
    "## Run cross-validation"
   ],
   "metadata": {
    "collapsed": false
   },
   "id": "3bf4abdd1d1d2416"
  },
  {
   "cell_type": "code",
   "execution_count": 11,
   "outputs": [
    {
     "name": "stdout",
     "output_type": "stream",
     "text": [
      "51/51 [==============================] - 20s 389ms/step\n"
     ]
    },
    {
     "data": {
      "text/plain": "array([0.47896052, 0.64489603, 0.74254913, 0.80553971, 0.84718588,\n       0.87889757, 0.90307477, 0.92331753, 0.93942911, 0.95223575,\n       0.96335058, 0.97230146, 0.9795015 , 0.98473433, 0.98874747,\n       0.99327209, 0.9975213 , 1.        ])"
     },
     "execution_count": 11,
     "metadata": {},
     "output_type": "execute_result"
    }
   ],
   "source": [
    "y_pred = model.predict(test_ds, use_multiprocessing=True)\n",
    "cmc = calculate_cmc(y_test, y_pred)\n",
    "cmc"
   ],
   "metadata": {
    "collapsed": false,
    "ExecuteTime": {
     "end_time": "2023-09-04T23:39:45.268414242Z",
     "start_time": "2023-09-04T23:39:25.315681690Z"
    }
   },
   "id": "fe9bbe60004af709"
  },
  {
   "cell_type": "code",
   "execution_count": 12,
   "outputs": [
    {
     "data": {
      "text/plain": "<Figure size 1000x600 with 1 Axes>",
      "image/png": "[encoded data removed]"
     },
     "metadata": {},
     "output_type": "display_data"
    }
   ],
   "source": [
    "plot_cmc(cmc, f\"CMC curve {N_GRAM_SIZE}-gram with {NUMBER_OF_FEATURES} features\", f'plots/{N_GRAM_SIZE}_{NUMBER_OF_FEATURES}_boosting_cmc.png')"
   ],
   "metadata": {
    "collapsed": false,
    "ExecuteTime": {
     "end_time": "2023-09-04T23:39:45.857200066Z",
     "start_time": "2023-09-04T23:39:45.269569116Z"
    }
   },
   "id": "e4bcf333cba90bc4"
  },
  {
   "cell_type": "code",
   "execution_count": null,
   "outputs": [],
   "source": [
    "model.evaluate(test_ds)"
   ],
   "metadata": {
    "collapsed": false,
    "ExecuteTime": {
     "start_time": "2023-09-04T23:29:34.556869728Z"
    }
   },
   "id": "55d7c6d866ad01eb"
  },
  {
   "cell_type": "code",
   "execution_count": null,
   "outputs": [],
   "source": [
    "import numpy as np\n",
    "import seaborn as sns\n",
    "cm = confusion_matrix(y_test, np.argmax(y_pred, axis=1))\n",
    "class_names = np.unique(y_test)"
   ],
   "metadata": {
    "collapsed": false,
    "ExecuteTime": {
     "start_time": "2023-09-04T23:29:34.557026993Z"
    }
   },
   "id": "f645fb5e2889d693"
  },
  {
   "cell_type": "code",
   "execution_count": null,
   "outputs": [],
   "source": [
    "plt.figure(figsize=(18, 16))\n",
    "sns.heatmap(cm, annot=True, fmt='g', cmap='Blues', xticklabels=class_names, yticklabels=class_names)\n",
    "plt.xlabel('Predicted labels')\n",
    "plt.ylabel('True labels')\n",
    "plt.title('Confusion Matrix')\n",
    "plt.show()"
   ],
   "metadata": {
    "collapsed": false,
    "ExecuteTime": {
     "start_time": "2023-09-04T23:29:34.557128284Z"
    }
   },
   "id": "26e52e10beacbc38"
  },
  {
   "cell_type": "code",
   "execution_count": null,
   "outputs": [],
   "source": [
    "plot_cmc(cmc, f\"CMC curve {N_GRAM_SIZE}-gram with {NUMBER_OF_FEATURES} features\", f'plots/{N_GRAM_SIZE}_{NUMBER_OF_FEATURES}_boosting_cmc.png')"
   ],
   "metadata": {
    "collapsed": false,
    "ExecuteTime": {
     "end_time": "2023-09-04T23:29:34.557229696Z",
     "start_time": "2023-09-04T23:29:34.557191897Z"
    }
   },
   "id": "fea7b1854d5c1bc9"
  },
  {
   "cell_type": "code",
   "execution_count": null,
   "outputs": [],
   "source": [
    "template_model =  tfdf.keras.GradientBoostedTreesModel(hyperparameter_template=\"benchmark_rank1\", task=tfdf.keras.Task.CLASSIFICATION)\n",
    "template_model.fit(train_ds)"
   ],
   "metadata": {
    "collapsed": false,
    "ExecuteTime": {
     "end_time": "2023-09-04T23:29:34.558184366Z",
     "start_time": "2023-09-04T23:29:34.557403876Z"
    }
   },
   "id": "23ce775770841993"
  },
  {
   "cell_type": "code",
   "execution_count": null,
   "outputs": [],
   "source": [
    "template_model.compile(metrics=[\"accuracy\"])\n",
    "y_pred = template_model.predict(test_ds, use_multiprocessing=True, workers=5)\n",
    "evaluation = template_model.evaluate(test_ds)"
   ],
   "metadata": {
    "collapsed": false,
    "ExecuteTime": {
     "start_time": "2023-09-04T23:29:34.557502985Z"
    }
   },
   "id": "cee2125b52ae9bc7"
  },
  {
   "cell_type": "code",
   "execution_count": null,
   "id": "initial_id",
   "metadata": {
    "collapsed": true,
    "ExecuteTime": {
     "start_time": "2023-09-04T23:29:34.557576428Z"
    }
   },
   "outputs": [],
   "source": [
    "\n"
   ]
  },
  {
   "cell_type": "code",
   "execution_count": null,
   "outputs": [],
   "source": [
    "tuner.search(train_ds, validation_data=val_ds)\n",
    "\n",
    "# Get the optimal hyperparameters\n",
    "best_hyperparameters = tuner.get_best_hyperparameters(num_trials=1)[0]\n",
    "\n",
    "# Train the best model on combined training and validation data\n",
    "best_model = tuner.hypermodel.build(best_hyperparameters)\n",
    "combined_data = train_ds.concatenate(val_ds)\n",
    "best_model.fit(combined_data)\n",
    "\n",
    "# Predict on the test set\n",
    "y_pred = best_model.predict(test_ds)\n",
    "print(y_pred)"
   ],
   "metadata": {
    "collapsed": false,
    "ExecuteTime": {
     "start_time": "2023-09-04T23:29:34.557645893Z"
    }
   },
   "id": "ccf8a5a8d0fa71b2"
  }
 ],
 "metadata": {
  "kernelspec": {
   "display_name": "Python 3",
   "language": "python",
   "name": "python3"
  },
  "language_info": {
   "codemirror_mode": {
    "name": "ipython",
    "version": 2
   },
   "file_extension": ".py",
   "mimetype": "text/x-python",
   "name": "python",
   "nbconvert_exporter": "python",
   "pygments_lexer": "ipython2",
   "version": "2.7.6"
  }
 },
 "nbformat": 4,
 "nbformat_minor": 5
}
